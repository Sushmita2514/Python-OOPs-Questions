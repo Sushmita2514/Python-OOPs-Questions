{
  "nbformat": 4,
  "nbformat_minor": 0,
  "metadata": {
    "colab": {
      "provenance": []
    },
    "kernelspec": {
      "name": "python3",
      "display_name": "Python 3"
    },
    "language_info": {
      "name": "python"
    }
  },
  "cells": [
    {
      "cell_type": "markdown",
      "source": [
        "# Python OOPs Questions"
      ],
      "metadata": {
        "id": "-GTwqQhvHnMQ"
      }
    },
    {
      "cell_type": "markdown",
      "source": [
        "1. What is Object-Oriented Programming (OOP)?\n",
        "- Object-Oriented Programming (OOP) is a programming paradigm that organizes software design around objects, which are instances of classes. These objects encapsulate data (attributes) and behavior (methods), enabling modular, reusable, and scalable code development.\n",
        " - **Benefits of OOP**\n",
        "   - Modularity: Code can be divided into manageable pieces.\n",
        "   - Reusability: Classes and methods can be reused across projects.\n",
        "   - Scalability: Simplifies adding new features to large systems.\n",
        "   - Collaboration: Facilitates teamwork by dividing tasks into object-oriented components\n",
        "\n",
        "2. What is a class in OOP\n",
        "- In Object-Oriented Programming (OOP), a class is a blueprint or template for creating objects. It defines the structure and behavior of objects by specifying their attributes (data) and methods (functions). Classes are fundamental to OOP, enabling modular and reusable code.\n",
        "- **Key Characteristics of a Class**\n",
        "  - Template for Objects: A class acts as a design or blueprint for creating objects, which are instances of that class.\n",
        "\n",
        "\n"
      ],
      "metadata": {
        "id": "zc95k2X0IHKv"
      }
    },
    {
      "cell_type": "code",
      "source": [
        "class Dog:\n",
        "    def __init__(self, name, breed):\n",
        "        self.name = name\n",
        "        self.breed = breed\n",
        "\n",
        "    def bark(self):\n",
        "        print(f\"{self.name} says woof!\")\n",
        "\n",
        "# Creating an object (instance) of the class\n",
        "my_dog = Dog(\"Buddy\", \"Golden Retriever\")\n",
        "my_dog.bark()  # Output: Buddy says woof!\n",
        "\n"
      ],
      "metadata": {
        "colab": {
          "base_uri": "https://localhost:8080/"
        },
        "id": "-_al2X1fK0N2",
        "outputId": "f2f480b6-9a35-4317-bf78-04852e9261f0"
      },
      "execution_count": null,
      "outputs": [
        {
          "output_type": "stream",
          "name": "stdout",
          "text": [
            "Buddy says woof!\n"
          ]
        }
      ]
    },
    {
      "cell_type": "markdown",
      "source": [
        "   - Attributes and Methods:\n",
        "    - Attributes: Variables that store data about the object (e.g., brand, model).\n",
        "    - Methods: Functions defined within the class that describe the object's behavior.\n",
        "\n",
        "- Inheritance:\n",
        "   - Classes can inherit properties and methods from other classes, forming a hierarchy. For example, a Vehicle class can be the parent of a Car subclass.\n",
        "- Encapsulation:\n",
        " - Classes encapsulate data and methods, allowing controlled access to attributes through public or private methods.\n",
        "\n",
        "\n",
        "\n"
      ],
      "metadata": {
        "id": "C9qBmmFGLXQu"
      }
    },
    {
      "cell_type": "code",
      "source": [
        "class Person:\n",
        "    def __init__(self, name, age):\n",
        "        self.name = name\n",
        "        self.age = age\n",
        "\n",
        "    def introduce(self):\n",
        "        return f\"My name is {self.name}, and I am {self.age} years old.\"\n",
        "\n",
        "# Create an object (instance) of the class\n",
        "person1 = Person(\"Sushmita\", 20)\n",
        "print(person1.introduce())\n"
      ],
      "metadata": {
        "colab": {
          "base_uri": "https://localhost:8080/"
        },
        "id": "SSYmFx8OL5bP",
        "outputId": "5f75b583-8738-44e9-c510-32e974f40ca8"
      },
      "execution_count": null,
      "outputs": [
        {
          "output_type": "stream",
          "name": "stdout",
          "text": [
            "My name is Sushmita, and I am 20 years old.\n"
          ]
        }
      ]
    },
    {
      "cell_type": "markdown",
      "source": [
        "3. What is an object in OOP?\n",
        "- In Object-Oriented Programming (OOP), an object is a self-contained unit of code that represents a real-world entity or abstract concept. It is an instance of a class and contains two main components: attributes (data) and methods (behavior). Objects are the building blocks of OOP, enabling modular, reusable, and scalable programming."
      ],
      "metadata": {
        "id": "Q8n55pS5MQj-"
      }
    },
    {
      "cell_type": "code",
      "source": [
        "class Dog:\n",
        "    def __init__(self, name, breed):\n",
        "        self.name = name\n",
        "        self.breed = breed\n",
        "\n",
        "    def bark(self):\n",
        "        print(f\"{self.name} says woof!\")\n",
        "\n",
        "# Creating an object of the Dog class\n",
        "my_dog = Dog(\"Buddy\", \"Golden Retriever\")\n",
        "\n",
        "# Using object attributes and methods\n",
        "print(my_dog.name)\n",
        "my_dog.bark()\n",
        "\n",
        "#Dog is the class.\n",
        "# my_dog is an object (or instance) of that class.\n",
        "# name and breed are attributes (data).\n",
        "# bark() is a method (behavior)."
      ],
      "metadata": {
        "colab": {
          "base_uri": "https://localhost:8080/"
        },
        "id": "6p9lL1x_NRgm",
        "outputId": "9e7d80fb-531e-47b1-dfae-4e3457a06253"
      },
      "execution_count": null,
      "outputs": [
        {
          "output_type": "stream",
          "name": "stdout",
          "text": [
            "Buddy\n",
            "Buddy says woof!\n"
          ]
        }
      ]
    },
    {
      "cell_type": "markdown",
      "source": [
        "4. What is the difference between abstraction and encapsulation?\n",
        "- Abstraction and encapsulation are two foundational concepts in Object-Oriented Programming (OOP). While they are closely related, they serve different purposes and address distinct aspects of software design.\n",
        "\n",
        " - **Abstraction** - Abstraction is the process of hiding unnecessary implementation details and exposing only the essential features of an object or system. It focuses on what an object does rather than how it does it.\n",
        "  \n",
        "  - **Encapsulation**: It involves bundling data (attributes) and methods (operations) into a single unit, typically a class, and restricting access to the internal details. Encapsulation focuses on how an object achieves its functionality, ensuring data security and integrity through access modifiers like private, protected, and public.\n",
        "  \n",
        "  \n",
        "  \n",
        "  - - ![Capture.PNG](data:image/png;base64,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)"
      ],
      "metadata": {
        "id": "YQr0jVHMNjxW"
      }
    },
    {
      "cell_type": "markdown",
      "source": [
        "5. What are dunder methods in Python?\n",
        "- Dunder methods, also known as magic methods or special methods, are predefined methods in Python that begin and end with double underscores (e.g., __init__, __str__). These methods allow Python classes to emulate built-in types and define custom behavior for operators, functions, and object interactions.\n",
        "\n",
        "- Key Features\n",
        "1. Syntax: Dunder methods are defined within a class using the format __methodname__(self, ...).\n",
        "\n",
        "2. Implicit Invocation: Unlike regular methods, dunder methods are invoked automatically by Python in response to specific events or operations. For example:\n",
        "\n",
        "- __str__ is called when using print() or str() on an object.\n",
        "\n",
        "- __add__ is called when the + operator is used.\n",
        "\n",
        " - **Common Dunder Methods**\n",
        "\n",
        " - ![Capture 2.PNG](data:image/png;base64,iVBORw0KGgoAAAANSUhEUgAAAugAAAFcCAYAAACa6UtuAAAAAXNSR0IArs4c6QAAAARnQU1BAACxjwv8YQUAAAAJcEhZcwAADsMAAA7DAcdvqGQAAIuhSURBVHhe7b35uxbFmf///R+SfJJcST6ZmcyYyTLJJNFEB1dUZBcUiagogriguBH3fYtEJYzBuIvBQY3BuKKouGBQVASVRVbZt8NhFYJi/FxXfc+rnPuxTlHPcp7n9KEb3j+8rvN0VXXtfd/vrq7u8/9t377ZCSGEEEIIITqWhQs/cP/v/322CxLoQgghhBBC7AYk0IUQQgghhMgREuhCCCGEEELkCAl0IYQQQgghcoQEuhBCCCGEEDlCAl0IIYQQQogcIYEuhBBCCCFEjpBAF0IIIYQQIkdIoAshhBBCCJEjJNCFEEIIIYTIERLoQgghhBBC5IgOF+inX3GV+8q+nVrxrU6Huctv+71bt3518pz25KmXXvBl3nrvfcn4erA2/fKYX7tlK5fuEn/PI4/4+G8f2NlNmzF9l/gUGzetd0uWL/F/LYxy2pJHrWTRJ2LPh3nIfGTuhHA9//7+sW7zlubkeUIIkRX4zZ/06LOLXYIs/Gd7kpWPF8Vktwh0HPjEV152i5Yucs+9+oo7+5rr/MXT+/Rhbm3TquR57UWWAh0eefqpVnEbNja5Y4YNb7NxsHry18Ik0EWeMIE+cMTF3ilyPTOXDjp+YPJaEEKIrDGBfsTJg93cBXP9scECWp4XDiTQRchuEejxBNy2bZO77b77vFO/Ycwffdiadat2uZgIW94StvXjjT6ceMJWrlnuhQFiv3nDulJ6IN2bM95xj0181s2eP9c9+eKkXcQoaV55828+DWmtTOpF3pTJSjZp3p87q3SeQZu+9suDfLsGXXyZ27J1Qynu9XemuW8ecKj7zkGdd2l3qlwr80+PP+7ryV9rs/XdG+++7fOxNnGO5Qnc5NAXxJOOc8P4WvpEiGowt5iPzMsw/M133/E34YQz1+w6tXgLW9+81h/btc41Rp5Tp7/dKk14fadu4ElHfLnrIYzn+o2vB8v/r5Oed/MWz9/lfCFEcTCB3n3IGSUbE4PNIV34hNqeWputwg5gT7Ab2AfsiKVN2Sd8OeHAb+zJwiWLSueQL76cePPfsT1K6SPZp72XXAh0WLxssftpz76u66lDXVPzmmQ6wrjwuIgIJ55z/vnQLl5gwr8d3s1N/2CmTz9/8QJ3QL8BpTg49MRT/F8To++8P8P9R/ejvcD+Ydde/i/ncC4XHxc5+Xfqf2Kr80KsXhfedLNPO2P2+6W4q0ff7n7Utbd/ShC2p1y57835wJcZ1tnaTDlf/9XB7sBff1EX44Ibf1u6KZjw/ET3jf0P8eH/96Aj/F9rD/G19IkQtWDXIPMyDH912ht+ng67+tpkGguz+UYcgt7mIcflrm/mNnOc83BUbKUhnOuHPPh97LDhJSF/1/jxPo4b5B8c1bNVPOff8dBDpfh/O6K7++p+B7pzr7/RO1GrrxCiONQi0Fnkwq6c/JuLS6L6zCuv8WHEcXz2Ndd7e4FdwD5gJ/7y3Be2x+yT6QPSwSm/ucR1HXx66ZhzWADjHPPfvzr216V4CO0VaciX/GWfRG4EuonhUIzG6QiLBTqT9q2Z7/r4R5552k9gRDGTG+HK8f2PPeaPV61d4XoOPctfFIgD237yi6OPKwnYDz6c7R35iN+OLNWJ9Nfe/gf/CD91wVu92LbDxWrCgzts9qVTj1vuubfUnmrlcswdM+XyNyyHsItu/p3Pg4saY/DvXXq4eYvmuZkt4p4bFG5yaCvnsOpIuazsc1FX6xMrS4hq2DXIHGQ1CEbefbefjziV5197tZSGuRufFwp05t/gSy/31wMrTZaG62nK22/6dHMWzHU/63Vs6V0P8qecM6682l8PzGfmNfObJ3F2/dpNP3lgIxD9L/1tir+RJn8cMdcG5z/4+F98npOmvFaqrxCiOJhA5zpmcYyFMOPuhx8upePmHlvB0/tR99/vfxNGHDbn5y3+GXvBsflssyVmn8yHYz8Q+9ix3955l18V50kgaU668GK/gGZ2joUL8iMNaQlDiFMOaTiH/GWfROEFOmEWH4atWL3c7X/s8e6wEwe51WtXltKw+mZilMdL3zusq+t39rklgfHQE391+/Xt7+uybMUy/9cEsOURY/XicRZC+PCBp3rxzB5cu5goz9pTrVz6opxAT/WJhf3Pk0/4c/hr8Ty263fOeb4N02ZOr9onFiZENex6Y+4YrHDjxHjEi0MJr8n4vFCgs7LEynucBtFOPhbOzTeOlGuK3/F54XW/dMVSN+D8Eb5OpJ089XX/uNjy4+VtE/N2HVIn8tS1IEQxMYHOYhWr4ghc45mXJ5fSIXoJwwaACWGLR0CTF4tc9z76qBf4lfQHNoOneGzx49jqYT6dtGE8oCvwzfhofHXoz2WfRG4Euk3UcDLH6QirVaDHF4elsf2xTHBLz+Oj8C4bBl10qVu+8guBbmVaHjFhvUyUP/3Si/7O2cQ65Vl7qpXLPvp6BDplxOeEaSa+8krVPgnPE6ISNo+ZX6l4SKWxMJtvqXltaS679bZSGIRzPHUe8zq8ZhHpbC/jWrObiIMHnOxXvSwvnsLF12G40iaEKA7lfH8KnqQheIHfFs4W1J/17ldahWf1nBt/syspu4Y9Ce1RXA/SYmt4EmjnpNJYHrJPIjcvif7unnv8ZEw96uHYVoIrXSBhGI+hWMmLP33IIyLKYfKzZYWLj7tsW1XjURQrbTyeip295RFDeZbGtrXwJQvqYu0JL95q5XJcj0C3lXArE6wNbA34cOGHVfvEwoSoRuoajEmlYfWblSGbb6l5befZ42HCuFbYomWr5mynIZ9nX3m5dJ69y8IXodatX+NfyrKXvrAh7AclX7aS2fVie0SBLV9PvPC8z8fChBDFIRa9qTTATTpbVPCNEG45ZRsK20vsfbJa9Efo4zmO60Fas112jm1jCbfBWB6yT2K3CHR7RMMjG7Zj9DnzbD8Rw5cleKxDGHu/uWj+8Kc/+bvZShdIHEYZ5MExeeDIufskjDguCLsQWfFm28ejzz7jv7oS7mG1Mq2cGPIP0/A4nTLCCzy8eKuVS3oT6Dfc8cfSY3nKCQ2AlW1hCH/Et+XLMf1HPuxbJ49qfWL5ClGN1DUYw1cHuBnFAXLzyQvcR548pNV8S81ry5trnpt35jJfNCLMnkq9/d67fq5b3sxntsSQNytMpCEtjve9//1aAltvyIPrjC1p7DNlDz1fa0DMI9y5Dvn6ktVFCFEcTBizZZSto7Y9xEDc2p5x7AcvhcYvjWIHsD0PP/WUf6LNdhOOWc1mdZ2nzrHtC318WI9QoGObWLwjDVtdf33uhT7MPkkb2kLZJ7FbBDoTMoQVrzHjxvkXJywdDtkcOSDejxt+fpsEOhcWE9ry+O7BR7qzrrrW/zZxwB2pvdxhIJ45t16Bbp9WDD+5GF+8lcolnrwom/DwAg/zgDiMC7nzSYNKeWJUEOeWby19IkQtpK7BGG4K7xw/vvRlIf5eftsof14tAp0nPqEd4GtKODZL9/Ibf/OPoi2erVrhP0nCmXLTavHQ96xz/NYX4nG08fnj/vrX0pMtIUSxMGEcXvMhLH7ZC6Kpl0b5G+sPbMifn322tA331Ten7mL7ahHo2JfTLruyZA/xzzffdVfJXsW2UPZp76bDBXpb4fG0PaKuFx5P2bfEU/FAGi4o/qbisyKrcjEIbGMJX3oJqaVPhGgvmIfMt3LzMSYW/9XsAHGV5jPXA9cZf1Px1c4XQux9YC8a1R9GKL7bag9ln/ZOci/QhRB7H7FAF0KIIhOvjgtRDQl0IUTueHfWe347yyW/uzUZL4QQRQJbhk3DtqXihYiRQBdCCCGEECJHSKALIYQQQgiRIyTQhRBCCCGEyBES6EIIIYQQQuQICXQhhBBCCCFyhAS6EEIIIYQQOUICXQghhBBCiBwhgS6EEEIIIUSOkEAXQgghhBAiR0igCyGEEEIIkSMk0IUQQgghhMgREuhCCCGEEELkCAl0IYQQQgghckRZgU6EEEIIIYQQouNJCvRUoBD1UG6SCSFERyJbJIQoChLoInPkFIUQeUC2SAhRFCTQRebIKQoh8oBskRCiKEigi8yRUxRC5AHZIiFEUZBAF5kjpyiEyAOyRUKIoiCBLjJHTlEIkQdki4QQRUECXWSOnKIQIg/IFgkhioIEusgcOUUhRB6QLRJCFAUJdJE5copCiDwgWySEKAoS6CJz5BSFEHlAtkgIURQk0EXmyCkKIfKAbJEQoihIoIvMkVMUQuQB2SIhRFFoWKB/9tkOt2PHVrd9++a9BtpLu1P9IXZFTlEIkQdki4QQRaEhgb5z5/akgN1boP2pfhGtkVMUQuSBttqiHZ9sd2ua1nn4nUojhBBZULdAZwU5JVr3NrSSXp1aneLoseNcz6HD3MfbtibjQ5qa17vuQ850r771VjIeHvjLBDfk0ivdtu0fJ+ND3ps7x/2kRx//t5a89wSq9Xee+6Etc2VvJpzXqfi9jVpt0YbNG9yQy65yX/vlQe6HXXt5vrH/Ie7W+x5wn+6szeaHfY/A/2nPvu75KVOSaWuBc8mDvFLxMe0x9m2xoVlQSxuuGDXak4rLgo4urz1otM5FbPOeQN0CPYttLdNmTnffPrCzG3zJ5W7btk3JNOW45d573Vf27eQmPD9xl7gX/zbFDb/2Brd+w9pd4hqFfkj1j/iSLAT6pi2b3LV/GONmzf/QH6cc4ItTp7rb//RQTStfoSOI895Tqdbf7d0PbRUYldgbBHp7tLEWgbM3UYst2rx1k+tz5nB38m8u9TepFr542VK3f78Bbsy48a3SlyPs+6IK9LbY0CyopQ3jnnjSk4prK7WMU3uW15420Ui1oS11bvR80X7ULdBTYrVRVq1d4Z54YZKb8vabbRbo78+d5R6b+Kxb8NGCXeIQ711PHeqa1q/ZJa49SPWP+JJ6BDqrVOs3NrvP/vGpF4oYDf5aWsJxnjgOmL1gnvtRt97ukWeedc2bmt3nn+/0+dhvO8/yWtfc1GolLHQEYd72m3NCwrqQzsJjRxaeH9clBXVO5UU+9Ad1tjS15Ec86VLprb+3fLy5lCYUg2E/WFil/OL4sI/4zdgwRoxVWE6YJiyL32EZ/GVlkz6wuiOmrH/jvgfrq3i8Cae8cHxS58eQJpUfeZEnYTZvCQ/zD/vDsPqF5Vsf3nTnXa7LoKFeGMZxpK/W/+Rdi8DZm6jFFj0+aZLbr29/t2LN6mRcp/4n+jG2MMaV/q5kU4iPRU+1uRHPzWpirtrY2xwNzwnD+Msx5Ya2xuZZOLetzal62zVC3S1tXG6M5WfnWHjYBvIgTTzvOTeuh6WNx8Sw8sK8qHfKj6TOtfLCPgvHKkwfxoV5cl45m2j1j/Mjr0p+oFwbwjobHHN+2EdtOZ+09dRR1E5uBPrU6W95gQ38tvCm5rWu+5Az/MrFtzod5lfJD2j5bUJ8w8Ym9+zLk0vnLl62uHTuh4vmuX/v0tOfY/yoa2+3aOmiUpr2INU/4kvqEegYZBzhRSNvdQccN8D1H36Bf8TM6hUXOhe9OTy2YPAImvH9XueupUeyseC/5vYxPt1ZV1/nww8ecLJbtmqlLzt0BGHeGFa2eRAHVs6519/kz2OF6ftdergTLrjI892Dj3RPv/yyjyPvgwcMbOEUN/y6G90v+hznBl18uReV1maDNt332ASf1+BLrvB5/bjb0W7m3Nk+njoddPxA/5iRfE688GL3nYMOdxf+9ndJBwRr1zf5lcB9juzh88Tockw48fQPfUz7Op802POtTp19PeI+Jj31pm8RL/Qh9TjunPNL7Vm5drU7atDpvhzKoy3nXHuj+/uObb7ejA19Rx/y6NzqaVxyyyh3wx13lo75/YOjerolK5b7Y/4yZvMWLyrVnXHsfcY5vo9pp/VX3J+kIy+L53zqDqnzYyw/xpf0lt+bM9718fQHbWWuIqqZN/RHt8Fn+LyJpy42XpXGm7lLPzO+bLEgnDlerf8tnvOYH//Z6xi/Csz5zOuwPXsr1WwR4zL0iqv9XEzFM3YmUuu1KcRVmhsWz7XEnGQsyYctN+UEei1jTznM+/C8MMyuCWwEc2zOwvk+jHbVYpPJA9uHDcGWcJ3QRuxLXK7BXD/7mht8vanvr4493ufNNU48ZdIG4mhTv5b6ffOAQ31bbd7TBuB3teve+glbRJ5cQ33PGu7Wb2gu60c4LyQsz/qsnB2p5ANSNrGSXSC/an6gXBvCOleat7WcTx0R74wz59Ju7CJhxNXjq0Sa3An0boNPb5mYX25xMYHOCvjyVcvc/MUL3M96H+senDDBx5tAv/fRR90/H9olucVFK+i7l3oF+rcPPNyNeuDBkvF/6Y033M+P7uedV+zw4uM4P1YFMBqsRhJHnjia2+4f648pr5wzNTjnvx8c528WMWZLVq7wv02kAb8PHzjEr0qMnfC4O2nExSWjRD16nX62F/WW3iA9RjLM655HH/NiwYwedcKZWX5zF7VcC72OdTPmzCqdY+z87BN/E3HKRZd5gUwYf4ddc70PJ57+QQA+NXly6Tx+Y6DJO+6HkXff605tuTatfP5yTD2tvLB+rJocecppftWRY/IhP/LlOOax555z/c+90K/GbNy80TtOhMJzr73m4+k3+o9+pO7Mj+mzvphbNp7WX29/8J539jbe8OeJE72ooB+qnW/nGDY/LD2QHyIKZ4vzYm4u+t/y6A8EFavglh/9gWBhHlcbb47D+ctxpf63eIQRYsPiz7vhZt9O6k/Y3k41W0Rf0+f0fSo+pF6bUm1uWHx47TLHEM7lrp9axp45GrcrDLNrYtp7M0vx4RwkH+LL2WTsIb8ff+GF0vlcL5xTrj8JD+vNjQ/7/OMyaYvNe2wvdsHmfSgea7nuu592Vknc2zVE/3Ec27wUYXnWZ+XsSDUfENvE9vADqTaEda42b6udz5jgI6a8/XYpnjkTz/VafZUoT24EunH65VclBfpNf7zTh9nxyLvvbnXekuUfuf/o3kcCPYfUK9Dtgrf4MCw2IimjEuZnYRgMjCBC6tizz2tldMrlbbw7+wPvGPjLMUb2iJNP83lxDmD8WAHCEL0ybZpfvcFh1fqIzx6H4oQuuGlkqf6pOpWrJ9BGbh5YEQnDOSac+FT/8JswHEuYP6soCAT2IVpbAZGB81i7fl2yPB6LWv7kQ36cF6YxWDXDObFSzjiw8oJoZ2WavmNF3VbYU3UPw8Y8NN4NHHGJW71ubamuk1vEBCuAiIlq51uYQX5282BhzCVbTQ0dGJijZY5Y+cDqmTlCKDfexIX1qdb/pCGecbO8gXmoFfQvaU+BbrTVplSbG+WuXVanU9ePzY1qY0+94naFYan5H4aF7bH4MIy2/ddxJ/hrwuK52eBGI9Wf5eqNHcDOYktTZQL52fUYXnuVrvuFSz9KlkfbbPsG6cvZVCMsr1qfVfMB5WxiI34glSass1Fu3lY7P2UL+U0YcbXUUdRGYQS6CXIJ9OKRB4HOtg6MEI/iWNXlETaPOM3oVMobMJQ4TVbQzcgSb1sQODcE50o6Vph4LMsjPtLy2NK2mITgrFiB5rEhzvv8G2/2tMUwhxBHPmH/AceEE0//xEYbCCMuzJ86UBcee8Zt5THoR8uXJcsLIR/yI99U/NZtW/zjUvqOVSNWtRDrxww71y1dtcL/tdX0cGzt/DCM3zx+j+vKylH86D51voWFcam+MogL42kjj+R53B3XgUe/1cabPML6AL/L9X9Tc7OPj+dCOK/D8L2VaraIa5YbHlYUYzEFvAPBNc0KbL02pdrcID51LZW7fmxuVBt7u67DNGFYav6HYXF+EIZRfnw+pMqFcvUO2w9mr8I0YVnkb31OOeWu++mz3k+WF0I55WyqEZcXtzkMq+YDKCcc0/bwA6k0YZ2rzdtq59M++x1CGHG11FHUhgR6O5DqH/EleRDo/A4fNQKGyQxNpbzt8XL4mBVYAWM7C9sxLIyVD3tBJlw9BlZQWGUI91kbCE8e9ZLGwljpaYthDqEOrBqZoDU4Jpx4+oT9oQhji+c3YZQd5m+rXaxoh/lRN9pZrjwe/dp+UvIhP/IN04QwJpff9nu/mvjmzBl+ZYbf459+2veP7UcPx9bODcNYyWHljhU8i2dMqCdjVO18CzPCsbAwxBorZDw6Dx0YsDKFKKANFgY2J6qNN8dhfar1v8VzThhP+exnDa+jvZlabBFbsrjpDrdJGGyXCK+femxKtblB/L7B1i6DsU9dP7WOvQkoi7dVTwvjb6VrImyPxYdh3FizxYWtLhaP7UQExnWDuHyDvGg/doPfjEW8NYInDbaKG157la77bX//OFke5dgWlUo21QjLq9Zn1XxAbBOr2YVU/eKwVJq4zpXmbbXzU7aQ34TFfsPiU2GiOnuFQB89dqz7ee9+7f5yqJHqH/ElHSHQcWo4B3tBM84vNkofLl7oX2Axo1Mub1ZAWDVnP7TtWzR4BHnICYNa5tyk0mobe7gxsMSxChzvd2RfXi0CnVUO9qTanuu2Gj3qc9mto/yKNEKSMP5yTDjx9MlX9zuwVH/gNy950j9x/rzERHssP9pFv9jLTXF5rHrz1IEVJI65oSE/tphwnIJ+YHWRtuNUCcPos3+RFXTECGHh2Nq5YRj15zG57aelfowjL13ZXtRK51uYQX7MDx5VW1+xF5eVsZRAt/5gz7/tI+YpDC+MIeqrjTdhiI3wBqpS/1s8/W3Ckr769Xkj/B5Z5jXnTXz1Vbdq3RofvzdSiy1ivFhRZHzsnQLGk60SPMGw/ma+1GtTKs0Niw+vJa4ZVlTJg7wIC6k29oQhwsJ97S+8/rp/4ZJ2cFztmgjbY/FhGGm4RnkCwbymDjffdY+3MVZGTFxv6sYK8vEtdec3+dKGsK8YEwS8jUN47VW77uPyuIa4pmw/e8qPxITlVeuzaj4gtont4QdSbYjrXGneVjs/ZQv5TRhx1erIzdPfpk8v3RSJ8tQt0NvzO+gmunlzOAShvm79mooC3b6dHp8bCvXpH/ACQ18f/vX9D3ETX5lcimsUfQe9Oh0h0LnoMXqMseUR5ocB5IU+HjPyggvO7tlXXnX7HNHdpyuXN/sgeRQYzq2wDL4RjrPgcTXw21Z7cFD2uJK8ce7UISVQMeBsVcBhsmIEGEicNoaxmtEL8zKsfB75Irr5yzHhxNNuyuTtevqB+v3TIV280yA+zh+Dztv/1h7+XjX69pLjpA04Z8KpP+WR3hwB+eFs6D/KJiyGFXL2bIZbDBgTnHR4YxOObbkw2vGvnbv58ba+56ah1vNjyI8VScaZ/HBq9o340IEZNqbMH/qDv3c9/Khfwa823pzPVhzKoL8Yg2r9b/E8RqfN1JXv2Nu8tn4sN1/2Bmq1RVwjiGT6EpvBXObaMFFCmnptCudWmhth/P9pKZ9rF8HE/CcP8rJ6GtXGnjTcBLCgQH25xngRFRFPXYmvdk2E7bH4OAxBSb70178cdpT/wgvtsDJiqDcvhZKeenM9sP2CfIgnX/r17kf+XLqWaWNoV+Jrr9J1zznXjbmjZKPiL8Kk/Ijla4TlVeuzaj4gtonV7EI8jyyPMCzVhrDO1eZttfOBF0SZl7QH+G0vjVarI/mRb5ifSFO3QNd/Ev0C/SfR6tTqFDsCHjmyOmFOtj0gL/Isly+PYTFQlB3HxWC8WH03R90eWPn8TcUD5cb1TxlaqJZfLeV1FPQj/VlL39dCtbFOQd+yKmWCIo5r63jX0v/lytvbaastsvlTabwbsSmV5obFt2V+VBt7m7/km4pvBETw7+69r9W1hkBl+w1Pg8K0MdSXeleqF2noi7htsXiEatd9LeW1J3bN1mqH2jru9dDIvAWbS43kISpTt0CHnTu3l4RquZVsvjs+a96c5Ao5pLakdASV6stWGLbaxHEQbq2h/al+Ea3Jk0AXtYFD4Ws1rLTZiroQRUe2KDsQlKz0sj8cAYxoC7c+pM5pBMQropftMKxSp9IIUWQaEujACnIW//Y/z9BerZzXjpxi8eCFLxzriJtvKT3+FaLoyBZlC6vo7PdmGwoLWvyDnqnvfvlN7/aEGwLe0YDZC+Yn0whRZBoW6EJUQ05RCJEHZIuEEEVBAl1kjpyiECIPyBYJIYqCBLrIHDlFIUQekC0SQhQFCXSROXKKQog8IFskhCgKEugic+QUhRB5QLZICFEUJNBF5sgpCiHygGyREKIoSKCLzJFTFELkAdkiIURRkEAXmSOnKITIA7JFQoiiIIEuMkdOUQiRB2SLhBBFQQJdZI6cohAiD8gWCSGKggS6yBw5RSFEHpAtEkIUBQl0kTlyikKIPCBbJIQoChLoInPkFIUQeUC2SAhRFMoKdCKEEEIIIYQQHU9SoKcChaiHcpNMCCE6EtkiIURRkEAXmSOnKITIA7JFQoiiIIEuMkdOUQiRB2SLhBBFQQJdZI6cohAiD8gWCSGKggS6yBw5RSFEHpAtEkIUBQl0kTlyikKIPCBbJIQoChLoInPkFIUQeUC2SAhRFCTQRebIKQoh8oBskRCiKEigi8yRUxRC5AHZIiFEUZBAF5kjpyiEyAOyRUKIoiCBLjJHTlEIkQdki4QQRUECXWSOnKIQIg/IFgkhikLDAv2zz3a4HTu2uu3bN+8x0B7alWqvaDtyikKIPCBbVD97oq+HjvT3ee1DaZ580pBA37lze3Kw9xRoX6rdom3IKQoh8oBsUX3s6b4esvb3RehDaZ58UbdA524rNcB7GrqrbJxaneLosePcV/bt1Ip9juzh7n7kz+7vO7Ylz0mxcu1qd/CAk/25V4wa7eYsnO+6DznT/02l72jOuvo6Typud5G3PtqbycNYzF4wz/3gqJ7uh117uQf+MiGZpojUYouenzLF9Rw6zH28besucVy32Kk4vL1oD9vQ1Lzez59X33orGQ9tKadovn7btk3ulTenur5nDXd3P/ywD1u+apk7+oyz3fV/GOPWNa3e5RwjK3+/O/qQdtJe2k37CaM/6Bf6h36KzwFpnvxQt0Dv6Mc078+d5U656NLSROsoaGeq/aJ22iLQQ8f4+ec7W4TC/BaxfYo774ab3ac7azMcONjOJw12Gzdv9MdLV61w17YYKv7GabNmTdM699OefX2dLKw9nHCt0Jf0aTVRsTv7aE+CcWa8GfdUfIp43udhLKjTKRdd5nZ+9kkyvqjsDQJ905ZNfv7Mmv+hP27UBmXh65cs/8j9R/c+ruupQ13T+jXJNOV48W9T3PBrb3DrN6xNxr/+9jT3z4d2cdfe/ge3aMkiH7b1441u0pRX3UHHD3QnXXiR27J1wy7nQVb+vp4+bETz0L5BF1/m2/v8a6+4LVuafTj9Tr/834OPcK9Oe2OX80CaJz/ULdBTA5slT774gvtR195u0dIvLriOJNV+UTv1CnRj8bKl7j97HeOefvnlUthn//jUrxThfHBIFs7vR5551nUZNNSfR14Ie9KawCeNha9rbvLE4r9c/gbnEwc7Pkk/FiSclcgfdevt69S8qdnfdJhzrFQ+6UhP/nZeGB+Tqg95frR8me+Lm+68y7eHdpGWNvF7/cZmnw6sj8JwyzdVh7CPKBPK1ZW8yJNzrP8Jr9TOeJzCtkFcz3CcrN7VxjZVX8ogrlp58fmUzzgz3oy7tREsfZintZ2xsflKHPnbWNj5lfrJ2h6Ph8WXg3NIyzmcS1hYp0EXX15zXkWhvQV6vXMpjrcxKCecmQsbNm8o5W/jFObJ73AecAz12iAj5RMbZcPGJvfsy5PdC6+/VhKPtXLLvfdWFPYjfjvSDTh/RDJfRCk6Ysbs93eJM1J9ADZW8VjS3+XskJEqpxqNaB7EPTdAL7XczMRxiHduUs674aZd4oy4/mL3kAuBzqOW/x77oPvaLw8sbW3g7q+pea1bvXalO+zEQa22PXyr02HujXffKZ3PBfvz3v3cr4493sfXc1deiVT7Re00KtBxKBeNvNWdfc0N/jdbWLoNPsOvrONkvt+lh7vwt7/zBpItLd/r3LVlLh3kftztaP94/r25c9xPevTxf8mPc8659kZ3yAmD3K/PG+F+0ec416n/iW7ZqpU+vlL+lD9m3Hj33YOPdIMvucKdcMFF7l87d2txNK+3qjPwiJktAsxJ6jTk0ivdtu0f+zyPPOU0T6r8zVs3+bT79e3v0xJ/3Dnn+/C4jEr1YYsE+dIX3znocP/YG8dNP5NfnzOH+zJIF/YRDoiVF/qSsk+88GJ/vvUB5VJX8sbxE/+zXsf68SknbMiX9CNuvsXXlXGp1k4bJ56GdD/tLH99/8thR7kXp0718WE9yZO/9Md9j03wY0Z/UB+2asycO9ufQ70PHjDQj+3w6270ZSJErUzy5lz6EcjXbgyr9YvNPcbbtobE9SFP5iX1YS7QfvKw+cqciefr2vVNfqzYskUe9DnHhBNv4wm9zzjHt4201uYYymWsKPfk31zq+/WA4wa4eYsXtarTN/Y/xNej0laJotGeAr2RuWTxzGfOZ9yY59gEyrA0BmPDtr0lK5b7Y/4yr2+4485SGn5fcssoP09txbxeGxSS8omIx6//6mAvIMkbRt59d2lletrM6S316+V6nHamjwt9NuLxsYnPeiZPfb3Vajb5ktZ8Ofz+gQe8Rvhw0Tz37116lsIhFrCsqvc+fZjXBBYWYiv3lJOKh7j9XMPc3HyrU2c/LxgrxpIw4lJ2KM4jLiNrzcPNz896H9ty07+4FBbC+d2HnOHLS8XH9Re7h1wI9GUrl/rJdP9jj/mJO+XtN/0Enf7BzFKaSneTTDYm6VlXXVv2sVcjpNovaqdRgR7GsTox5LKr/AofxpE4VoUQ1C+98YY/jh1sLHhwTj8/ul9pCwH72/u1iJvb7h/rH+lXyp+VksMHDnGvv/OOj4PnXnvNHTPsXO/4LMwInaWFVSqf45F33+tOveTykhjmL8f3PPpYKQ+jWn3oA/rCRAXw+9sHHu6mvTezFBb2kdUZEWd1mLtogRfhM+bMKvVRGI8oQUSXGz/ypcxb73ugtFpbrZ30EwLm3dlfzB/G478fHOf+67gTSivq1HPYNdeX3lF4+4P3vNNiNZpj+PPEia7/8At8mrETHncnjbi4VCZ17XX62V4sLVm5wu3fb4B7c8a7pXP5Tf+G5ZXrF44ZZ9KQlmPOQ1iFedK+oVdcXZpf8bwPx4K+Pvf6m/x2E2sjf2kz4cTbeE6f9WU/cUMblhFCesTg+g3N/pjxYFzCOpAmJRSLTnsK9EbmEvGM8finny6NEfOc+Z7qd7brHTXo9NLN0mPPPefz73/uhb5crnWuea792ObEx1DNBoWkfCL++Kv7Hegefuopv32Ev/sc2b20Mo1A//aBnd2+LcJ/1rw5rc41gT645VqPhaXl+9ATf/XC/Xd33+MO/PVJbuWaFaU0+Ptyi3CmJSY8P3GXOECQIkzLCXiI2891yE3OlLffLoVhO2N7GdqhmLiMrDXP6LFjKy5Ukjc3KtywpOJTbRAdTy4E+tqmVS2Ga7Drc+Y57t1Z7/kLPk5TbbIy2Wy/WXuTar+onfYU6KwcIXhwghhGg5Urcy6xgw0FD8c4p9gJWpgJqnL5Y4CPP2+EX8lc9L9bEsJ8Yjg35RzLlY+jZXV03BNPtiqfG4aU4KpWH/qAvjBRAal+DvsoVecwjN/79u2/y8oqoqHc+MVjUEs76Q/EcNjmVevW+BV3yg7rZPFjHhrvBo64xK1et7aU5+SWGytWB3ky8sq0aX7l8fEXXthlSwJjfsTJp/l+tHPZHsDqMgI8VV4cxl+OCbc0YNsOWKG84KaRrfopHo+wr5iPCLG4rzkmnPjUeKbCwPodcRmGs0JLv9Jejjk/nqN7Au0p0BuZS8QzJ7nBtnM4n7lfrt9ZHWeVnHQ8WeJ64ykO8wS7yE0Xf+M5GR8DZcTlpMIg5RPxxz88qpdbuGShP8Yv/7TnMX6/M8cIdPY5/+W5tFCGlNCO8035/UoC3VbIqwl0VvtT8RC3H5vCjVBoW/lNGHGp/o2Jy8ha81TqI6iUN6TaIDqeXAh0mLvwQ3fudTf4lzu+vv8h7rb77m+1h6zaZK00GRsl1X5RO40KdBwSQo0VQ4wh+9F5hI+ICbFHi7GDjcVhJedUS/441Rv/eJd/LMwqBlsOcNKhgzba6hypM3XncXRcvj2eDs+DSvWx/ExUQKqfwz5K1TkM4zc3MdafRtzvIfEY1NJO+iOsd3ie1SOuJ+lta0YIj6DZykOf8CSE1ULbWsLNDdtFyMe2msTnl7shiMP4yzHhHNMO5i2Px+mz82+82RP2Uzwe8Vik+ppjwolPjWcqDML+C8Pjcjg/nqN7Ao0IdOYOApq+seN651K5MswOhGEG22MQhdzkUSar8Ah2brYQ/Kzek188J+NjSJVTruyUT4z9cSyMEejEh9syYsoJ9DDflN/vaIFe7logjLhU/8akyslS80ig7xnkRqAbPO7hE0BMWrsbh0Yma6Ok2i9qp1GB/uHihV504gxZMURsvTlzRqs0bH2x82LnFwoejlOOyMKq5c/jbASxbdPgL46TFWXbHxrSVudoK5ysjoXxlJ16+ahafTiPvjBRAal+DvsoVecwjPJY/Xt80qRSPLBlJTV+EI9BLe2kP+KnBqyC82i+0gp6/PWRsI/CeQKsfCJ6EDqIHLYg2Nd/gHM4lzyq9QvH/OWYcI7ZcsDKJuXYOQiqsJ/i8Qj7yvqafOx84NhWYFPjWe5aspW/cD4AZTFnWEnnmPh4ju4J1GKLmFuMYXw9My8YS3v60MhcIp55zBMhi2fOMnfL9bvtQ+fdBraYkZ668vuq0bf7ckkXz8nUvDV7Y8flwiDlE/HH8Qo6wvjJFyf5490l0E2A3/HQQ7vEQbUtMBC3P75egd+EEZfq35hUOUYWmodzeSK2oswXYKptgUm1QXQ8uRDodtd776OP+uM58+f6l0HsYgdeemACc+FbmCGBnm/qFeg4MrYnsKIdvqR52a2jWu33s5e1eOTMMYYyzCcWh5WcU7X8v9gCM9CvUNu57P3l0XVKoJMeRxy+HFapfH7jgNnPzVcbOGZ/N9+uJTw8B6rVx4RwuLc0Jd7CPko5nDiMF1NZsedTbggFBAdPHeJ8jXgMoFo76Y9wrzwCh73SCFP7ckZcT27mcEx2DuPJvnVe0mM82f9NmfYiH3OKpzOIG/LkxeEJz08q3RQ8NXmyF2XlyovD6AeOuZHgOBborK7yPoOtdhLGTQUv8G7dtsUfh31l85EX06yf+Msx4cSnxjMVZtC/bI+xffr0C6v8bJWyOc/58RzdE6jFFjE3eHmSFz+5fgijX26+654vRM+aL8a2kbkEXLejHnjQz2viebH7mwccWrbfGUv2mTN2dpOA4GcrDS+jMvcIi+dkPTYoJOUTEYDsFX/k6ae8wEztQc9KoCMueUEyJVxhWEsb2N9OveI46vXj7kcndYQRtx+bwvVoTyWB34QRl7ILMXEZWWse9rKTf6r/6Zczrrzak+ojoM74kb9Nn95qsUN0LHUL9Pb8Niovg/BtzvCN5mPPPtetWvvliyFcjJ1POtXHke4P48aV4rIU6PomaOO0RaDb+Bu88PfXF18sOTHAIbINgjfmeYTM37sefrSUBkNZr0Dnd7X8eVmIcASpxfOlDnPEIRg3HDZtsTpVKx9Hf83tY/y2COrNX1bITDzFVKsPzpxtHzgRnEl7CHTqiEhHGNij/dRKkxGPAVRrJ/3BFyZ4wZO2sY3AbgqIL+cYESp8yYYXu9hCw8t19jJcuOWEMi3eBDV5s5JMecBvewG0ln7hGAHOeNPPNpcQXowNIJQQZzbebL2x7UnkE/eV1Zkx5EkSfzk28Zgaz1SYQb9zo0M+9BF1O/bs80pfhQHOj+fonkCttoj5gvhGhDJHGBuEsc0FaGQuWTzjzrxmLzs3kcz3Sv2OLeFFUl5O5phrnJsCzrcFgnhO1mODQlK+HuGMH0aUky+/r/z96NIWjUoC/fTLr/LnhJj/rkWgIz5/0qOvP+/rLXN44iuTS3HAMX301Esvttoywuo5wp193+W+XlLO32NjufYYY+C3vTRazg6FxH2YtebhM5Ysdpz8m0t8uy2c/nh68ot+3Oif8BzD+oC5UM6GiI6hboFetP8uVi/6r1qNU6tTbCsYDlaHEByp+EaplD+OkVXRLMtnOwLGP37xM0VH1MegPrf/6aGSUDZYCWa13oRjrZRrZygY2E6Q2uJTDm6mWKUsd46VmYq3vgS7yWkU5hL1CW8020q5fqoX5gnzZW9ywG21Rdbnlfqokblk8W2Z2x1NytenhHNeQITyaUZWn22vOSvWbG3pNvj0lhvfWbucY1Ty943Yhd2hl2bPn+Pby82MjRPCnn5hvzsiPj4HpHnyQ90CHXbu3F4aVO6Y+ayS3Q0aXMR8Zol9YXEcVNoL1igYkVSZ3Hmy56tcfW0y075Uu0XbyEqgi90Dzsm2XSA6CWO7BCuMqW049VJuRU+IepEtqo/Q15tvzatAr5es/X3ch3lEmidfNCTQgbut1COwIkN7dBfZfsgp7nmwDWXkPff6R8nc2LLVhS0v7bl6z1dzUv/0Q4h6kS2qn9DXv/P+DHfFbb9v9X3yotKR/j6vekmaJ580LNCFqIacohAiD8gWCSGKggS6yBw5RSFEHpAtEkIUBQl0kTlyikKIPCBbJIQoChLoInPkFIUQeUC2SAhRFCTQRebIKQoh8oBskRCiKEigi8yRUxRC5AHZIiFEUZBAF5kjpyiEyAOyRUKIoiCBLjJHTlEIkQdki4QQRUECXWSOnKIQIg/IFgkhioIEusgcOUUhRB6QLRJCFAUJdJE5copCiDwgWySEKAoS6CJz8uoUR48d53oOHeY+3rY1GQ9XjBrtScUJIYqFBLoQoihIoIvMKbJAH/fEk55UXFt5fsoU99Oefd2apnXJeCFEtkigCyGKggS6yJy2OMVPd+5w65qbvIjdtGVTqziOEdOWBvgdpon5/POdrnlTs8+PvxxbnAn0LR9vLqWJxTplhvWolJ9B+jiesEeeedb9qFtvN3vBvIo3BUKIbJBAF0IUBQl0kTm1OsVZ8z90vzr2eC+az7r6OvfDrr3cmHHjSyKXsHOuvdEdcsIg9+vzRrhf9DnOdep/olu2auUuecHa9U2uz5nD3T5H9nCDL7nCi2OOCScegc753Yec6TqfNNjzrU6d3X2PTWhVJvB789ZNbsilV7r9+vb3YZR/3Dnn+/Aw/nudu7qTf3Opj+971nC3fkOz3yZD+Ff27eTb9cBfJvhzhBAdhwS6EKIoSKCLzKnVKZ57/U3upjvvKonjuYsWeDG+cu1qf4wo/vnR/dzSVSv88d93bHP9WgTybfePLeVh7PzsE5/fKRdd5tNZ+mHXXO/DiUegf+2XB7mnJk8uncdvBDRlcxwK9JF33+tOveTy0qo9fzm+59HH/DH5dT/trJJgt3jO41hbXITYvUigCyGKggS6yJy2OkXbIvLw0894sfze3Dk+PBTLRioM2P6yf78B7tW33moVzjHhxKf2oPObsLETHvfHlv+27R/71Xf2o1M3gxuKoVdc7c8j3s4L87MtMhLoQuxeJNCFEEVBAl1kTi1OkVXzR5+d6L578JFexLIl5do/jPEr5vUIdETwwQNOLp1rcEw48Qj01LmEEWe/wYQ721R+0qNPK9jW0tTc7OMR4XF+hgS6ELsXCXQhRFGQQBeZU4tTXLVujfuv405wr7/zTils3uJFbt++/esS6Os3Nvv95c+99lqrcI4JJ95vSRlyptu6bUspnt+ElVtBf+y550ppwVbId3yy3fU/98KSsDdow/RZX7RfAl2I3YsEuhCiKEigi8ypR6Czf/vmu+5x/3LYUXUJdFbkL7t1lOt9xjluw+YNPoy/HBNOPGL6q/sd6CY8P8kfA795mfTDxQv9OWH+vNjJHnPLj73mvARqL3zyl+0zi5ctLcWT3vaovzh1qhfotqeeffB/mz69JOCFENkigS6EKAoS6CJzanGKiGO+nsJXVNh3jjD//QN/cr+5+Rb3n72O8avOKTGeCjNY9eaF0G/sf4gX3fzlmHDiEehsT7nwt79z+xzR3W9f+adDunghbXmE+XPTcM3tY3wd2drC36tG3156CZX468bc4cN/3O1o980DDvX520ujtKHb4DP8l1wo27bNlKu/EKJ9kUAXQhQFCXSROW1xiohcXuBky0gqvh7IC3FcKU/Ecuq75qkbgGr5WRvIMxUvhNg9SKALIYqCBLrInCI6xc/+8akX4cefN8KvuqfSCCGKhQS6EKIoSKCLzCmiU2xqXu9fFoXZC+Yn0wghioUEuhCiKEigi8yRUxRC5AHZIiFEUZBAF5kjpyiEyAOyRUKIoiCBLjJHTlEIkQdki4QQRUECXWSOnKIQIg/IFgkhioIEusgcOUUhRB6QLRJCFAUJdJE5copCiDwgWySEKAoS6CJz5BSFEHlAtkgIURQk0EXmyCkKIfKAbJEQoihIoIvMkVMUQuQB2SIhRFGQQBeZI6cohMgDskVCiKIggS4yR05RCJEHZIuEEEVBAl1kjpyiECIPyBYJIYqCBLrIHDlFIUQekC0SQhSFsgKdCCGEEEIIIUTHkxToqUAh6qHcJBNCiI5EtkgIURQk0EXmyCkKIfKAbJEQoihIoIvMkVMUQuQB2SIhRFGQQBeZI6cohMgDskVCiKIggS4yR05RCJEHZIuEEEVBAl1kjpyiECIPyBYJIYqCBLrIHDlFIUQekC0SQhQFCXSROXKKQog8IFskhCgKEugic+QUhRB5QLZICFEUJNBF5sgpCiHygGyREKIoSKCLzJFTFELkAdkiIURRkEAXmSOnKITIA7JFQoii0LBA/+yzHW7Hjq1u+/bNew20l3an+kPsipyiECIPyBbVT5F9vXy2KCINCfSdO7cnL4a9Bdqf6hfRGjlFIUQekC2qjz3F18tniyJRt0DnbjR1Aext6K68OrU6xdFjx7mv7NtpF/bvN8BNfffd5Dl7E2ddfZ0nFdceXDFqtIffjEXPocPcx9u27pKuFjiP88knFd8ezFk433Ufcqb/m4pvD/44/hH3rU6d3UHHD8y0nLaMbaNj01488JcJbsilV7pt2z9OxueRWmzR81OmlO1fxijLOd0e13hT83p/Xbz61lvJeGhLOXn09euaVrvr/zDGHX3G2W75qmU+7N1Z77lug093d44f7zZsbNrlHEM+WxSFugX63ratpRz0Q6p/xJe0RaDHjvHTnTvcbfePdT/p0cctWbmiVfoUa5rWuZ/27OudbCq+yLTFqdbTD+OeeNLD790p0Gs9d+mqFe7aFifN31R8o1g9HnvuuWR8e9KWsW10bNqLF6dOdbf/6SG345PirEruDQJ905ZN/rqYNf9Df5yyBW0pJ2++fsvWDW7QxZf5m+bnX3vFbdnS7MMR5Y8+87T7cfej3dWjb9/lPEM+WxSFugV6auLvraT6R3xJIwIdVq5d7R0MgsDCSIPjWdfc5EU8YQiF2QvmuR916+0eeeZZ17yp2X3++U6fFqdl59r5Fma/P/vHp279xmafH/CbMOIoK86DvCmDOFatSBvGx1idoRZRQ5ow79iphuVbW+28VD8QR7voM86J28OxhaXGwuof9nmIxVPelo83+/MriZlUf5DvR8uXuS6Dhrqb7ryr1HbSUrd4jIjnbxge1sPabZCOc6xMSKUL60EfhuNLnPUhZYXnpeoZxhv1ji3Y2NDHliasR6rscmHV+iLsS9Lzl3QWZ+nJl/xJQ/s5x+ZSSNxu0sR9mCXtLdDDPoz7Dqy9YP2Wii83Dwz6d8PmDaX8+RuOBfDb5h75cQwpW2DlkC9zudw1DSmftzt5f+4s9x/d+7iX/jYlGf8/Tz7h9uvb363435X1FKl2CpE3ciPQp82c7n5wVC/X47Qz/baGb3U6zL3x7js+7s0Z091PevQtbXk47pzz3dqmVT7uyRdfcF//1cHuR117l+JH3n23v8uulm97keof8SWNCvRFy5a6Xx17vHtv7hzvXO57bIL7fpcebvAlV/j0Pziqp5s5d7Z/pPvDrr38OH+vc9fS43fyjZ1eGMZv5lSfM4d7w85WBsrq1P9Ed9HIW90Bxw1w/Ydf4L6x/yFuzLjxvg6bt27y5/yiz3Fu+HU3uoMHnOIOHzjE30yE5UBc5xMuuMj9uNvRvs5xWoObkX857Cifb+8zznGdTxrsjjzltFKdKZ/2UV/CqAf1IbxcP7CiRj/SZ5xDGmsPeRIW9omNRaU+J63FsxWEOOrKI3b6j3xIE0J6yv3uwUeW+uNfO3dzL7z+uu97zvvaLw9y3znocJ8PYqPcGPFkhb+IHFbU2KJDX5x44cX+/At/+7uS8Fi2aqXPG7FC/M96HevOvuaGUjvDOob1oA+tHlPeftvtc2QPPy7kQZtvve+BUhmpeob5QiNjSzxlUDfqxLlAPRgD+pa+OHjAyb5frMw4rFpf2Bgx562O1IFzbCU2nCPVrhfSP/3yy76e5EWe3Qaf4duQmiNZ0Z4CnT48eMBAP47YAMZp0MWXl8aJceaaYX4D850+sLyqzYOQeYsX+fFbsmK5P+Yv1+ANd9xZSsPvS24Z5cfaVszL2QLKoCz49XkjfN0ZP9pk+Rkpnwe33Huv+3nvft6mkH/XU4e6pvVrfNxfJz3v/vnQLj4cLrjxt36lu6l5bcuYn+F+2OKTv94yP4j75TG/dnPmz60pX3j25cnuZ72PdYuXLS6FheDzWUXnbyoe4jYKkUdyJdC/fWBnt2+LoZg1b04pfOOmJtfv7PPc0MuvdOs3rHXzFy/wF+cdDz3k4xHoX93vQPfwU0+5rR9v9H/3ObK7mzH7/Yr5tiep/hFf0haBzorl4hZBjpPBWTzx4ks+7Jrbx3gR9PYH73nDTRo7788TJ3pB8Pcd21o5pzDf2OmFYfz+9oGHu2nvzSzFIzgIG/XAgyWB8dIbb7ifH93Pi3AcH86NFSniSIPAGfPQ+FIeBqtTONc3Z3y5j/6eRx9zQ6+4upR3CFt5EJ7jn366FP/u7A+8M7c6j7z7XnfqJZeXhCF/OSZfjlP9cO71N/lVactz7qIF7pATBpVuKsg77BMTKdX6nHhEK+LV4p+aPNmLW/KxMIOVVm5mXn/nnVLYc6+95o4Zdq4XD5RJ2eG55cYoFOi0lzGwPqF9CM8Zc2a5nZ994oZcdlWreIRU99POKivGrB7WhyvWrPaiORwXbh55R8KEV6qeIe0xtpRB39LHHAO/EWK0mb6oJNBr6QvGlPymz/ry2n38hS9srfUH9bD01a4X2s1v8rD8yJtzwnHOmvYU6GMnPO5OGnFxqQ9J3+v0s73wpr3Mi/Ca5zfzHntQyzwI2bh5oztq0OmlfeVsuyL//ude6MvluuH64TqKr/2ULaAMxsO2h3Ed92u5AWM7oaUxUj4PENII6LOuutb7ZgtfsXq5r9tNf7zTi/Kp09/yYp3tKCbQEd2r1q7w8Pu8G26qmq8xeuzYXUR7yJLlH/kVdrRBKh7iNgqRR3Il0P/vwUe4vzw3sVW4XeyPPvtMKez0y68qXdBchNyNL1yy0B8vWrqoxRgd440Bx+XybU9S/SO+pC0CHeHB6jLOC2z1cuHSJT4NAnjgiEvc6nVrveOByS1CgNUfhEDKGZFv7PTCMH7HDjkUf6mwDxcv9L/vevhRXyaPlS1dOezRMzceF9w0sqwIwMHTHoSsheHEEfTUGWfMCi37xa0PAPFtoj/VD4ZtQXj46We8CLM2kneqT6r1OfEIhfBx+9ZtW8qujiIGjj9vhF89R+CG5wFlUnZ4brUxSrU3DOP3vi3i2gSOgdApNw5WD8szNS7AqiU3P/xO1TOkPcY2VYbVFdFI+koCnd/V+oIy4jFFJLLKa/0R1iMcC0sfhnHOfx13Qqt2c6NwykWX+XwsLGvaU6C/Mm2aX8XmpiPe3sI4H3HyaX5+2xiy1YSnC9wwVpsHFhbCPGOVnHTnXHujHy+eftC/rKgzNvylrPBaiI8hvNYrhUHK5wFCGiG8aMmiVuFsQWERbcrbb/pjE+UsqtlvxPu2bZt8PE+8+541vPRiZ7l8DeJrEegTni/v8+M2CpFHciXQ2aYSbz+xi+07Bx7uH1vB1/c/pMW5X+4vcAQ65yHMw/R2cZbLtz1J9Y/4krYI9NgxsjrFSh8rfjh00vDoHMcfYl/ZSDkjzokdTxiWKrea4OCYLR48MuYmghUfViDtRiIE0YWA4/E+Iun8G2/2lBMB5QSCOVDCiafcsA/AHmHH/YBTf/TZif4xO+GIY14kYxXN2mP58zvsk2p9nupfqyNxYbiBMLnxj3f5R+v0HVstEDrUM3VuWB8LC8cjNe5hGL9j0Qrl+hqsHpZnubRh+1P1DCmXh/W9lVlpbMPy4jyIS7U1DKulL1JlWN2sP8K2kpeNhaUPwyq1m3zCsCxpRKCbgLb6csxTAlae2U7F4gLX1dr1TT6PeLHB4MaoUn+kxhZ4SsNNEzf4lMkqPIKdmzIEP6v35BfOe86LjyFVTrmyUz4Pyglle2rN0wD8Nf73a7880AtxE+j8LpdPNQEugS72FnIv0JetXOrvxstdbKkVdC7OJ1+c5I8l0Hc/jQh0wLGwOsQKHqu1rLoh1i0eEY/gY4U65YzIN3Y8rEZZWKrcaoKDtOFLcAinS28dtUvdgMfO1N+2wwBONdVWwNkinFetW1MKs9VG6kxZrLLGXxcJ6xT3A3mxghluK2FfKyup1sbQQYd9Uq3PiY/bYqut5GNhRngux/xFfFAXVgDJh/zCc6uNUWrcwzDKY8Xy8UmTSvHAdpJy42D1sDwRVmxxCccFkcYNJPOJ41Q9Q9pjbCmDpxM8pbB4e2JRbgU9HOta+oJ82MJl+6kBQYjgtP4I2xqOhaUPw+g72k0eFk/elBGOc9bUYouoK/PG9nsbNqfpG44Zj3Ccub4R0IhmxpntLJxj8cxz+p75X20eWFiI7UP3n7f83wUL6srvq0bfXtqPHl8LqWsjvNYrhUHK50E5oTz9g5neB6d8rgn0G+74YykMsU4YcRxXE+D4fK7Dci+BVirfiNsoRB7JvUC3PeinXXal38+24KMF/uJlrznxXKzsi3zk6af8inpqD7oE+u6lUYGOE0Jc4GjYWoJxtj2+CKT/fnCcfwmLrRPs78TxhS9j4VBxrOs3fCGQedTMnmlzRqlyqwkOVs7YemV7OKkH+29rEeissPGCnK14hWmBbTC8fEZ+JmJ5gfKbBxxaqjNOmhV7vuzAMWKHx8SEcxz3QyzQEQk333WPX+WyNoYOOuyTan1u231sBRx4YZGV8ZT4+mJP/sBd9iPz+B9RZCI13A9bbYxSIiQO44VFVux5WZYxQiQxD1JzDggjzs5Pjctb78/02xzY7sBxuTlstMfYUgY2b8Lzk0r9zW+eQjAWJsBtfzNjzcuz7Pe2sa7WF2xdYr6wtYbxYO6eceW1FfegV7peSMMeaVagyYs8mX/kZ3OEOfC36dN3uX7ak1pskd048OIn9SSMeU59vTBc88U7G7wTwDjZTQz9zM0aQplx5v0OGyPieU8AO0BcLfMgxvoQu2M3CYw1W2l4GZUxJCye9ymbGF7rlcIg5fOgnJAO96Djk/nIA21ly4sJ9CNPGeJWr11Z2oPOS6S25aWaQK8mwFmcq/QSKXTEXBOiUeoW6O39bdRKQvqVN6e2GPovv+LCPyPgZVHiEOg8PkOUE8fvK38/uvRt1KwFur6pWp1GBTorR+yVRqhzjCPiqx+EsRWAl6dMKGNwcZDMBcsLB8qXCnB+nINTHXHzLSVnlCq3muDAGfP1DratsKqIuOEmwr49HEL5bE+gfNICzhKnlXKIQD4IKB6dIwARw7TB0lM+L85SPnXiL6toCAni437Y+vGW0pdW6AOE+e8f+JP7TUs//GevY7xTDx103CeV+tzi/+mQLj6Ovjjzqmsrro7yQqn1G3/ZemNfISEeAcK2GoQGdas2RrUIdPoMYYqYse0IlBPnaxBGXJgnc5GtPYwLdecvW4es3uXmcEijY0sZzCe+ULPPEd19n9P3JtDg2VdeLdWRMbtuzB2+3jafa+kLtmv1OG2Yj0f8/+mvT/hrpx6BzjE3pqz2Mq7MP8qnHTZHaH+1vmuUWm0Rc5u2cgNB/3IdITrZP25pEO+2dY122nVhL10zztgExgD4HZ5fbR6k4Jqm73gZmGPmHTcFnG8r/vG8T9nE8Fo3UmFQztdXEtLjn3qy1Vdc+G45YtwE+r936el9NXF8xeWd92eUzq0m0Nmrzg3ryb+5xD9ht3AE/pwFH3p9cO51N/iPRoTnGbSHdmY914RolLoFel7+u1i8B72j0X8lq06tTrEtsOrEKlS4zaQapG1L+lpA6LBCxaqgibRy4Ayos62YVYP8yLdSnXmJD4ccv2hZDqtvrelDqvW5xdfq9Kx91Id6pdK0F7SXf6oT30CxPYfVelsprRX6oC1jGdNeY0tfl5t79Cl1jPu2lr4gLv4nRIwTIjO8EagVBO/v7r2vVXsph/IoN0ybJW21RTYGlea0pUmNpY1zuTGqZR7sbtrT16f2oNfD7PlzvBBn4c58P4tx/3Z4N3dKi3CvpAfks0VRqFugw86d20uTnouDF0PsjtlAPPN5Qy7KOA4qvchRC/UK9Er1JS++FBPHQWhYaH+qX0RrshDoQrQFhNBlt47y35tGtBLGZyNZFbWtI3sLtfSFbVtiiwY3IcB2DJ762DltgXM4l21L3DBQB7Y4UQZlpc7JAtmi+gh9fSO0l0CvF/lsUSQaEujA3Wh7b3dpCzwau+K237uVa1Yk47OA9uouvHbkFEUeYIvIyHvu9VsEuNlmewfbLLJevc8jtfTFB/Pm+v9BQDzbXNjukvpKUa2wis42DvIiT/5Bz9R3v/xOeEcgW1Q/7eHreafstvvu9/vEU/FZIZ8tikjDAl2IasgpCiHygGyREKIoSKCLzJFTFELkAdkiIURRkEAXmSOnKITIA7JFQoiiIIEuMkdOUQiRB2SLhBBFQQJdZI6cohAiD8gWCSGKggS6yBw5RSFEHpAtEkIUBQl0kTlyikKIPCBbJIQoChLoInPkFIUQeUC2SAhRFCTQRebIKQoh8oBskRCiKEigi8yRUxRC5AHZIiFEUZBAF5kjpyiEyAOyRUKIoiCBLjJHTlEIkQdki4QQRUECXWSOnKIQIg/IFgkhikJZgU6EEEIIIYQQouNJCvRUoBD1UG6SCSFERyJbJIQoChLoInPkFIUQeUC2SAhRFCTQRebIKQoh8oBskRCiKEigi8yRUxRC5AHZIiFEUZBAF5kjpyiEyAOyRUKIoiCBLjJHTlEIkQdki4QQRUECXWSOnKIQIg/IFgkhioIEusgcOUUhRB6QLRJCFAUJdJE5copCiDwgWySEKAoS6CJz5BSFEHlAtkgIURQk0EXmyCkKIfKAbJEQoihIoIvMkVMUQuQB2SIhRFFoWKB/9tkOt2PHVrd9++Y9BtpDu1LtFW1HTlEUhVrsmexDcZEtEkIUhYYE+s6d25MObE+B9qXaLdqGnKIoAm21Z7IPxUO2SAhRFOoW6KwgpZxW1mzZusFNnvq6e3/urGT84mWL3bMvT3YbNjYl49uKVsoap1anOHrsOPeVfTu1Yp8je7i7H/mz+/uObclzUqxcu9odPOBkf+4Vo0a7OQvnu+5DzvR/U+mzhDb1HDrMfbxtazK+Gmua1rmf9uzrnp8yJRnfKPQPpOLq5Y/jH3Hf6tTZHXT8wMz6vL37pV57JvtQLGqxRcyp2A4ZZ119XfKctvLe3DnuJz36+L+peGjUdojKMM7YEGxJKp5+p/8ZB44f+MsEN+TSK9227R/vkhay9jPtPR92p18UtVG3QN9d21qamte2TKoz3Mi7707GP/niC+5HXXu7RUsXJePbCu1MtV/UTlsEemiAPv98p5u9YH6L2D7FnXfDze7TnbWJIQxv55MGu42bN/rjpatWuGv/MMb/jdNmTd4F+rgnnvSk4urBnNpjzz2XjK+XuB/bu1/qtWdFsg82NiY49kZqFeiVhFt7sCcL9KLUu60C/cWpU93tf3rI7fjkiydncTuz9jPt3a+70y+K2qhboKecVUfQ0QIdUu0XtVOvQDcWL1vq/rPXMe7pl18uhX32j09b5sJ6b1w3bdlUCuf3I88867oMGurPIy+EPWlN4JPGwtc1N3li8V8uf4PziQMz2CmsTVs+3uyaNzX79CkDSx6p/Dg2IWplkg83L+H51hbirb6kIW1cP9Ku39js20jauH0ckw/tJ42F85vzOJ+6xOcR/tHyZb7vGYPw/LB+cfvJh7CwXhZnbbjpzrtKY2p9VUu/lOvXmNR1Xyup/KDWNluaVP3K1T/sK8vL4mz8wnnNXxsb+jIcG+tjzon7sFI5RaS9BDr9QH/QL2YnUuOXGgsIBTp5pfo+ZQ8tbZwfhHOllnGy9HFe1rYwbRyWKqvctZo6JwynD82uWH9ZnoRRv9gWpbC0nB/XH+KxSo0z5XJMO7DZ9D/jYHGE/6Mln1Q7KZ/8w74M62RtMjimntXmkJGaD+X61IjzBptn1epbqS6iY8iFQN+2bZO7a/x492+Hd3P/dkR3961Oh7nbH3zQhxN/z6M8Mj/MP2L85gGHum8f2Lkk0Jcs/8gLdnsE+e9dekqg54xGBTrG5KKRt7qzr7nB/2YLS7fBZ/iVdR45f79LD3fhb3/njQvbNb7Xuav72i8Pcj/udrR/LBmvVnHOOdfe6A45YZD79Xkj3C/6HOc69T/RLVu10sdXyp/yx4wb77578JFu8CVXuBMuuMj9a+du7oXXX29VZ4M2kTePElnVB7Z/3PfYBJ8XaViZoQzyAvK2mxEMJU5kyGVXuV8de7w78cKL3XcOOrxUH9LMmv+hj6PvqO8Pu/bydSSe80befW+pPjB2wuPuyFNOc5u3bvLpgXAe3dLH5H/yby71eR5w3AA3b/EiH09d2LZCH1PHeGsMj0ppK33PGNBmHMCUt9/2243oT+pP+2+974FS/W08KAuHxzmWJ3XisTJ1sjF99a23auqXSv0ak7ruYc26Ve7Klna+8/6MZDyk8qu1zcyH7qed5dvwL4cd5etseVSqP3OZvh5x8y0+nHlO3tfcPsaPP/kzH9jqxbwOx4Z+srFZu77J9TlzuK8r8/lH3Xr7Y8LLlWP1KyLtJdC5ro8753xP7zPO8eNMH86cO9vHVxoL4ulX5jLXGYsP/Vrywbcx17kurQyzh9gKbAbzgXEi/AdH9SyVx7xgfJgnxGOT7nn0sZKNCbG8SE/dLa83Z7zr4ynXbIIRhpUri3qmrlXK44ada4CyKJPzCSPO7Mqgiy/31wNp/umQLu7RZyd6O0Xf0Lf9h1+wi28wytlAaz82/ahBp/t8uB7xB9gOG2frE6ujvy5brhHmPm0nDxsPrptUO2M/U80GkF+lORRj5dt8qNSnpGeuUX+uacr/Wa9jvX23POL6Ym8YS9pu9ubPEye2qoPoWHIh0FesXu727zfA3f/YY16UP/XSiy0XzjFu4ZKFpbib/nin27Kl2U2d/lYrgX7PI4+4n/U+1u9JJ/6MK6+WQM8ZjQr0MI4VBwwrqxdmiFgRQFC/9MYb/hgHG+YTGyIM+M+P7ld6tMf+dpzAbfePdTs/+6Ri/qz0HD5wiHv9nXd8HDz32mvumGHnJvcmUm+M+FOTJ5fC+I0DmbtogVuycoWf3+Ycgd+UYSsZOBEMqxl2zsPYzpgzyx+fe/1NrepLPDcfOCXqfPCAgT4v4qytOFSO6QtzvNQV47x+Q7M/ZvUFh2J9aXUZds31Zd8JIB3pGQOOV6xZ7fbr29+Nf/rpUv0WLVvq22xi08aDcMsnJp4b1fqlWr9amJG67oEFgP/o3sdNeH5iMh7ivGptM4L83dlfXBuk++8Hx7n/Ou4EX79q9Wcuf/vAw/342Mri7AXzvNBhRc/y5MaWec2xjQ19yTFznblzykWXlcaTv4wv4cSnyikytQp0xPLQK672W+sMtgPYyix9SL9Mn/Xl+NHXnMPvamNh/Rpu3UNQMW/s2gzn/NsfvOcFqOUHiCdE66YtG13/cy/0883iyP+wk05NznXisIdWdyAvBCw3B5RrNsGwMFZVq5UV1tvisXcIVjtn2nszSzbZrmWzYWA3N9Zerh8TwpZHSCUbaDY9nOe0kxtRE+j0L+I4rCN2GttNeziO25Vqp7WpFhvA+ZXmEGEhYXnV+tTaHNpH2sxiQJhHWF9sz+MvvFDKD3tDfbFFFiY6llwI9JhpM6d7kf3Gu++46R/M9A5yyttv+rim9Wtc11OHlgT6sBajccpFl7qtH2/0xzhSCfR80Z4CfcmK5X4lirt9DKvB6os5v1oEeuyALAwnUyl/DPzx543wK0cY3GqPAVNt4jdhrGRTzhEnn+bzsrJw7qwmIzQ5xomY4IVUGNjj4YeffsYbb9rLDQUrM3bzgiMKja61m5sLHBZ1CvNk9RxHQ53KlRtibbM0tI9VHOoRprvkllHeqfLb6hDGx8T9WK1fqvWrnWOkrnuoR6DX2macZ+iIV61b4/saEVKt/vGcDsEhM48599izzyv1rY0NfckxaZgLsejhmHDiK5VTRGoV6Nw8/emvf3VPvvRSCcbEBF7quk6FlRuLcv1KHghg7EqY35iHxruBIy5xq9etLc2HyS3XNPNsxZpV7rJbR3mBzRwJy09BXlaGhVFP5is3YZQbX48WxnytVlbcD6nyTOgTR1viaznOg78ch2lSpGxguXmOUKZc0qfquHXbFr+KTl04jusUH4djWosNiM8vF5aKq6VP9/1fWxLmwbtBlke1+jIXODaBLzqeXAh0Vr6vHn27+78HH+HFNdtcvtNyZ4lAD8U6aeM96KdfflWLWLq8tB1Ge9DzR6MCHaeAmMGwYXh4JMxqB8YlxLZcYMTDfEJDxDGOJnZAFlZL/hitG/94l98aw7YqHiGy8lBu1SMuCwgjjrraY9K4PIwr9akkRCmTR8E8jiSMGwdW+liRtvayxYXVFFZV+M0qjdXV2k1f0WexA6QsbljIK1WXmDgf/qbGNOwXq0MYHxPPjWr9ApX61c4x4mv+lnvvLW2bC2FxgEWCMG2cV61t5jiMD/uuWv3jOQ1sS0EEMhfYGoAYYAuFlWn5W7nh2FoewDHhxKfKKTK1CnTmEe1PxUM8H+OwamMR9rGdD+HcCfPj9zf2P6TVPAD7UhI32Hf8z8P+mHnDDYZtcwvzB/KqdL2l4sOwamWF9Y7PDSGMuPC6tbg4D/5yHKYxqtnAcvM8HOdUHa1M4jiO6xQfh9dKOI6Wn51j5cTnlwtLxYX5hIR9Wq7Nlkct9RW7l1wIdLansEr1/Guv+uN4BZ3fr789zcdpBb14NCrQP1y80ItgVoFZDcExvDlzRqs0rJzYebGxCQ0Rxxix2LhZWLX8w5UmwvnLSgyrFazuh+cAbWIVhtUYC7OVGVtBZ9uCfXEGwpWLlPMKw1h15dFkuOWGVW/qY+3lcS9teuv9mS1Ge2ArgWrtttUX6mtxQB7kRZ6pusTQR/S9paEsVoWpp6WxGy5EC8dWB4tPEc+Nav1SrV8tzEhd91DPCnqtbY4fZfM4HlHB+dXqH89poI9OGnFxq/ZRnvWtjY2NMXmxasYWLUsPHNtqWqqcItNRAr3aWNCf3HzFT3N4Smcro2F+rIqyRYObbEtL3ozRJ//718piTpEv271iOwbYnbjuGzZvcK9Mm+afEFBufD1a3eNrKFVW3Dep8vhNGHGpaznOw9KHaYxqNhCbzu94nrOabONM/8Z15Npjyx914TiuU3wcXiu12ID4/HJhqbhqfWrX9uOTJrXKgwUaO69afZkLzAnmRpiH6DhyIdAR4fsc2d298PprXmj/9s67HC+FItBtD/oNY+7wcak96DjQ2fPnaA96TqlXoOMEeIzLinb4kiaPWMN90OzdRHhiTDjGiIf5hIaIYxxN7IAsrFr+GHt+h3v12EPI1oNyAv2r+x3YIvAm+byB39xwcOPBC0fslbR4zmHvI46BuGpCNHZO9NHNd93jV7WsvbYfkX307EG0l9Ag7AteAORas32ftJ+nFmzp4XeqLjHmJCwNbaC/Rj3woHfuhHGjwEtpNl5hHcqBAw1vdKr1S7V+tXOM1HUP9Qj0WtvM/lP2jXJMOvZ541Q5v1r94zkNzLVQFDK/eMpjfWvbmGwrGPky13nBzJwwfzkmnPi4HOInvvpqK0deJHaXQI/Hgv5k/EM7wzYYhKS9iBvmx/kIKJsvjA3vLPAy38aWMeG9EuabzRXer0ktNAB5Mab21A84lzyoCwIvfBeFrSw8UaTuxFcrK75WU+XxmzDiUtdy3L+xXQmpZgMpL57n3AyzwmzjnKojL43y1Iy6cE5cp7id4bVSiw2I8ysXloqr1qek56kGc44XaPEB3PQzjpZHtfqSH2H4vLAeouOoW6C353fQ2bZy/LkXlh4j//KYX7t/PrRLaVvL+Kee9IKdOL7S8t1DjiwJ9BWrlvkX9MJz21Og6zvojdMWgW7jaPBi1F9ffLFkNACByVv0PNJkFYq/dz38aCkNRjw0cqEh4hhHY47SCMOq5c+LOYRj7Cw+/CpLCG0iL24w9jmiu/+6CV8owFhaGgwojpn8gN+2slZNiJoj4W1+9lzilH7/wJ/cb26+xd/YmMjg6QM3CvYCmhG2G8eGSORROnnxohyP6e2LHqm6xNDn9H2YhtUsHDhfPaB9/OWRtPVXWIdy8BjfthSRd7V+4bhSv8aUs2f2FRezRTHl7EMtbeYLQrzkZ/HmTC2PSvWP5zTYlyrIi/FDgDz7yqt+3jEPSYP4YnzpJ/oL0c5NGGHcNPKXY8JT5fAXYVlpDuSZWgV6bIcMsyspIRWGVRsL+pEw/gkbX84gDdtFeDnSRH1cBjbD0mJHyN9edLf5RjjjhT0I84ohL74Iw7zinHDuYf+Ym1z/lMVNPV/xsWu0WlnxtUoYNpP5xTnAb3vBMXUtx23nL8epeVeLDTSb/n9a+piyeVJ1wx13lq4D8qFPsM3Uj34586pr/fYk6kJ8XKe4nfG1Us0GxPmVCysXV6lPgfFApDPOzC22/oQr73F9GX8WaKz99GPop0THU7dA313/SbSj0X8KbJxaBXpbwchwd1/OCTVKpfwxsnzdpS3lk599gzaOs/zKxVeDOlCX8KWherG8zBG0F2wTYqUmvNnKmlr7Nav/JFquzeFNCWkgjDfqmRfk1dZ5xLxBqLTH/MkzWdmictQyFlxvzJFa7AjziLTl5gvhtY5jtblFXuXKgbaUBdXKa5RabCA2rZINsv5tT9tHP1UqsxHK9Sl9wD9VCm/4gVV/nqLZDXiKLOsr2kbdAh127txeclTsG2frSbjaAKxmz5o3x4XfKg+p9Oi4UXhhNFUme9hfeXNq2fra6jvtS7VbtI2OdopC1ENoz2qhEfsQCnTRccgWib0BxLpt60FsE8bWRVbIi/6/DPYmGhLowApSe253yQO0Ryvn7YecoigKtdiz9rAPfBEo/kdPIntki8TeAu8LjLznXr9VhcVHtrqU+7KPyCcNC3QhqiGnKITIA7JFQoiiIIEuMkdOUQiRB2SLhBBFQQJdZI6cohAiD8gWCSGKggS6yBw5RSFEHpAtEkIUBQl0kTlyikKIPCBbJIQoChLoInPkFIUQeUC2SAhRFCTQRebIKQoh8oBskRCiKEigi8yRUxRC5AHZIiFEUZBAF5kjpyiEyAOyRUKIoiCBLjJHTlEIkQdki4QQRUECXWSOnKIQIg/IFgkhioIEusgcOUUhRB6oxRaNHjvO9Rw6zH28bWsyfm+jlv64YtRoTypOCFEfEugicyTQhRB5oKME+p4k8mtpy7gnnvSk4trK81OmuJ/27OvWNK1LxguxtyCBLjJHAl0IkQfaItC3fLzZNW9q9kIxJU4/+8enrql5vY/ftGWTD/v8853+nJvuvMt1GTTULV621O34ZLuP56+dy2/Skd7O27B5g/t0546yeYeUiyd8/cZmnw91Jj4spxxW71T6WvqDOoT1qJRfHB+ex+9HnnnW/ahbbzd7wbxSOWF62k077Rwh9lQk0EXmSKALIfJArQK9U/8TXfchZ7rOJw32fKtTZ3ffYxNKQnPl2tWu2+Az3MEDTnFnXX2d+36XHu7C3/7OC8whl17pvnPQ4e5rvzzI/bjb0e7Vt95yl9wyyt1wx52lMvj9g6N6uiUrlvtj/h484GQ3b/GisnmbeK8Uj4A96PiBfrvJL/oc50688GJfl/D8mLXrm1yfM4e7fY7s4QZfcoUXxxwTTnwt/UE9gN+bt37RB/v17e/DqMdx55zvw4mn/kcNOt2XQ3nU/5xrb3R/37HN1/t7nbu6r+zbyf2way/3wF8m+PM4n3yGX3ejb/fhA4f4fMhPiD0VCXSRORLoQog8UKtAR1w/NXlyKYzfCMa5ixa4nZ994oZcdpVfJTeByuouovmlN94o5RFuC3nsuedc/3Mv9CvnGzdvdH3PGu4F7HOvvebjX5w61fU6/ewvBH6FvKuVjUBne8jZ19xQEuTU+We9jnUz5szyxyHkd+71N7lTLrrMC2TC+Dvsmut9OPHV+oPjUKCPvPted+oll5fK5y/H9zz6WKm8sH7U/8hTTnOPT5rkj+MtLtzgEE86jmk35495aLw/FmJPRQJdZI4EuhAiD9Qq0OM91/wmbOyEx9265ia/2o2oRkQagy6+3N12/9hkHqyMcw4r5e/NneNXthHtrBwjOFlRh2p5V4vnN+IWkWt1T4UZ5Ld/vwFeBIfhHBNOfLX+4NgE+rbtH/vVd/ajh/XjhmLoFVe7tevXJcvjxsTyjwX6h4sXup/06OPuevhRH6btLWJvQQJdZI4EuhAiD9Qq0G01OIQw4hCJ/9nrGL8lBOEYYl8yiUXt1m1bXO8zzvHClJVkVpkR68cMO9ctXbXC/2U1vVretcS3RaATh+DnpiEM55hw4qv1h/0GE+5sU4nrx7aXj5YvS5YXEgt0mDl3tj/ftr90P+0st3DpklbnCbGnIYEuMkcCXQiRB2oV6Oy3RlRbGL8JsxV09nm/OXNGq/PCVeBYoAP70C+/7fd+tZtz2e7C7/FPP+33dSPYq+VdLb6tAp0XStlfblttDI4JJ75af3BsAt1W0Hk6YGmBulHHcuVNn/WBf8rA71ig27mWljIuvXWU35bDlhkLF2JPQwJdZI4EuhAiD9Qq0L+634FuwvOT/PYT4DcvNbLdguPLWgQi+7Rt3/ayVSvdwQMGulemTfPH7I+ORS2ilNVv9osjVAlD4LI/nBV0hGe1vKvFt1WgW36s7vMVGcL4yzHhxFfrD84xgc5vXuxkhdvy4yVP9twTniqPJwhse7H9+2zfob72EijhxJOOY/IY9cCDJYGOuP/b9OkS62KPQwJdZI4EuhAiD9Qq0NlOwZdP9jmiu99W8U+HdPHC0dLYl0q+e/CR/kst/GWPtO2PnrNwvv/qCNsxTBizQs6XWy4aeasXmYSx1ePbBx7e6gsv1fKuFN9WgQ7cGPDi5jf2P8SLbv5yTDjxtfRHKNB5+fOa28f4L72wtYW/V42+vXRDQf3Zj0449ac80ttLo9SXmxj6jrIJv/W+B0rp2d6zb9/+btb8D0tlx08rhNgTkEAXmSOBLoTIA221RYg+vh5igjoVz7YTE5ftSbW827tsttwgjsPvtceU649QoBvV8qulvBDaSXsrjYcQexIS6CJzJNCFEHlAtqh9sVX7488b4VfdU2mEEPUhgS4yR05RCJEHZIvaF/6rJ3vtYfaC+ck0Qoj6kEAXmSOnKITIA7JFQoiiIIEuMkdOUQiRB2SLhBBFQQJdZI6cohAiD8gWCSGKggS6yBw5RSFEHpAtEkIUBQl0kTlyikKIPCBbJIQoChLoInPkFIUQeUC2SAhRFCTQRebIKQoh8oBskRCiKEigi8yRUxRC5AHZIiFEUZBAF5kjpyiEyAOyRUKIoiCBLjJHTlEIkQdki4QQRUECXWSOnKIQIg/IFgkhioIEusgcOUUhRB6QLRJCFAUJdJE5copCiDwgWySEKAplBToRQgghhBBCiI4nKdBTgULUQ7lJJoQQHYlskRCiKEigi8yRUxRC5AHZIiFEUZBAF5kjpyiEyAOyRUKIoiCBLjJHTlEIkQdki4QQRUECXWSOnKIQIg/IFgkhioIEusgcOUUhRB6QLRJCFAUJdJE5copCiDwgWySEKAoS6CJz5BSFEHlAtkgIURQk0EXmyCkKIfKAbJEQoihIoIvMkVMUQuQB2SIhRFGQQBeZI6cohMgDskVCiKIggS4yR05RCJEHZIuEEEWhYYH+2Wc73I4dW9327Zv3GGgP7Uq1V7QdOUUhRB6QLaqfPPt6+WyxJ9KQQN+5c3vyYtlToH2pdou2IacohMgDskX1URRfL58t9iTqFujcraYukD0N3ZU3Tq1OcfTYce4r+3bahf37DXBT3303eU5RWdO0zv20Z1/3/JQpyfi20t751UMWddj52SfuopG3uu8efKTrPuRM19S8PpmuIznr6us8qTigjtT11bfeSsaL3Ucttoj523PoMPfxtq27xDHu2Kk4vL2oNrdqoZb515Zydpevf2/uLHfKRZe6i393SymM34QRF6YNkc8Wewp1C/T2fNTV1Ly2xaCcURJkI+++O5lud0A7U+0XtdMWgR47xk937nC33T/W/aRHH7dk5YpW6VPkQaimoD7Ui/pxvCcI9KzbBOR5wHED3JszZyTjdwfVxM2mLZvctX8Y42bN/zAZ31bifhb1szcI9Hj+pa7LtpST8vXTZk533z6ws/fX3+p0mHvj3Xd2SdMI8xbNdz/ufrQ786pr3Oz5c9y2bZt8+JwFH/qwHxzVy324aN4u54F8tthTqFugpy6MRjGhnieBDqn2i9ppRKDDyrWrvYN5cerUUhhpcDzrmpu8iCdsxyfb3ewF89yPuvV2jzzzrGve1Ow+/3ynT4vTsnPtfAuz35/941O3fmOzzw/4TRhxlBXnQd6UQRyrVqQN4w3Ooz7Ui/pZ3c1p2rHVNzyXPMk7VX5ImJ+FlTs3bGetZdO3YOkaaVMM9WAcSc95Fm7jiUCf/MYbFfOy8qyuFl5rW2PK1QlM3MT9Y/EWngojbWocqQ/1iuNT/RyeJ9pGewv0cFxT84o5QFw8R+J48iCvcsKZ+bhh84ZS/jZfwjz5zXwJ5x+kbKKVY/M8tKMxKZ9oINR/1LV3uwv0ex55xB08YKBbuWbFLnGr1650h504yN3x0EO7xBmpdghRNAoh0N+cMd39pEff0gr7ceec79Y2rfJxT774gr+D/9Wxx5fif//AA6U77vYg1X5RO40K9EXLlvrxfW/uHO9c7ntsgvt+lx5u8CVX+PQ/OKqnmzl3tn+k+8Ouvfwc+F7nrm7IpVe6bds/9vnGTi8M4zdzqs+Zw91+ffu7OQvn+7I69T/Rb69AIPYffoH7xv6HuDHjxvs6bN66yZ/ziz7HueHX3djiTE5xhw8c4m8mwnLgilGjfX2oF/V74C8TvFNGzA657CrfthMvvNh956DD3YW//V3JUZJXt8Fn+LypK20O40MsPxPolc4l7UHHD/T1ov6pspetWunbj2Mn/me9jnVnX3NDaXzqbVPMlLffdvsc2cPXk/Tf6tTZ3XrfAz69jedX9zvQp7HxDM+P58MJF1zkftztaD8fiK+lrTGV6kQ8/XnkKae5zicNdt1PO8u39V8OO6p0A9mWsbD4owad7vuaNhB/zrU3ur/v2JbsZ84R9dGeAp1rBBHJuGIDmF+DLr7c2wbimQ+MJXMS2Kb19Msvl/IinnnD+b3POMfPJ+YVZVgaY97iRS3pTnZLViz3x/zF7t1wx52lNPy+5JZRreZfOZtocxh+fd4IX3eud9pk+Rkpn2iUE+h/nfS8++dDu/hy4YIbf+u2bGku+Xi2LeK3iTug5feCjxa0On9YS/3OuPLqsn789Muv8qTiIG6DEEUk9wJ946Ym1+/s89zQy6906zesdfMXL3A/631s6e4ZgY4Df+iJv7otWze43919jzvw1ycl77zrJdV+UTttEehdBg11i1sEOU4GZ/HEiy/5sGtuH+MFzdsfvOcFEWnsvD9PnOgFNIImFkeWb+z0YoH+7QMPd9Pem1mKR6ATNuqBB70IJOylN95wPz+6nxdUOD6cGytSxJEGATvmofGlPEKoD/WifhxbPTnHhNrcRS1zu0UIz5gzy++9RujedOddpfIpC6FHPSxfI2x3tXNrLTuMR3QgRkPh0tY2cRyyYs1qf0M0/umnS/XkZgznbUKGPBEmjEd4rsHKH/FvzvjyHYV7Hn3MDb3iap9nFnVi3iCs3p39xbwm3X8/OM7913EnlFbdax0L4s+9/qZW9SOeufX4pEn+OO5nUT/tKdDHTnjcnTTi4tK4kb7X6Wd74c12POZMOC/5zU08c4R4tu2F84z5xLyKbRVs3LzR38TZvvLHnnvO59//3At9uYjuY4ad65577bVW84+08TFQBrZs6aovtg1iO/udc77fTmhpjJRPNFICfcXq5b5uN/3xTi/Kp05/y4v15197peTju5461C1ftazkzx+cMKF0Pn6+9+nDKj5Jv+Xee30+5JeKj9sgRBHJvUC3i/3RZ58phXHnfN4NN/nfCPQfHtXLLVyysHSMwVi0dFEpfaOk2i9qpy0C/Wu/PMivgOK8gFUfXnhauHSJT4MAHjjiErd63VrveIDtD6z+IJxTzigU46kwfscOGUFI+aEwDMM+XLzQ/77r4Ud9mTxWtnQpYpGVqmcYZsITZ0+4wQpdyom25dwwbep8fu/bIlJNDBiIgloEerl8LcygfowbW1DCcFYBEa385vxKAt2wx/rc1F1w08hSPbOoE/MGQW3CClatW+OFPX0W5l9tLIjHvsV9zVaFcv0s6qc9Bfor06b5VezHX3jB31SF84HxPuLk0/zNnY25bdfixjA1zzifG8vYVhnMQVbJSccTFq5HnvBwbbCizgo8fykrnN/xMVBGXE4qDFI+0UgJ9PfnzvKie8rbb/pj8+ssqtlvxDur4ymfnwqLQaAj8pvWr0nGx20QoojkXqAvWf6R+4/ufdx3DjzcvzQCX9//EDf4ksv9BR4Lcgn0/NEWgR47RlanEEOsQrLaSBq2mpiAN9jGwNaUlDMKxXgqLFVuKMbLhbGNgkfGtgWBFWa7kYiJRVaqnmEYv/+z1zF+q0XYTmDbg51Tz7m1lJ0SxcS1p0CP8zPCsSlXF4OVQ4Qz21BId/6NN3ss3yzqxF+Ow3jScx7nh/nzu9pYVLsBIR/yI20qXtROIwLdBLSNPcc8BWHlmW1TLC6wRWnt+iafR7zYYHAzVq4M5pbNsxie4LBizk0oZbIKj2BnJR/Bz+p9as7Hx5Aqp1zZKZ9opAQ6YbxAytMA/DXxX/vlgd6vxz5eAl2I8uReoC9budTfjU94fmKrtIYEev5pRKADjoXVIR7zsoJ+ykWXebFu8Yh4VqJYRU05o1BcGaxGWViq3FiMx2GkDV/mQyheeuuoXepmUJ9QZKXqGYaxsspNR/z1knBlNaQt51Yrm75kdc+2WBgj7763VT+RlnM4N87DzkmFGQgVVp1ZfbYwRA83ZIwPx5xfScDySJ+5wQqmhSFYrJ5Z1Il5Y1toLA1Pb9gykFpBrzQW1te0I4yfPusDv++Y3+RDfuQbphFtpxZbxBjS37bf28D+MNeYXxzH1yJzEAGNaEYws52Fcywe+8R4Y6+IZ76E8wy7gf1IiWSwfei8h2ALFtSV31eNvr20Hz2e36n5ThlxOakwSPlEIyXQp38w0y+qxfvSoRaBDuFT8hTsUbdFulR83AYhikjuBbrtQT/tsiv9fjZeJuHO+eGnnvLxEuj5p1GBjhNiywWOhq0lCCjbL45IYv8vL2GxjxJBhOMLX8bCoeJY12/4QsTxqJkVTXNG9Qh0Vs7YmmB7OKkH+9XLCXQcMk4SIcdxymmGYeR3WYvgH3bN9b5dxNtLaTxat3PqObda2RzzMiwvjvGpNtpD/emzsJ/a2iYLM9iSQp3oN9si9Nb7M/22AWsj57dFoLN6yf7ucquJ0GidmDfhOwuk4yVShDbnh/lXGwuL5yVBvtJBPHOKuWXvGsT9TLqJr77aStyJ2qjFFvG+Be8A8OInN96EMXY333WPtz28p0AY7zrw1MxeCrWnfQhl5sEhJwxyE56f5MeY+KcmT/ZzlbjUPHvh9dfdNw84NCmSgfnMPnPmht0kIPjZSsPLqMwTwuL5nbKJKTGeCoOUTzSq7UFHQPORB9rKlpdaBfrosWPLrpDbOayix3EGNutv06f7G924PUIUhboFent+B922sdgb34ZdtK+8ObVFGH35FZdug0/3L5cQl7VA1zdVG6dRgc7KEV8iQKhzjCP6187dfBjbS3h5yoQyhhkHyTyxvHCgfKkA58c5ONURN99Sckb1CHScMaKMrRU8xka8chNR7tvXOE2EI/WivFqEI/VmCw1ff6AM/rLn3Rx6SFvOraVs2odIx/Hbo/twZdrOaWubYhhbVpjZIkAf8vfRZyeWRA3nVxLo1k7GlnYCQgRBwPhmUSfy5TvTvJhs8XYzQ3ycf7VxJJ4VeZtLbOGyl6Itv7Cf6QtuEMrVX5SnVluEPcFO8AEC28KG6AxfLA63V2EXzBbZjRTzAZvAHDH7EJ5PPPOG+cMNIIsM2KmUSDawbWwd4UVnjpmT3BRwvq34x/MvZRMpIy4nFQYpX4+fJb+Q8Hvo4596stVXXAZdfJlbtXZFzQJ9xuz3W/qsu7tz/Hi/SGfh/OYTjHwH/Z33Z7Q6x6C+tJG2VupLIfJO3QJd/0lU1EqtTrEtIG5YhQq3mVSDtG1JXwuIKFao4pfE2hOcDWWYYGsL9ZzLt5Nv/9NDu9xssL2IT1HaqmJ7wrgwnqmbj1qgnY2cn6KWOqXmVLkbgGpjQb9zLn9T8aJx2mqLbEwYu1Q8WJqUbcEmYBvK2QeLT52bF3aHr2fl/dFnnvYfgAi3srD1hTCeoG/9eOMu54F8tthTqFugw86d20sXhb0YEt5RA6vZs+bN8XfJcRyU21veHqTu8oFHZ6zKl6uvrb7TvlS7RdvIQqCL7EA02LYLBCphfNaSFUR9h7syiDU+l8eKpm05EPlBtqg+Ql+fZ+SzxZ5EQwIduFttz+0ueYD26C68/ZBTLB7suR15z73+cTo3rmx1YctLPav4exNsw2K7A1uo2LqSSiN2H7JF9ZNnXy+fLfZEGhboQlRDTlEIkQdki4QQRUECXWSOnKIQIg/IFgkhioIEusgcOUUhRB6QLRJCFAUJdJE5copCiDwgWySEKAoS6CJz5BSFEHlAtkgIURQk0EXmyCkKIfKAbJEQoihIoIvMkVMUQuQB2SIhRFGQQBeZI6cohMgDskVCiKIggS4yR05RCJEHZIuEEEVBAl1kjpyiECIPyBYJIYqCBLrIHDlFIUQekC0SQhQFCXSROXKKQog8IFskhCgKEugic+QUhRB5QLZICFEUygp0IoQQQgghhBAdT1KgpwKFqIdyk0wIIToS2SIhRFGQQBeZI6cohMgDskVCiKIggS4yR05RCJEHZIuEEEVBAl1kjpyiECIPyBYJIYqCBLrIHDlFIUQekC0SQhQFCXSROXKKQog8IFskhCgKEugic+QUhRB5QLZICFEUJNBF5sgpCiHygGyREKIoSKCLzJFTFELkAdkiIURRkEAXmSOnKITIA7JFQoiiIIEuMkdOUQiRB2SLhBBFQQJdZI6cohAiD8gWCSGKQsMC/bPPdrgdO7a67ds3FwrqTN1TbSrH3tTW9kROUYjGadT+ZGXzdrd9aQuyRUKIotCQQN+5c3vSYBcJ2pBqW8ze1Nb2Rk5RiLaxbNVKd9KIi938jxb74/a0P1nZPMuXOlN32hDnubtpqy3a8cl2t6ZpnYffqTRCCJEFdQt0VkxSRrqIVFv92ZvamgW1OsXRY8e5r+zbqRX7HNnD3f3In93fd2xLnpNi5drV7uABJ/tzrxg12s1ZON91H3Km/5tKLz5zTc3rfR+9+tZbyXjRcTDXjz9vhBv1wIPu8893ZmJ/srJ5nEedqfupl1zuPt2Zr5X1Wm3Rhs0b3JDLrnJf++VB7odde3m+sf8h7tb7Hshdmyqxu2zfe3PnuJ/06OP/puIB2wypOJFGdnrvom6B3sij1rxBW1JtNNqzrdNmTnffPrCzF5/f6nSYe+Pdd3ZJ8+Lfprjh197g1m9Yu0tco1Rraxa0RaD3HDrMfbztizri6GcvmN8itk9x591wc82O8fkpU1znkwa7jZs3+uOlq1a4a/8wxv+N04ov2LRlk++jWfM/TMbvjTAPmY/My1R8Vrz0xhstc36gW9fc5I+zsLVZ2TzLl7ofPnCIe/uD93bJe3dSiy3avHWT63PmcHfyby71gsjCFy9b6vbvN8CNGTe+Vfp6YVX+pz37enuVim8Pdpftq0Wgj3viSU8qrq10RF/mAdnpvYu6BXrKOBeZVBuNVPpGQaj/qGvvpEC/5d57XddTh7qm9Wt2iWsPUm3MknoFuoFj/M9ex7inX365FPbZPz71zhPDjNGycH4/8syzrsugof488kLYk9YEPmksHCEBsfgvl385LK9yj8LLPSqnnPUbm/35lEO8td/ypB6ks3Pi+pcrkzTVyiQN+Vl7w3TlzjcIqyV/4ps3NfsbrvD8mLA9nBfGxfVMpYFa6xSOqfV7OA/4+9HyZX4e3XTnXa3GgHbQHs6J28V5lENaGyfCw3pX64tLbhnlbrjjztJx6hpuD8IyY1Lpa8XyoA20Jcx3d1OLLXp80iS3X9/+bsWa1cm4Tv1PLM0lG2uLj8PCuRLOIebm7AXz3I+69fb2KpwT5FHtOrA0YZ42j8NzSEca/obXRkh4nXAuYeG1UI5K10Eo0C3POA31BTuulJ9hbQzjK/VlTNi3YbuNsI/CePrYxjzuZ8szHAuwsSLMrv1wbMJ01cqM8wrThXVO5V9Lm6wOqb4rVz+RPbkR6H+d9Lz750O7lLY2XHDjb92WLc0+bvxTT/rVZsL/5bCj3HcPOdKNvPvuXfJohFQbjVT6RkkJ9A8XzXP/3qVnqQ+ANIuWLmp1bqOk2pgljQp0DMZFI291Z19zg//NFpZug8/wK+tnXX2d+36XHu7C3/7OGxoemX6vc1f/aPrH3Y52D/xlwi6rOZxzzrU3ukNOGOR+fd4I94s+x3mna3tmK+Uf1st4cepU96+du/lV+xMuuMh99+Aj3Z8nTvRx1Ben8a1OnX3bep9xjo8njDiM3kHHD3SDLr7cn0+afzqki3v02YnuyFNOc/3OOd9v1ek//IJSv1j9Sd/9tLPcr4493l8X1MPKvO+xCb7egy+5wteJvpg5d7aPtzLpK+rCX8JsBYrzWSUkzs6nfS+8/nqb2kS+9O2JF17svnPQ4RX7cMrbb/t20uekJ+9wOwFz47iWvqAfaDeQhnZSJmloP22mvjYOdlOXajN5X3P7GL99gT6lLWyNYh6wJYA5wTyi7jxWxjGuXd/kV1epK32DKOCYcMphjnHeiJtv8eUw/8iPFXHaNvy6G32fMN6s1HJOyNZtW1yP04aVxhJS13B7EJYbk0ofMm/RfHfGlVe7W+65d5c4y4M20BbaFOa9O6lmi5hLQ6+4uuyNBXPGBDhjzXxhbll8GMb4MmcZb8ad8eepAvaFLQrMO2w89mrIpVe6bds/ruk6wC5gn4gnLfUlDfOOeco5tpIc2j7K5LdBuZTPONHu0GZwLfzgqJ4lmxFTy3WAzeEpBIsr2LFvHnCob6fNe6454DdhxHFjRBh9Rt9ZWounzuRJfN+zhrv1G5rL9iXnhdDOjrTT1WxW3OdttdOkwb4Rx7nkQfvuefSxUv6N2GnSVPIDIntyIdBXrF7uHx3e9Mc7vSifOv0tL9aff+2VZBxbRPZEgW5oBX3XVQCLYxWBvaGsamJAiOOuH4fF1gCOMV5hPqGT4hgH8POj+5Ue+7LnFwN72/1j3c7PPqmafwirbP913Anu8RdeKIW9OeNdP2eXrFzhy8R54Hgtftp7M0v1MYNr5YGJRp4AkH5Ry18Mt+07pP4I8ndnf9GvnPPfD47z9WAlBxAJ1MPKxGjjyElrZQ675vrS3v7Q8CNAEBKvv/NO6fznXnvNHTPsXO/4am0TN1QmLOYuWuB+1utYN2POrNI5Bn2IYx7/9NOlPqfN9KEJbMYfsfzU5Mml8/hNPcibviZ92GZ+0w5bMYvbzKobDsr6mbK5EWQecMz8YR5RNsfMjXOvv8mdctFlpTz4S56EE0/7v33g4V4wIeJIM3bC4/6lSesL8u11+tmtRLhBPRk78rGw1DXcHoTlxqTSw6x5c1oc9W9axuJAL9AR6nEay4M2xAJ2d1PNFsVjXolU+8IwrlfEG/aDOOYX18SYh77YImNz0sRWrddBbBsQhrH96H/uhX61k/qEts9A8CKobesgW5G40bd8AfGKuLS5brTlOgi3JnKjSvuwRRyHAn3k3fe2emeBvxxbWtrNYoQJdovnPI7jvozZHXa6ms1q1E4zvowz88XOp66HnXSqz7vWNpWz09X8gIWJ7MiFQH9/7iz3s97HtkykN/1xU/Na133IGe6Ohx5y0z+Y6f6je58v41pEK+JVAr1+Um3MkvYU6EtWLPdGDXGDgTFY2TBhVYtAN8dgWJgZzUr5h5DOHnlbWPjoEGdsztLizbASR96xY4n7wUSDpaGe9jTBzlm1bo13fuYcwB6H4hgvuGlkKc9UmWEYzoCXFFk1wenEjzXraVMqzEj1IbCKicPnd2puWL8ggMnjiJNP8/WlLECAH3DcAO9sKpXPODHunHvs2eeV5oblT9kckwaHHvYxcEy4OcVYEL0ybZpfjUQcVHr8DtST+ReeH1+/p19+VekJW8iE5ye2esclJGVPwnJjwnSwcMlCd3zL+H6nRXRdcdvv3bKVS3dJY1getMHEapj37qQjBfqHixf6uXDXw4/6Y7thMwgL52Q910GcB/Db0lCfeD4y/7ihZwXaBC/X7cARl7jV69b6PGHyG2/4+rDib+dCvdcBUH+zHWZzEXvcLLAf3coGxDBilXYQz3Ue5kU4Czb8Jn256xt2h52O48M0YVvqtdOM42W3jnJHDTrd27qwHGjUTlfzAyJ7ciHQzamwKvjj7kd74coKDSI8FrIm3iXQ6yfVxixpVKBjiBCkOCkMCI9MWTXCAYTwqI70GJcwn9hZmGOw/MOwWvIPicuKoU1xWUAYcSkjWc3w27mWPk6Dw6OveLSJWDj/xps9lmc1w8wxjuvGP97lH30i8HiEjcBkLOppUyrMICzVh2E51cokD9vWFI8bwiFVPo/jEeQ8wmWlEyHE43Mrx/qU/Dkmj1g8A8cmyuK5BvQZT194SsMjZOqJ07PtACGpMlLXcHsQlhsTp33yxRe8Tb5r/PjS1sNyWB5hv4R5706q2SLGClHIkxR+x/F83YWxRNim2heHsV3BtmZwHbEKvHDpEh9HmnBO1nodhGniPCDMh/rE85FVXG4Y7QkckC9fqQmvG+AJU/wFGMqM5yiEbY/7wQjrRpvArjP6KC6fvmtqbvbxYRtjUv0QEpabig/7OIQw4lL5x2Nh7bA01fJsDztNHnf8z8N+nLAraCi2pXDTUU+b4rBKfsDOEdmRC4Fuq+QpsUocQvb1t6f5Y62gN06qjVnSqEBnJQrDgGNkdQZj9ObMGa3SsJJi52FcwnxiJ4WBig2XhdWSfwjij5VrVrAtjJUHVk1x5qyUxG3iN2HE1WP4qac9BrVzWOVi2w714TEk+x3t0TqE9ahmmDHuGGZb8eMvj9j3bWknTzDqaVMqzEj1IW3jpsz2AtMn7K8N9zPzmzDKZIWMx7H25R4IV8jK9XO49QQoz+aGtYl0HJMXq3D0r6UHjm11Lp5rEM8dxoVVrPBFUIM8aEc4/+Lrd3esoG/btsm98uZUf22QP3vP1zWt3iUdWB6MK6t74ZjsbmqxRbwIyo1euN3DYNtHONaxCKXNXCeEMea2wguIqUtvHeW3hrANJJ6TtV4H4bWXmtf8tjTxfESUI87DbRfAiqrVy8JiO2DUeh3Qh/GWNp5C2qqu2VxbQX/suedapbX+s1Vfuw6NeYsXuemzvhjPVD+EpPo2aztNfCWb1aidDu0bccwV+pstKtiPetoUhlXzA3aOyI5cCPRwnzmO4M0Z01sM30C/rcXibhhzh9v68cbM9qBzkU589dVWF3AWbTUqCfTRY8e6n/fu1+4vhxq0kbbS5ritWVCvQMdA8JiVFe3wxRUe64X78uwlPIwtxxiXMJ/YSZlj4LdhYbXkH8KjSeL47rMZMlYYCEPs22NuW3UAfhNGXD2Gn3qyv5P9hBxTrr0kRn1iw89KLXvo2fdMXtUMM/Wm/tTT4nGEbBfBMNfTplSYkerDt96f6YWE9Tl98tX9DmwRoZNKZfKbGzfKJA9e+rV4zkGE0A/ElevnUKCTDytFNjdMONjWJvJlbvCylV07/OWYcOLjuQbsK433zyK6UgIdgYRQsr23kLqG2wPK+tv06SWRE5JKD9hnbPARJw92X//Vwe7hp57aJY3lQf/yPgfldLTNKUcttojrnicpzB0e7RPG2GKLWOXlxV/CEIjYJtvjy3zhpXPmGfONBQV8l73rQh7McRPCXGfcVNv+8lqvg9A2pOY1vy1NOB+Zf2xrYXuLXSMGcx8BazaFeNLxYqDZQYO4Wq4DbFRoR+lLxJ31n9lcfhPGNWL5WV0tLX/pS7tpIp70dp3EfRmT6ltsVpZ2uprNatRO0688laNN5E08c80WmOppUxhWzQ/wG/sR3tSJ9qVugd7e3+blSy3hV1wGXXyZW7V2hY+759FHnH3FhS+4tLdApy1mUMLJmkVbeVRsbTTi76Hz1OAnPfr6uK/vf4ib+MrkVnk0Am2hjbQ1FBFZ0haBHvcNLy799cUXS0YVMM48+mRrAqs0/GWfp6WhfaHhDJ0Ux6FjMMKwavnH8E1anAfOm60x4RdVAAeOUSYe+G1OvR7DTz0RArzARXlsm0BY2rdxrf58NYH6A44LY8u51Qwzx9SP88jf+iD8Ykpb25QKC0Hs4Fhoi7WJLyRYefQJ21BOu/wqt88R3X2ZfEUh7GfajwDgfOC3reClyuepAyu8lMXLVKyGPvvKqz5/yiMNK008+udc8kCE8ViaMNrMX44JJ30818DO4VE2cdSdcuO9vQYruOHLee1ta4E8bV7F10ItZSLU3531nnvu1ZdbhXMe5zMHaSNt4Zh+70ibU45abRFjhthk2wDzg3FmvpnYIQ1/2V5AHPOH+cBLi7aqzo0YN86Mu11LzEm7ThE23KRh5+x6r+U6CG1Dal7z29KE85FV8ti+gs11riW+0kFbbI6W+356LdcB/cA/mbM86UterLQb4tDmEkacXSP8vWr07aVrgPjrxtxR6sv4izCpviQ8pKPtdDWb1R522uYLeVu/hX3cqJ0mrc1d/oZ+gDqW62vRPtQt0LP473a1kMUedPuvetyJhhfs7m5rFth/+mOPJS+WxG3NglqdYlvBMHCXb8aovWlr/jyOZaUmJeTpc1ZKwJxtvYSOjTLDx+gh1L9cfWrB6lyuD9qzTUa5PgydIZQrs546UWZb28Bjd5xZW16csnPKjZdBXVhJs9XALOyP2TxuYC6/7fetym+kTMsXIUsbaEuc9+6krbaIech8rDQ/GNdK1xnXDtdQW+dkI9duvVh7q81Ro5brgPaTZ2xDQjtmVMvP+hIbkIqvhUp9W4/9KEetNou4RseaNpXrt0bbZOdn6WtFmroFOuzcub1kmMvtfWQbB5/mQlTHccC+ydDAVyMW6OX2YxKfWq2GcD8mbaAt7FHDWNgdeUzY1kr5sk+zXD80smWlUv+Sb6V+sDysrTwuZLWhoy62rAT63krKse3pxKtVezpsaWAlje1VHIf2p1HMDiAK2OJjK7oxbS3T8qXOfOot/HxcXpAt2v0gRBGTfCGEVfdUmj2Bvc1mifanIYEOrJhk8Qi2HBs3Nbnb7ru/RSRPSsbXCnW21Z5a6ei2thf1tLU9kVNsX/iaTOqLMnsy3FTyONgeoe/p2KpVuCLWqP3JyubF+VLnelfrska2aPfDjSEvSsLsBa2/ELMnsbfZLNH+NCzQhaiGnKIQIg/IFgkhioIEusgcOUUhRB6QLRJCFAUJdJE5copCiDwgWySEKAoS6CJz5BSFEHlAtkgIURQk0EXmyCkKIfKAbJEQoihIoIvMkVMUQuQB2SIhRFGQQBeZI6cohMgDskVCiKIggS4yR05RCJEHZIuEEEVBAl1kjpyiECIPyBYJIYqCBLrIHDlFIUQekC0SQhQFCXSROXKKQog8IFskhCgKEugic+QUhRB5QLZICFEUMhPoH2/b6noOHeZGjx2XjBd7D3KKQog8IFskhCgKDQv0HZ9sd2ua1nn4TdinO3e4j5Yvc10GDXU33XmXa2pe7z77x6elczZt2eTTN29qdp9/vrMULvZM5BSFEHlAtkgIURQaEugvTp3qvt+lhzvhgos83z34SPf0yy+7OQvnu079T3Rf++VB7jsHHe66DznTi/TNWze5IZde6b7Xuas7+TeXul/0Oc71PWu4W7+hOZm/2DOQUxRC5AHZIiFEUahboC9ZucLt32+Ae3PGu6Uwfh8+cIhb19yU3OLC7+6nneWFOsestJ96yeVu5N33ltKIPQ85RSFEHpAtEkIUhboFOqvnR5x8mlu0bGlpi8vsBfPcAccNcDPmzNpFoG/b/rHrc+ZwN3bC463yIR1bXsIwsWchpyiEyAOyRUKIolC3QH9+yhS/heXH3Y52P+nRpxWvvvXWLgLdjjkvzkvs2cgpCiHygGyREKIo1C3QWUFnO8vGzRtLYbwIun5js9+6Egt0XiDtf+6Frba8wLzFi9z0WTKaezJyikKIPCBbJIQoCnULdF76POSEQW7C85NKX2J5avJk1/mkwT7OtrTcdv/Y0jkP/GWC37e+aOkSf86mLRv9nvS7H/mzF/Wvv/OOe+eD932c2HNYsEBjKoTY/cgWCSHaG9O47U3dAh1mzf/Q7du3v9vnyB4efrP/3OLZb/6N/Q9xP+3Z161et9Z98unf3XVj7nDf6tTZb4355gGH+q+6INS3frzFr7ifdfV1yQ4QxUVOUQiRB2SLhBBZE+rkRmhIoAOV4Xvm9k3zWkCor12/zm3Zutn94x+fij2c+fPfS4YLIURHIlskhGgPUtq2HCntXAsNC3QjVSkj1TgPcWKPZ/6C95PhQgjRkcgWCSHahZSmbSGlgY2Udq5Eu6ygp2hVaY5b4CVSsfcxb/77yXAhhOhIZIuEEFmQEu4pbQwpLZ2iboGeKjSsWEqQ7/zsk4rwoqjY8/hw3sxkuBBCdCSyRUKIekhp1pBY79Yi1lPaOqTNAj1VSDlRHlY+biz70IHPL4o9mzlz302GCyFERyJbJIRoFNOvsa4NNW+ohUOxntLQKa0NbRLocaYpYR5W0CpNQ/6+Y5vbvKXZNTWtcqtWL3HLly9wS5Z86BYtmuWhIkIIIYQQQuQN06toVzQsWhZNi7ZF44aiPdTCtQj1lOamzFT4LgI9zqycMLfKcZex/e8fu+bmtW7lyo98o1auXOTWr1/lttCYv291O3f+vSWvT1uVI4QQQgghRN5As6Jd0bBoWTQt2vYLjfuR17xoXzRwLNZjoR7r6risqgI9zsDUfyVhvmXrBrdmzTJf4TVrlrqtLccS4kIIIYQQYk8DjYvWRfN+oX2XeS1cUaj/L7HOtjzTAv0z9/8D5EKf/UIyW4kAAAAASUVORK5CYII=)\n",
        "\n",
        "\n"
      ],
      "metadata": {
        "id": "cUAwFBf1g6KC"
      }
    },
    {
      "cell_type": "code",
      "source": [
        "# Initialization (__init__):\n",
        "class Person:\n",
        "    def __init__(self, name, age):\n",
        "        self.name = name\n",
        "        self.age = age\n",
        "p = Person(\"Alice\", 25)\n"
      ],
      "metadata": {
        "id": "S4MY0Cnbi63e"
      },
      "execution_count": null,
      "outputs": []
    },
    {
      "cell_type": "code",
      "source": [
        "# String Representation (__str__):\n",
        "class Item:\n",
        "    def __init__(self, name, price):\n",
        "        self.name = name\n",
        "        self.price = price\n",
        "    def __str__(self):\n",
        "        return f\"Item({self.name} for {self.price})\"\n",
        "i = Item(\"Fridge\", 1000)\n",
        "print(i)\n"
      ],
      "metadata": {
        "colab": {
          "base_uri": "https://localhost:8080/"
        },
        "id": "P_fXpyi_jG0j",
        "outputId": "8882ed20-0b09-447c-bc2e-ddb0c2117af2"
      },
      "execution_count": null,
      "outputs": [
        {
          "output_type": "stream",
          "name": "stdout",
          "text": [
            "Item(Fridge for 1000)\n"
          ]
        }
      ]
    },
    {
      "cell_type": "code",
      "source": [
        "# Operator Overloading (__add__):\n",
        "\n",
        "class Item:\n",
        "    def __init__(self, name, price):\n",
        "        self.name = name\n",
        "        self.price = price\n",
        "    def __add__(self, other):\n",
        "        return Item(f\"{self.name}, {other.name}\", self.price + other.price)\n",
        "i1 = Item(\"Fridge\", 1000)\n",
        "i2 = Item(\"Waffles\", 25)\n",
        "print(i1+i2)"
      ],
      "metadata": {
        "colab": {
          "base_uri": "https://localhost:8080/"
        },
        "id": "O-LmqhJljZ08",
        "outputId": "ab3fdf2d-71c6-4f27-c978-d7082ba881ea"
      },
      "execution_count": null,
      "outputs": [
        {
          "output_type": "stream",
          "name": "stdout",
          "text": [
            "<__main__.Item object at 0x7f9ed00b5750>\n"
          ]
        }
      ]
    },
    {
      "cell_type": "markdown",
      "source": [
        "6. Explain the concept of inheritance in OOP?\n",
        "- Inheritance is a core principle of object-oriented programming (OOP) that allows one class (called the subclass or child class) to inherit properties and methods from another class (called the superclass or parent class). It facilitates code reuse, modularity, and the creation of hierarchical relationships between classes.\n",
        "\n",
        " - Key Features of Inheritance\n",
        "   - Code Reusability: Subclasses can reuse code from their parent classes, reducing redundancy and improving efficiency.\n",
        "   - Hierarchy Establishment: Classes are organized in a hierarchical structure, defining relationships like \"is-a\" (e.g., a Dog is-a type of Animal).\n",
        "   - Extensibility: Subclasses can add new features or override existing methods from the superclass to extend functionality.\n",
        "   - Polymorphism: Inheritance enables polymorphism, allowing objects of different subclasses to be treated as objects of their parent class\n",
        "\n",
        "- Types of Inheritance\n",
        "\n",
        " - Single Inheritance: A subclass inherits from one superclass.\n",
        " - Multiple Inheritance: A subclass inherits from multiple superclasses (supported in some languages like Python).\n",
        " - Multilevel Inheritance: A subclass inherits from another subclass\n",
        " - Hierarchical Inheritance: Multiple subclasses inherit from a single superclass.\n",
        " -Hybrid Inheritance: A combination of two or more types of inheritance.\n",
        "\n",
        "- Advantages\n",
        "\n",
        "  - Promotes code reuse, reducing duplication.\n",
        "  - Simplifies maintenance by centralizing changes in the superclass.\n",
        "  - Models real-world relationships effectively (e.g., \"Vehicle → Car → Sports Car\")\n"
      ],
      "metadata": {
        "id": "2OceGIk3lXk4"
      }
    },
    {
      "cell_type": "code",
      "source": [
        "class Animal:\n",
        "    def __init__(self, name):\n",
        "        self.name = name\n",
        "\n",
        "    def eat(self):\n",
        "        print(f\"{self.name} is eating.\")\n",
        "\n",
        "class Dog(Animal):\n",
        "    def __init__(self, name, breed):\n",
        "        super().__init__(name)\n",
        "        self.breed = breed\n",
        "\n",
        "    def bark(self):\n",
        "        print(f\"{self.name} is barking.\")\n",
        "\n",
        "# Creating an instance\n",
        "my_dog = Dog(\"Buddy\", \"Golden Retriever\")\n",
        "my_dog.eat()\n",
        "my_dog.bark()"
      ],
      "metadata": {
        "colab": {
          "base_uri": "https://localhost:8080/"
        },
        "id": "9rm8MGCToiCe",
        "outputId": "16f46820-7449-4df6-9721-babc754695ab"
      },
      "execution_count": null,
      "outputs": [
        {
          "output_type": "stream",
          "name": "stdout",
          "text": [
            "Buddy is eating.\n",
            "Buddy is barking.\n"
          ]
        }
      ]
    },
    {
      "cell_type": "markdown",
      "source": [
        "7. What is polymorphism in OOP?\n",
        "- Polymorphism in Object-Oriented Programming (OOP) allows objects of different types to be treated as objects of a common type, enabling the same method or operation to behave differently based on the object it is applied to. Python supports polymorphism through:\n",
        "1. **Method Overriding**: Subclasses redefine methods from their parent class to provide specific behavior.\n",
        "\n",
        "\n",
        "\n"
      ],
      "metadata": {
        "id": "LUKxgS2esH-J"
      }
    },
    {
      "cell_type": "code",
      "source": [
        "class Animal:\n",
        "    def sound(self):\n",
        "        print(\"Generic animal sound\")\n",
        "\n",
        "class Dog(Animal):\n",
        "    def sound(self):\n",
        "        print(\"Bark!\")\n",
        "\n",
        "animal = Animal()\n",
        "dog = Dog()\n",
        "animal.sound()\n",
        "dog.sound()\n"
      ],
      "metadata": {
        "colab": {
          "base_uri": "https://localhost:8080/"
        },
        "id": "7o8qoq7ItG4X",
        "outputId": "fa43da96-bb85-4586-ea26-707b128e317d"
      },
      "execution_count": null,
      "outputs": [
        {
          "output_type": "stream",
          "name": "stdout",
          "text": [
            "Generic animal sound\n",
            "Bark!\n"
          ]
        }
      ]
    },
    {
      "cell_type": "markdown",
      "source": [
        "- 2. **Duck Typing**: Objects are treated based on their behavior rather than their class type."
      ],
      "metadata": {
        "id": "pAfyTONpteeS"
      }
    },
    {
      "cell_type": "code",
      "source": [
        "class Bird:\n",
        "    def fly(self):\n",
        "        print(\"Bird is flying\")\n",
        "\n",
        "class Plane:\n",
        "    def fly(self):\n",
        "        print(\"Plane is flying\")\n",
        "\n",
        "def let_it_fly(obj):\n",
        "    obj.fly()\n",
        "\n",
        "let_it_fly(Bird())  # Output: Bird is flying\n",
        "let_it_fly(Plane()) # Output: Plane is flying\n"
      ],
      "metadata": {
        "colab": {
          "base_uri": "https://localhost:8080/"
        },
        "id": "RX7R96Whtmn0",
        "outputId": "2b901852-7fd9-4658-aef3-0e503d741e03"
      },
      "execution_count": null,
      "outputs": [
        {
          "output_type": "stream",
          "name": "stdout",
          "text": [
            "Bird is flying\n",
            "Plane is flying\n"
          ]
        }
      ]
    },
    {
      "cell_type": "markdown",
      "source": [
        "8. How Encapsulation is Achieved in Python?\n",
        "- Encapsulation in OOP is the bundling of data (attributes) and the methods that operate on that data within a single unit, called a class. It also involves controlling the access to the internal data of an object, preventing direct modification from outside the class. This helps to protect the integrity of the object's state. Python achieves encapsulation through naming conventions:\n",
        "\n",
        "1. Public Members:\n",
        "  - Accessible from anywhere.\n",
        "  - Default visibility in Python.\n",
        "\n",
        "\n"
      ],
      "metadata": {
        "id": "Dw78PI-quEsk"
      }
    },
    {
      "cell_type": "code",
      "source": [
        "class Car:\n",
        "    def __init__(self, brand):\n",
        "        self.brand = brand  # Public attribute\n",
        "\n",
        "car = Car(\"Toyota\")\n",
        "print(car.brand)  # Output: Toyota\n"
      ],
      "metadata": {
        "colab": {
          "base_uri": "https://localhost:8080/"
        },
        "id": "Fg8I-8ezvqvg",
        "outputId": "04f2a212-24dc-4987-d6bf-6f39e6775a1e"
      },
      "execution_count": null,
      "outputs": [
        {
          "output_type": "stream",
          "name": "stdout",
          "text": [
            "Toyota\n"
          ]
        }
      ]
    },
    {
      "cell_type": "markdown",
      "source": [
        "2. Protected Members:\n",
        "  - Accessible within the class and its subclasses.\n",
        "  - Indicated by a single underscore _.\n",
        "\n"
      ],
      "metadata": {
        "id": "iNyASdY3v7b6"
      }
    },
    {
      "cell_type": "code",
      "source": [
        "class Car:\n",
        "    def __init__(self, brand):\n",
        "        self._brand = brand  # Protected attribute\n",
        "\n",
        "car = Car(\"Toyota\")\n",
        "print(car._brand)  # Output: Toyota\n"
      ],
      "metadata": {
        "colab": {
          "base_uri": "https://localhost:8080/"
        },
        "id": "vmMEl6nwwLx7",
        "outputId": "37c7b743-f1c7-4c43-ee4d-54c8ce76dccd"
      },
      "execution_count": null,
      "outputs": [
        {
          "output_type": "stream",
          "name": "stdout",
          "text": [
            "Toyota\n"
          ]
        }
      ]
    },
    {
      "cell_type": "markdown",
      "source": [
        "3. Private Members:\n",
        " - Accessible only within the class.\n",
        " - Indicated by double underscores __.\n",
        "\n"
      ],
      "metadata": {
        "id": "fg1tWDDdwadh"
      }
    },
    {
      "cell_type": "code",
      "source": [
        "class Car:\n",
        "    def __init__(self, brand):\n",
        "        self.__brand = brand  # Private attribute\n",
        "\n",
        "    def get_brand(self):\n",
        "        return self.__brand\n",
        "\n",
        "car = Car(\"Toyota\")\n",
        "print(car.get_brand())\n"
      ],
      "metadata": {
        "colab": {
          "base_uri": "https://localhost:8080/"
        },
        "id": "n9wKbFdjxB5G",
        "outputId": "087e99be-d3b5-4cb6-e12a-1282595fa241"
      },
      "execution_count": null,
      "outputs": [
        {
          "output_type": "stream",
          "name": "stdout",
          "text": [
            "Toyota\n"
          ]
        }
      ]
    },
    {
      "cell_type": "markdown",
      "source": [
        "- Encapsulation ensures data security, modularity, and controlled access."
      ],
      "metadata": {
        "id": "xVoe8eMsxYbO"
      }
    },
    {
      "cell_type": "markdown",
      "source": [
        "9. What is a Constructor in Python?\n",
        "- A constructor in Python is a special method used for initializing an object when it is created. The __init__() method serves as the constructor and sets the initial state of an object by assigning values to its attributes.\n",
        "\n",
        "- Types of Constructors\n",
        "  - **Default Constructor**: Takes no arguments and initializes attributes with default values.\n",
        "  - **Parameterized Constructor**: Takes arguments to initialize attributes with custom values."
      ],
      "metadata": {
        "id": "3JPr6m7JyFQX"
      }
    },
    {
      "cell_type": "code",
      "source": [
        "class Person:\n",
        "    def __init__(self, name, age):  # Parameterized constructor\n",
        "        self.name = name\n",
        "        self.age = age\n",
        "\n",
        "person = Person(\"John\", 30)\n",
        "print(person.name)  # Output: John\n",
        "print(person.age)   # Output: 30\n"
      ],
      "metadata": {
        "colab": {
          "base_uri": "https://localhost:8080/"
        },
        "id": "-UvQSSpnzDB9",
        "outputId": "2e1b8996-6207-4149-c490-f56ce2fbc8a0"
      },
      "execution_count": null,
      "outputs": [
        {
          "output_type": "stream",
          "name": "stdout",
          "text": [
            "John\n",
            "30\n"
          ]
        }
      ]
    },
    {
      "cell_type": "markdown",
      "source": [
        "10. What are class and static methods in Python?\n",
        "- In Python, methods within a class can be categorized into three types based on their relationship with the class and its instances: instance methods (the most common), class methods, and static methods.\n",
        "\n",
        "  - 1. **Class Methods:**\n",
        "   - Class methods are bound to the class and not the instance of the class.\n",
        "   - They take the class itself **(cls) **as the first argument by convention.\n",
        "   - They can access and modify class attributes.\n",
        "   - They cannot directly access instance-specific attributes.\n",
        "   - They are defined using the **@classmethod** decorator.\n",
        "   - They are often used as factory methods to create instances of the class in a controlled way."
      ],
      "metadata": {
        "id": "Mjo1pD1Hzxf2"
      }
    },
    {
      "cell_type": "code",
      "source": [
        "class Employee:\n",
        "    num_of_employees = 0\n",
        "    raise_amount = 1.04\n",
        "\n",
        "    def __init__(self, first, last, pay):\n",
        "        self.first = first\n",
        "        self.last = last\n",
        "        self.pay = pay\n",
        "        Employee.num_of_employees += 1\n",
        "\n",
        "    def apply_raise(self):\n",
        "        self.pay = int(self.pay * self.raise_amount)\n",
        "\n",
        "    @classmethod\n",
        "    def set_raise_amt(cls, amount):\n",
        "        cls.raise_amount = amount\n",
        "\n",
        "    @classmethod\n",
        "    def from_string(cls, emp_str):\n",
        "        first, last, pay = emp_str.split('-')\n",
        "        return cls(first, last, int(pay))\n",
        "\n",
        "print(Employee.num_of_employees)\n",
        "\n",
        "emp_1 = Employee('Corey', 'Schafer', 50000)\n",
        "emp_2 = Employee('Test', 'User', 60000)\n",
        "\n",
        "print(Employee.num_of_employees)\n",
        "Employee.set_raise_amt(1.05)\n",
        "print(Employee.raise_amount)\n",
        "print(emp_1.raise_amount)\n",
        "new_emp_1 = Employee.from_string('John-Doe-70000')\n",
        "print(new_emp_1.first)\n",
        "print(Employee.num_of_employees)"
      ],
      "metadata": {
        "colab": {
          "base_uri": "https://localhost:8080/"
        },
        "id": "HBMo3tLWIzXT",
        "outputId": "07dc7777-88b3-4bb1-9d08-939e3f9e6d7f"
      },
      "execution_count": null,
      "outputs": [
        {
          "output_type": "stream",
          "name": "stdout",
          "text": [
            "0\n",
            "2\n",
            "1.05\n",
            "1.05\n",
            "John\n",
            "3\n"
          ]
        }
      ]
    },
    {
      "cell_type": "markdown",
      "source": [
        "- 2. **Static Methods:**\n",
        "   - Static methods are bound to the class but do not have access to the class itself or its instances.\n",
        "   - They do not take **self** or **cls** as their first argument.\n",
        "   - They are essentially regular functions that are placed within the class's namespace because they logically belong to the class.\n",
        "   - They cannot modify the state of the class or its instances.\n",
        "   - They are defined using the **@staticmethod decorator**.\n",
        "\n",
        "\n"
      ],
      "metadata": {
        "id": "bPE4-gAQI7kD"
      }
    },
    {
      "cell_type": "code",
      "source": [
        "class Employee:\n",
        "    num_of_employees = 0\n",
        "    raise_amount = 1.04\n",
        "\n",
        "    def __init__(self, first, last, pay):\n",
        "        self.first = first\n",
        "        self.last = last\n",
        "        self.pay = pay\n",
        "        Employee.num_of_employees += 1\n",
        "\n",
        "    def apply_raise(self):\n",
        "        self.pay = int(self.pay * self.raise_amount)\n",
        "\n",
        "    @classmethod\n",
        "    def set_raise_amt(cls, amount):\n",
        "        cls.raise_amount = amount\n",
        "\n",
        "    @classmethod\n",
        "    def from_string(cls, emp_str):\n",
        "        first, last, pay = emp_str.split('-')\n",
        "        return cls(first, last, int(pay))\n",
        "\n",
        "print(Employee.num_of_employees)\n",
        "\n",
        "emp_1 = Employee('Corey', 'Schafer', 50000)\n",
        "emp_2 = Employee('Test', 'User', 60000)\n",
        "\n",
        "print(Employee.num_of_employees)\n",
        "Employee.set_raise_amt(1.05)\n",
        "print(Employee.raise_amount)\n",
        "print(emp_1.raise_amount)\n",
        "\n",
        "new_emp_1 = Employee.from_string('John-Doe-70000')\n",
        "print(new_emp_1.first)\n",
        "print(Employee.num_of_employees)"
      ],
      "metadata": {
        "colab": {
          "base_uri": "https://localhost:8080/"
        },
        "id": "GqDXR1NNJlix",
        "outputId": "52712205-075b-441c-d876-d56c91b4cd9e"
      },
      "execution_count": null,
      "outputs": [
        {
          "output_type": "stream",
          "name": "stdout",
          "text": [
            "0\n",
            "2\n",
            "1.05\n",
            "1.05\n",
            "John\n",
            "3\n"
          ]
        }
      ]
    },
    {
      "cell_type": "markdown",
      "source": [
        "11. What is method overloading in Python?\n",
        "- Python does not support traditional method overloading in the same way as some other languages like Java or C++. In those languages, you can have multiple methods in the same class with the same name but different parameter lists (different number or types of arguments). The compiler then decides which method to call based on the arguments provided.\n",
        "\n",
        "- However, Python achieves similar functionality through different mechanisms:\n",
        " - **Default Argument Values** : You can define default values for parameters in a method. This allows the method to be called with fewer arguments than defined.\n",
        "\n",
        "\n"
      ],
      "metadata": {
        "id": "pvEIBwONKjOg"
      }
    },
    {
      "cell_type": "code",
      "source": [
        "class Calculator:\n",
        "    def add(self, a, b=0, c=0):\n",
        "        return a + b + c\n",
        "\n",
        "calc = Calculator()\n",
        "print(calc.add(5))\n",
        "print(calc.add(5, 3))\n",
        "print(calc.add(5, 3, 2))"
      ],
      "metadata": {
        "colab": {
          "base_uri": "https://localhost:8080/"
        },
        "id": "yestxFBjLdB1",
        "outputId": "d739c00f-42c6-4813-ac35-4c0e8d590a9e"
      },
      "execution_count": null,
      "outputs": [
        {
          "output_type": "stream",
          "name": "stdout",
          "text": [
            "5\n",
            "8\n",
            "10\n"
          ]
        }
      ]
    },
    {
      "cell_type": "markdown",
      "source": [
        "-  **Variable Length Argument Lists (*args and **kwargs)**: You can use *args to pass a variable number of non-keyword arguments as a tuple and **kwargs to pass a variable number of keyword arguments as a dictionary. Inside the method, you can then handle these arguments as needed."
      ],
      "metadata": {
        "id": "l8KTpayVLksy"
      }
    },
    {
      "cell_type": "code",
      "source": [
        "class Printer:\n",
        "    def print_items(self, *args):\n",
        "        for item in args:\n",
        "            print(item)\n",
        "\n",
        "p = Printer()\n",
        "p.print_items(1, 2, 3)\n",
        "p.print_items('a', 'b', 'c', 'd')\n",
        "\n",
        "class Config:\n",
        "    def set_options(self, **kwargs):\n",
        "        for key, value in kwargs.items():\n",
        "            print(f\"Setting {key} to {value}\")\n",
        "\n",
        "c = Config()\n",
        "c.set_options(color='red', size='large', font='Arial')"
      ],
      "metadata": {
        "colab": {
          "base_uri": "https://localhost:8080/"
        },
        "id": "pzF1DdC5L4JA",
        "outputId": "a383c4d6-c9c3-46a9-86f3-4ce96248e68c"
      },
      "execution_count": null,
      "outputs": [
        {
          "output_type": "stream",
          "name": "stdout",
          "text": [
            "1\n",
            "2\n",
            "3\n",
            "a\n",
            "b\n",
            "c\n",
            "d\n",
            "Setting color to red\n",
            "Setting size to large\n",
            "Setting font to Arial\n"
          ]
        }
      ]
    },
    {
      "cell_type": "markdown",
      "source": [
        "12. What is method overriding in OOP?\n",
        "- Method overriding is a fundamental concept in object-oriented programming that allows a subclass (child class) to provide a specific implementation for a method that is already defined in its superclass (parent class).\n",
        "\n",
        " - Key Aspects of Method Overriding:\n",
        "   - **Inheritance**: Overriding only occurs in the context of inheritance. A subclass must inherit from a superclass.\n",
        "   - **Same Method Signature**: The method in the subclass must have the same name, the same number of parameters, and the same parameter types (though Python is dynamically typed, so type matching is less strict than in statically typed languages).\n",
        "   - **Providing a Different Implementation**: The subclass provides its own logic and behavior for the inherited method.\n",
        "   - **super() Keyword**: Within an overridden method, you can use the super() keyword to call the original method from the superclass if you want to extend or modify its behavior rather than completely replace it.\n",
        "\n"
      ],
      "metadata": {
        "id": "59zHVjwXMB3h"
      }
    },
    {
      "cell_type": "code",
      "source": [
        "class Animal:\n",
        "    def speak(self):\n",
        "        print(\"Generic animal sound\")\n",
        "\n",
        "class Dog(Animal):\n",
        "    def speak(self):\n",
        "        print(\"Woof!\")\n",
        "\n",
        "class Cat(Animal):\n",
        "    def speak(self):\n",
        "        print(\"Meow!\")\n",
        "\n",
        "animal = Animal()\n",
        "dog = Dog()\n",
        "cat = Cat()\n",
        "\n",
        "animal.speak()\n",
        "dog.speak()\n",
        "cat.speak()\n",
        "\n",
        "# Polymorphism in action: treating objects of different classes uniformly\n",
        "def animal_sound(animal_obj):\n",
        "    animal_obj.speak()\n",
        "\n",
        "animal_sound(animal)\n",
        "animal_sound(dog)\n",
        "animal_sound(cat)"
      ],
      "metadata": {
        "colab": {
          "base_uri": "https://localhost:8080/"
        },
        "id": "HNPc9SUcNMnM",
        "outputId": "cba0f6d6-04bd-4e10-ce04-84052db2af32"
      },
      "execution_count": null,
      "outputs": [
        {
          "output_type": "stream",
          "name": "stdout",
          "text": [
            "Generic animal sound\n",
            "Woof!\n",
            "Meow!\n",
            "Generic animal sound\n",
            "Woof!\n",
            "Meow!\n"
          ]
        }
      ]
    },
    {
      "cell_type": "markdown",
      "source": [
        "13. What is a Property Decorator in Python?\n",
        "- The property decorator in Python is a built-in feature that allows you to define methods in a class that can be accessed like attributes. It provides a clean and intuitive way to encapsulate logic behind attribute access and modification, enabling better control and data validation.\n",
        "  - Key Features:\n",
        "   - It transforms a method into a property, allowing it to be accessed without parentheses (e.g., obj.property instead of obj.method()).\n",
        "   - It supports encapsulation by enabling getter, setter, and deleter functionalities for attributes.\n",
        "   - It simplifies access to instance variables while maintaining the flexibility to execute code during attribute access or modification.\n"
      ],
      "metadata": {
        "id": "LYnj_GRROfx9"
      }
    },
    {
      "cell_type": "code",
      "source": [
        "class Circle:\n",
        "    def __init__(self, radius):\n",
        "        self._radius = radius\n",
        "\n",
        "    @property\n",
        "    def radius(self):\n",
        "        return self._radius\n",
        "\n",
        "    @radius.setter\n",
        "    def radius(self, value):\n",
        "        if value < 0:\n",
        "            raise ValueError(\"Radius cannot be negative\")\n",
        "        self._radius = value\n",
        "\n",
        "circle = Circle(5)\n",
        "print(circle.radius)  # Accessing the property\n",
        "circle.radius = 10    # Modifying the property\n",
        "# Here, the radius property has getter and setter methods defined using the @property decorator and @radius.setter, ensuring validation when the attribute is modified"
      ],
      "metadata": {
        "colab": {
          "base_uri": "https://localhost:8080/"
        },
        "id": "fzMr0UfDO33Q",
        "outputId": "682ce8ac-94dc-43d3-fc4f-951d172c6317"
      },
      "execution_count": null,
      "outputs": [
        {
          "output_type": "stream",
          "name": "stdout",
          "text": [
            "5\n"
          ]
        }
      ]
    },
    {
      "cell_type": "markdown",
      "source": [
        "14. Why is Polymorphism Important in OOP?\n",
        "- Polymorphism, which literally means \"many forms,\" is a crucial concept in Object-Oriented Programming (OOP) that allows objects of different classes to respond to the same method call in their own specific way. This ability to treat objects of different types uniformly is a cornerstone of writing flexible, extensible, and maintainable code.\n",
        "\n",
        "- **Key Benefits and Importance of Polymorphism**:\n",
        "  - Flexibility and Extensibility: Polymorphism makes it easy to add new classes and behaviors to a system without modifying existing code significantly. If a new class implements the same interface or inherits from a common base class and overrides relevant methods, it can be seamlessly integrated into the existing codebase.\n",
        "  - **Code Reusability**: By working with objects through a common interface (e.g., a base class or an abstract class), you can write generic code that operates on a variety of objects. This reduces code duplication and promotes reusability.\n",
        "  - **Loose Coupling**: Polymorphism helps to reduce the dependencies between different parts of a program. Code that interacts with objects through a polymorphic interface doesn't need to know the specific type of each object, only that it supports the required methods. This loose coupling makes the system more modular and easier to maintain and test.\n",
        "  -**Abstraction**: Polymorphism allows you to focus on the \"what\" rather than the \"how.\" You can interact with objects based on their behavior (the methods they implement) without needing to know the details of their specific implementation. This simplifies the design and understanding of the system.\n",
        "  - **Improved Readability and Maintainability**: Code that utilizes polymorphism often becomes more readable and maintainable because the logic is organized around common interfaces and behaviors, rather than being tightly coupled to specific class implementations.\n"
      ],
      "metadata": {
        "id": "zJmKeX1KPVj2"
      }
    },
    {
      "cell_type": "code",
      "source": [
        "# Examples Illustrating Polymorphism:\n",
        "#Consider the Animal class example from the method overriding explanation:\n",
        "\n",
        "class Animal:\n",
        "    def speak(self):\n",
        "        print(\"Generic animal sound\")\n",
        "\n",
        "class Dog(Animal):\n",
        "    def speak(self):\n",
        "        print(\"Woof!\")\n",
        "\n",
        "class Cat(Animal):\n",
        "    def speak(self):\n",
        "        print(\"Meow!\")\n",
        "\n",
        "def animal_sound(animal_obj):\n",
        "    animal_obj.speak()\n",
        "\n",
        "animal = Animal()\n",
        "dog = Dog()\n",
        "cat = Cat()\n",
        "\n",
        "animal_sound(animal)\n",
        "animal_sound(dog)\n",
        "animal_sound(cat)"
      ],
      "metadata": {
        "colab": {
          "base_uri": "https://localhost:8080/"
        },
        "id": "FqjudHxCQexJ",
        "outputId": "327ba970-d7f8-4d57-a95d-845b631f8d93"
      },
      "execution_count": null,
      "outputs": [
        {
          "output_type": "stream",
          "name": "stdout",
          "text": [
            "Generic animal sound\n",
            "Woof!\n",
            "Meow!\n"
          ]
        }
      ]
    },
    {
      "cell_type": "markdown",
      "source": [
        "15. What is an Abstract Class in Python?\n",
        "- An abstract class in Python serves as a blueprint for other classes. It defines methods that must be implemented by any subclass but does not provide the actual implementation of those methods. Abstract classes are useful for enforcing a consistent structure across subclasses while allowing flexibility in their specific implementations.\n",
        "- **Key Features**:\n",
        " - Abstract classes cannot be instantiated directly.\n",
        " - They are created using the ABC module (Abstract Base Class) and the @abstractmethod decorator.\n",
        " - Subclasses inheriting from an abstract class must implement all abstract methods.\n",
        "\n"
      ],
      "metadata": {
        "id": "SycVN16wRusx"
      }
    },
    {
      "cell_type": "code",
      "source": [
        "from abc import ABC, abstractmethod\n",
        "\n",
        "class Shape(ABC):\n",
        "    @abstractmethod\n",
        "    def area(self):\n",
        "        pass\n",
        "\n",
        "    @abstractmethod\n",
        "    def perimeter(self):\n",
        "        pass\n",
        "\n",
        "class Circle(Shape):\n",
        "    def __init__(self, radius):\n",
        "        self.radius = radius\n",
        "\n",
        "    def area(self):\n",
        "        return 3.14159 * self.radius ** 2\n",
        "\n",
        "    def perimeter(self):\n",
        "        return 2 * 3.14159 * self.radius\n",
        "\n",
        "circle = Circle(5)\n",
        "print(circle.area())\n",
        "print(circle.perimeter())\n"
      ],
      "metadata": {
        "colab": {
          "base_uri": "https://localhost:8080/"
        },
        "id": "xc4MjRffSMra",
        "outputId": "99d4afd2-d348-4b87-a22d-1369da8c3011"
      },
      "execution_count": null,
      "outputs": [
        {
          "output_type": "stream",
          "name": "stdout",
          "text": [
            "78.53975\n",
            "31.4159\n"
          ]
        }
      ]
    },
    {
      "cell_type": "markdown",
      "source": [
        "16. What are the Advantages of Object-Oriented Programming (OOP)?\n",
        "- Object-Oriented Programming (OOP) provides several benefits that make it a preferred paradigm for software development:\n",
        "\n",
        "1. **Code Reusability**:\n",
        "\n",
        " - Through inheritance, OOP allows developers to reuse code across multiple classes, reducing redundancy and saving time.\n",
        "\n",
        "2. **Modularity and Maintainability**:\n",
        "\n",
        "  - OOP organizes code into self-contained objects, making it easier to debug, test, and maintain individual components.\n",
        "\n",
        "3. **Enhanced Productivity**:\n",
        "\n",
        "  - Pre-built libraries and reusable components streamline development processes, improving efficiency and reducing errors.\n",
        "\n",
        "4. **Improved Security**:\n",
        "\n",
        "  - Encapsulation and abstraction hide sensitive data and restrict access to critical parts of the program, enhancing security.\n",
        "\n",
        "5. **Flexibility and Extensibility**:\n",
        "\n",
        " - Polymorphism allows objects to behave differently based on context, enabling adaptable and scalable code.\n",
        "\n",
        "6. **Simplified Problem-Solving**:\n",
        "\n",
        "  - Complex problems are broken down into smaller objects, each representing a manageable part of the solution.\n",
        "\n",
        "7. **Collaboration-Friendly Design**:\n",
        "\n",
        "  - OOP divides systems into independent objects, facilitating teamwork by allowing developers to work on separate components simultaneously.\n",
        "\n",
        "- These advantages make OOP ideal for developing complex applications such as web development, mobile apps, and large-scale enterprise systems."
      ],
      "metadata": {
        "id": "m4bSIS2fSlVi"
      }
    },
    {
      "cell_type": "markdown",
      "source": [
        "17. 17. What is the Difference Between a Class Variable and an Instance Variable?\n",
        "- In Python (and other OOP languages), class variables and instance variables serve different purposes and have different scopes:\n",
        "\n",
        " - **Class Variable**:\n",
        "\n",
        "   - Definition: Class variables are variables that are defined within a class but outside of any instance methods (including the __init__ method).\n",
        "   - Scope: Class variables are associated with the class itself. They are shared among all instances (objects) of that class.\n",
        "   - Access: You can access class variables using the class name (e.g., ClassName.variable_name) or through an instance of the class (e.g., instance.variable_name).\n",
        "   - Storage: Class variables are stored in the class's namespace.\n",
        "   - Use Cases: They are typically used to store information that is common to all instances of the class, such as constants, counters, or default values that can be overridden by instances.\n",
        "\n",
        " - **Instance Variable**:\n",
        "   - Definition: Instance variables are variables that are associated with a specific instance (object) of a class. They are usually defined within the __init__ method using self.variable_name.\n",
        "   - Scope: Instance variables are unique to each instance of the class. Each object can have its own values for these variables.\n",
        "   - Access: You access instance variables through a specific instance of the class (e.g., instance.variable_name).\n",
        "   - Storage: Instance variables are stored in the namespace of each individual object.\n",
        "   - Use Cases: They are used to store data that is specific to each object, representing the unique state or attributes of that instance."
      ],
      "metadata": {
        "id": "yDkogEIkT4dD"
      }
    },
    {
      "cell_type": "code",
      "source": [
        "# Class Variable:\n",
        "\n",
        "class Car:\n",
        "    company = \"Tesla\"  # Class variable\n",
        "\n",
        "car1 = Car()\n",
        "car2 = Car()\n",
        "\n",
        "print(car1.company)\n",
        "print(car2.company)\n",
        "Car.company = \"SpaceX\"\n",
        "print(car1.company)\n"
      ],
      "metadata": {
        "colab": {
          "base_uri": "https://localhost:8080/"
        },
        "id": "mS-qHAByUoKS",
        "outputId": "c5d5dd04-1705-40da-a425-bd87bf72b89d"
      },
      "execution_count": null,
      "outputs": [
        {
          "output_type": "stream",
          "name": "stdout",
          "text": [
            "Tesla\n",
            "Tesla\n",
            "SpaceX\n"
          ]
        }
      ]
    },
    {
      "cell_type": "code",
      "source": [
        "# Instance Variable:\n",
        "\n",
        "class Car:\n",
        "    def __init__(self, owner, model):\n",
        "        self.owner = owner  # Instance variable\n",
        "        self.model = model\n",
        "\n",
        "car1 = Car(\"Raj\", \"Model Y\")\n",
        "car2 = Car(\"Rahul\", \"Model X\")\n",
        "\n",
        "print(car1.owner)\n",
        "print(car2.owner)"
      ],
      "metadata": {
        "colab": {
          "base_uri": "https://localhost:8080/"
        },
        "id": "9sGhQFJfU2YY",
        "outputId": "b6df7e15-fff2-424e-8390-c0d110c9e4eb"
      },
      "execution_count": null,
      "outputs": [
        {
          "output_type": "stream",
          "name": "stdout",
          "text": [
            "Raj\n",
            "Rahul\n"
          ]
        }
      ]
    },
    {
      "cell_type": "markdown",
      "source": [
        "18. What is multiple inheritance in Python?\n",
        "- Multiple inheritance is a feature in Python that allows a class to inherit attributes and methods from more than one parent class. This enables greater flexibility in code reuse and design but can introduce complexities such as method resolution order (MRO) and potential conflicts like the \"Diamond Problem.\"\n",
        "- Syntax"
      ],
      "metadata": {
        "id": "udKXwJ-5EOOn"
      }
    },
    {
      "cell_type": "code",
      "source": [
        "class Parent1:\n",
        "    pass\n",
        "\n",
        "class Parent2:\n",
        "    pass\n",
        "\n",
        "class Child(Parent1, Parent2):\n",
        "    pass\n"
      ],
      "metadata": {
        "id": "_WEmBcXcFkue"
      },
      "execution_count": null,
      "outputs": []
    },
    {
      "cell_type": "code",
      "source": [
        "#Example\n",
        "\n",
        "class Mammal:\n",
        "    def mammal_info(self):\n",
        "        print(\"Mammals give birth to live young.\")\n",
        "\n",
        "class WingedAnimal:\n",
        "    def winged_animal_info(self):\n",
        "        print(\"Winged animals can fly.\")\n",
        "\n",
        "class Bat(Mammal, WingedAnimal):\n",
        "    pass\n",
        "\n",
        "bat = Bat()\n",
        "bat.mammal_info()\n",
        "bat.winged_animal_info()\n",
        "# In this example, the Bat class inherits methods from both Mammal and WingedAnimal classes"
      ],
      "metadata": {
        "colab": {
          "base_uri": "https://localhost:8080/"
        },
        "id": "gtQiA0LpFudG",
        "outputId": "a562727e-31ab-4533-b758-ad36fb1cc38b"
      },
      "execution_count": null,
      "outputs": [
        {
          "output_type": "stream",
          "name": "stdout",
          "text": [
            "Mammals give birth to live young.\n",
            "Winged animals can fly.\n"
          ]
        }
      ]
    },
    {
      "cell_type": "markdown",
      "source": [
        "- Key Concepts\n",
        " - **Method Resolution Order** (MRO): Determines the order in which methods are inherited. Python uses the C3 linearization algorithm for MRO, ensuring consistent method lookup.\n",
        "\n",
        " - **Diamond Problem**: Occurs when a class inherits from two classes that share a common ancestor, leading to ambiguity in method resolution. Python resolves this using MRO.-"
      ],
      "metadata": {
        "id": "6LRJ-X7YF2gG"
      }
    },
    {
      "cell_type": "code",
      "source": [
        "#Example\n",
        "\n",
        "class MyClass:\n",
        "    # Class variable\n",
        "    count = 0\n",
        "\n",
        "    def __init__(self, name):\n",
        "        # Instance variable\n",
        "        self.name = name\n",
        "\n",
        "# Creating instances\n",
        "obj1 = MyClass(\"Object 1\")\n",
        "obj2 = MyClass(\"Object 2\")\n",
        "\n",
        "# Accessing variables\n",
        "print(MyClass.count)\n",
        "print(obj1.name)\n",
        "print(obj2.name)\n"
      ],
      "metadata": {
        "colab": {
          "base_uri": "https://localhost:8080/"
        },
        "id": "B5SFlNRNHEW_",
        "outputId": "c69ce5c6-e8db-4ac6-d30d-5b4daa11d414"
      },
      "execution_count": null,
      "outputs": [
        {
          "output_type": "stream",
          "name": "stdout",
          "text": [
            "0\n",
            "Object 1\n",
            "Object 2\n"
          ]
        }
      ]
    },
    {
      "cell_type": "markdown",
      "source": [
        "\n",
        "19. Explain the purpose of ‘’__str__’ and ‘__repr__’ ‘ methods in Python?\n",
        "- The __str__ and __repr__ methods in Python are special methods used to define string representations of objects. They serve different purposes:\n",
        "\n",
        "- __str__ Method\n",
        "  - Purpose: Provides a human-readable string representation of an object. It is primarily intended for end-users.\n",
        "  - Usage: Called by the str() function or when printing an object using print().\n",
        "  - Example:"
      ],
      "metadata": {
        "id": "H1dvyhk1IJ2n"
      }
    },
    {
      "cell_type": "code",
      "source": [
        "class Person:\n",
        "    def __init__(self, name, age):\n",
        "        self.name = name\n",
        "        self.age = age\n",
        "\n",
        "    def __str__(self):\n",
        "        return f\"{self.name} is {self.age} years old.\"\n",
        "\n",
        "person = Person(\"Alice\", 30)\n",
        "print(person)\n"
      ],
      "metadata": {
        "colab": {
          "base_uri": "https://localhost:8080/"
        },
        "id": "SLvxYbATIYa3",
        "outputId": "ff194b60-ffe6-47d2-dc0c-1740db5f0775"
      },
      "execution_count": null,
      "outputs": [
        {
          "output_type": "stream",
          "name": "stdout",
          "text": [
            "Alice is 30 years old.\n"
          ]
        }
      ]
    },
    {
      "cell_type": "markdown",
      "source": [
        "- __repr__ Method\n",
        " - Purpose: Provides an unambiguous string representation of an object, useful for debugging. It is intended for developers.\n",
        "  - Usage: Called by the repr() function or when inspecting an object in interactive mode.\n",
        "  - Example:"
      ],
      "metadata": {
        "id": "DUtkx7F0IbIn"
      }
    },
    {
      "cell_type": "code",
      "source": [
        "class Person:\n",
        "    def __init__(self, name, age):\n",
        "        self.name = name\n",
        "        self.age = age\n",
        "\n",
        "    def __repr__(self):\n",
        "        return f\"Person(name={self.name}, age={self.age})\"\n",
        "\n",
        "person = Person(\"Alice\", 30)\n",
        "print(repr(person))\n"
      ],
      "metadata": {
        "colab": {
          "base_uri": "https://localhost:8080/"
        },
        "id": "LclqtjiQImEH",
        "outputId": "ecbc60ab-96b3-49f3-adee-daaeb912e713"
      },
      "execution_count": null,
      "outputs": [
        {
          "output_type": "stream",
          "name": "stdout",
          "text": [
            "Person(name=Alice, age=30)\n"
          ]
        }
      ]
    },
    {
      "cell_type": "markdown",
      "source": [
        "20. What is the significance of the super() function in Python?\n",
        "- The super() function is used to call methods from a parent class.\n",
        "- It is particularly important in multiple inheritance to ensure that methods from all parent classes are called correctly, especially the __init__ method.\n",
        "- It helps to avoid the \"diamond problem\" by following the Method Resolution Order (MRO).\n",
        "- It provides a dynamic way to access parent class methods, making code more maintainable and flexible.\n",
        "- Example"
      ],
      "metadata": {
        "id": "dvYW9DQwI7av"
      }
    },
    {
      "cell_type": "code",
      "source": [
        "class Parent:\n",
        "  def __init__(self, name):\n",
        "    self.name = name\n",
        "    print(f\"Parent init {name}\")\n",
        "class Child(Parent):\n",
        "  def __init__(self, name, age):\n",
        "    super().__init__(name)\n",
        "    self.age = age\n",
        "    print(f\"Child init {age}\")\n",
        "example = Child(\"bob\", 22)"
      ],
      "metadata": {
        "colab": {
          "base_uri": "https://localhost:8080/"
        },
        "id": "PlVQ02fOI9r3",
        "outputId": "036fe8a2-f60a-446b-fab6-2c3eb5fe3604"
      },
      "execution_count": null,
      "outputs": [
        {
          "output_type": "stream",
          "name": "stdout",
          "text": [
            "Parent init bob\n",
            "Child init 22\n"
          ]
        }
      ]
    },
    {
      "cell_type": "markdown",
      "source": [
        "21. What is the significance of the __del__ method in Python?\n",
        "- The __del__ method, also known as a destructor, is called when an object is about to be garbage collected.\n",
        "- It's intended for cleanup actions, such as releasing external resources (e.g., closing files, network connections, or database cursors).\n",
        "- However, its use is generally discouraged due to several reasons\n",
        "  - Garbage collection in Python is not deterministic. You can't guarantee when __del__ will be called.\n",
        "  - If exceptions occur within __del__, they can be difficult to handle and may lead to program termination.\n",
        "  - It can create circular references that prevent objects from being garbage collected.\n",
        "  - It can cause issues during interpreter shutdown.\n",
        "- It's better to use context managers (with statements) or explicit cleanup methods for resource management.\n",
        "\n",
        "\n"
      ],
      "metadata": {
        "id": "1UJoz_e7JwVI"
      }
    },
    {
      "cell_type": "code",
      "source": [
        "class Example:\n",
        "    def __init__(self):\n",
        "        print(\"Object created.\")\n",
        "\n",
        "    def __del__(self):\n",
        "        print(\"Destructor called, object deleted.\")\n",
        "\n",
        "obj = Example()\n",
        "del obj  # Output: Destructor called, object deleted.\n",
        "# Note: Destructors are less critical in Python compared to languages like C++, as Python's garbage collector handles memory management automatically."
      ],
      "metadata": {
        "colab": {
          "base_uri": "https://localhost:8080/"
        },
        "id": "-pzJxdbEKKrv",
        "outputId": "f83d3fc7-4269-48e9-98ad-d65c1a38467d"
      },
      "execution_count": null,
      "outputs": [
        {
          "output_type": "stream",
          "name": "stdout",
          "text": [
            "Object created.\n",
            "Destructor called, object deleted.\n"
          ]
        }
      ]
    },
    {
      "cell_type": "markdown",
      "source": [
        "22. What is the difference between @staticmethod and @classmethod in Python?\n",
        "- Both @staticmethod and @classmethod are decorators used to define methods within a class, but they have distinct purposes and behaviors.\n",
        "- ![Screenshot 2025-04-12 185250.png](data:image/png;base64,iVBORw0KGgoAAAANSUhEUgAAAp0AAAF8CAYAAACNJQCEAAAAAXNSR0IArs4c6QAAAARnQU1BAACxjwv8YQUAAAAJcEhZcwAADsMAAA7DAcdvqGQAAMmJSURBVHhe7J0FfFTHE8d/EAKEeAIkBCe4u7s7wSUQLFghUNwdWv7QQtEWKVKguLu7u7tLkECM4JD/zuQuvRw5CclRoPPlc5/ce/vevt3Z2dnZ2X1HvPfv34RDEARBEARBECxIvCtXTovTKQiCIAiCIMQ5np7ZNN80TqeHRxrNoSAIgiAIgiDEnocP70ZxOuNr/gqCIAiCIAiCxRCnUxAEQRAEQbA44nQKgiAIgiAIFkecTkEQBEEQBMHiiNMpCIIgCIIgWBxxOgVBEARBEASLI06nIAiCIAiCYHHE6RQEQRAEQRAsjjidgiAIgiAIgsURp1MQBEEQBEGwOOJ0CoIgCIIgCBbnizudr9+8Rcu+Q5GuXC3MW7Vec/bfJeRFGAJDQhAeHq45I/zXuHbnHlr3H4Fs1RqwblZu3Rnz12xkfTWHd+/fIyAwCG/evtOcMc7LV6/xTF3/4eNHPj535To/e8eho3z8pdDX/Z5jJqDxj/25fHHBH4tWcL2ofoIgfArZmLkr16G0d3u2PdRf/EaMZZtkDv+W7fhcxOb8t/niTufFGzdx5Mx5WMWPj417DsSZosWG4VNmoOOQn/Hq9RvNGeG/Ahm+mUtWo1aHH+GZ2gObZk3C0eV/oUcbb8xculrpxWiEhoVprjbM5Ru3UaqZL/afOKU5Y5y/Vm9A7U49lOMZzMepPdwwaVAv5MjkycdfCtF9Qfj3uP/oCWp37I6lm7Zj8A9t2PaQDXKwt2ObtHnfQc2V3w9ic/7bWPn5dRxmb++oObQ8SzZsg//TAHRs2gCrtu1CmSIFkCJZUk578fIlFqzdhCUbt2H30ROIH98KaT3cES9ePD538OQZfCQnYekqTndysIdbUhdOJ+fhzOVr+GPxCtVRDyHs5SukS+mBBAmsOO8nzwLx5/I16pm7cfTsBaR0Sw4rKytMmPs3dh8+gUcBz3D7wSOkck+OZC7OfI/w/XPq0hUMGD8Fv/TrDu9a1XBJOY9KnZA3axZUL1MCK7buVFfFQ95smQ3q5+6jJ1m3rt66i+fBwRzxzJk5I54HhXyic0lsbDBbnVu/ez/uPnwM/4AAJE6UCPa2Nli7Yx8ypPJg/aMI6J4jx9X9a7F1/5FIfabzdP+VW3dw//ET/LlMPff2HWTzTI8dh47x8ZVbt5E9Y3oktLbmOurq/sXrN5E+VUrOJzrdP3XxCkci0qVMwc+mero4Oah+5sp56fezu/6PkCld6shnkYyof67cugv3VBrldfLiZTSsWpH7qiAIEbz/8AGDJ/6B+MrgzPvfMCRJnBiXb95GxjSpUSJ/HqRLlQKT/1rCdiiJTeIo9mf/idOR4x/172Wbt/N1GVKn5MjpBmVf5q5cz/1XmTOk8UjBz9G3K9RHs2ZIB+sECQzat7fv3sfI5hgai1++fi025z9IaGgwXFySaY6+cKTzeXCI6gz7uEPVLFcSSZ2dsOPgMU6jjtJ11C+YpZQnT9ZMcLSzQ/vBo/D3us2cfvTsefw8fS56jvkNL1+9Yge0XpferITEko1b0bBrX1bQLOnTYNTvs/DD8DGcL80mG3Xrx9d4JE/KjobXDz1VB7/F9wr/Xdbu2IsyhQugeL7caDdoJIZO+gMjps5CuRYdsPfYSTSuXlkZ58MIVLprTD/1eR4UjOa9BvGSV8Gc2Xii1VDp4NXbdzVXRCUwKBSLN2zh60iH6TltBoxkXbdVA06/Xydj5LRZePP2LRv6gROmYanS5+DQUPzy5wKU9+mIOSvWKYP7Ar/NXYT+v07lQe36nXuo0b4rDp0+h3zZs/Dfqm274Ma9+5onfwo5yKP/mMN9h2TQqu8wLjeVa8aSlajbuZca6J7DzdUFv/+9jPsdlZu2C9Tr3FudW4F3799h7/HTmLZwmSZXQRB0uX3/oXK4LqNn2+a8+lfVt6ty+jZz//LpM5QnvhRQOXf1Bq+2dBj8E8bPXsjjpv+TADTw6/PJkjr10bEz57F98EyTSk1gndQ4+D8sXr+F0+lvu0Gj1SQ3CduxOcox7Tzif2xHDNm3D8qOxMTmGBqLjW09Epvz3+GLRjqPKMWav3oDurVshpyZMuDS9du8HFmjbElW1j+XrUZx5ZB2bt4IxZQTUCR3TuUkJoN7Mlce+B8FPMfiCaPRsFol1CxfCodOncX5azdQMn8+5ZDOQaUSRTC8awc1uGZF5vTpeHZWVjkUNOs7eOoMFv46ip9F5w6ePMszqR+aNcSF6zd4pjdxYE94uP3jkQvfN7S1Y5bSOdI1a+sEHIWfN3YY6wjNmutXqYDEiRLi2LmLKFe0EP5atT5a/SyWNxfP5Fdt34UBHdvwDPvDxw/IqIx+h6YNUEA5nRTl/HvdJqV7+Tk9JDQM1+/ew9Sh/bgvkEHVRius1Qx+gDLg9SqXw889u7BTbJfEBoeVw1hOfd964DAPKH+MGIjKJYpy+RInTIQ5Y4byPeRQPlZ9pVa5Uvhr9Ubce/QYs38egsK5c7DuU5SVBpUfWzX7RPepn1GE9q9xw1G/cnlkz5iBB57ShfJFKde4vt1YBvmyZVEyXMNRChoE/laD2oxRg9ChcT3UqVAaz5TzTdFViToIQlQo+LHn6Cm0qV+b9yGWLlQA4/p05chdYEgovCqWZWcvf44suHb7HmYqWzV95EA0q1UFFYoV4n4eHPqCI5Va20ERTZvEieBTtwaqlCyKXJkz8lhHUcYqJYuxXQtSTuMwvw7KluVGqYJ5kS5VSjja22HeynXR2jdXJ0es2bHHLJtTumB+g2Mx3Ve/SnmxOf8x/rVIJ81Y1u/cxx3i0dOn2LT3IJwcbHHz3gPlON6Es4O96ig1sXzzDmSqVBclmrRhZ1FXaTKlTY3kLhHHzg4OyKiO76sBNTAkWClaEO+TS1++Nm/GbtV3KHfIJ8+fq0H3ETsF7ppwfXJXZ6ycOg7etavxsfDfhqIBNFtPqv6SgaXloMQJrZW+uHCUnJa2KLpgSj91IYN86eZtNUPvjQwV6nBknWbx5hAUHIpgVZ78ObJypINoVa8Wlk36H1xU+QgqDznEWqhfkSGn6xNYRWwpIR4FBODG3fsoWK8F9wv6S8fX7kQfcSXSKmPu6hjxnMQJE7JDTkRXrrSqX5H8Tly4pPr1M1UuR94bS9A1NLAJghA9NO6poZFXAXNlych95unzIKRVzuPHjx/ZLiVStuTB46fKNjlE9i2ySdOG9cOgH3z5WAu9K0HL4f1+mcwv0+So3gjHz1/SpAKNqlXE+w8f2X5ROq2e2Nok4giiKftmjs15++6N0bHYEGJz/jt8MaeT9oJQVJPe8p3012KMUsq+ftd+VpIVW3bwXpMWdarj/Ial2DJ7Cn5s2YyXDgaMnxoZlqeNx3Q/QU4sRUdpH0wCpfhEhyb1eSO27qdkgXzcIWjmqL2X/h44eQanL13lY+G/SULlWLo4OnAUwVn9JWeMflHht7l/4+GTAGw7cIT3GFUsVpiNrSn91GXl1p2YPH8Jvxxwfv0SrP19PBtpc6B9yPHjxefBRws5v9sOHEaQMt4xhZbLdi+YHqVfDO3SXpNqPtpykaHX8ubtGzXQvIO9rS0fv1AOe1DIP2WkCIYgCJ/iYGfH/Zm2zCRXTt/sZWswe8VarN25l/v7lAVL+bpsGdLy+wcvX73h/kXQ+EdOF61+0HsOWsiGdR05jiOC+/+epezVEl7h0EJRxF3z/8ChpXPw28CeiK+c1PaDfuLgj2H7Zt5kWRdDY3FMEZvz/fHFnM4Tarb1+NlzzBw1GAeXzOEPKX7z2tVw7OwFXLh2C6WatcP/ZszlWV6DqhX4ZYy3akCnGR9x9so1LFi7kQd5enlj1+Hj3LnSp/JQM6Fs2LLvkHJMX8FVzXxoXwm9FUizq3JFC6qZ4hMs3bSNHVXaR9N+0GjeGK0lNOwll0/rmArfPzQZ4ZeF1KSHnM9f+v6ojP1T1KpQGuMHdMedh4/Qv0MrNKlZhV8OMqWfBO21oo3sYa9ecxSAlqdo1r7ryHGeNNFPhWh59eYt/J8+ZX3WhfLPmdkTC9duwp0HD/m+8XMWqM9CHmxiAi2nX7h2k/eFUXSANuHTftU9R09orjBf96lctNS3eMNWHqQocrtk43Y8U0a+gnLMC+fJgQ8fPmLW8tW8REjXzFiySnO3IAi6ZFXOpIujPU9QB3Vqy2MZ/ZrF/LHDkSV9WtjSS4c/D1XjmROK5smpnMuP/NNK1O/Iufxx9Hh2DOkFIS3Uh+lDLyM6KZtGy8w0blIfp/N9x01CzfY/8vYfWm6vUbYEn6dx0rB9M9/mODs6Gh2LtYjN+e/yRZxOGlRpTwjtL8mlBlMtFOUsrxSHlO/CtesY0a0j/3RE1qr1OcRPe1F8G9WNjBBlTpeGNxxnqVIPrfsN4zeK/Vo04cF9SOd2SOPhhjLNO8CzQh1MX7wSP/fyQ2p3N1bOfu1bYsKcv5GxohcadevPLzLVLl+a86XOd/PefVRv15V/+kb471C1dHGULVIQzXoMZKNO+5BIH0qpWXmrejV5bxItWdHSkjH9pDdNi+bNjUG//c4/CUL6RW+hVm/Xja+9dvsumtSojKETZ/Dvx9ESkLWaxdfp1POTn1mipbMxSncd7W1Zn2kZjCLzg3/w5eW4mED1+7FVU3Qb9Qsvd9HLB83rVOfzREx0n8r1c68uSObqzC8RkBxmLVuFEUpmJQvk4b1Wgzv7YuPuA8hZo7EaaHqgcO7smrsFQdCFInVkb2gpmt7qblqrMnq1bY6snunRuHpF3lKj/WUXmoSO7dMNG1Tfon5XsdUPSK9sTvvG9TldC205o/49YspMHgd7/W8SerRqzgEaesuc9nHbJEqEkk18eem715iJfH2hXDlMjr/mQBN5Y2MxITbnv028K1dOh3t4pNEc/vtQJIc2OhNO9vbsmBL0A7K05DBHzfy0kELqQy+HvHr9mmd55CzoQrMq2ltCnT1RwoifWxAEmj3Tm+O/L1rOm+G1kHGkJShdo2tIPw1B+khLY5+rbxQ1paiEOc8yRlzrvrF+RltlaC8aLR/qpwmCEBX6Efif/piNPUdPRq6aUCBlzphh7FjpQn0rKDhE2aTE0Y5/Wqi/v37zJnIJWh/qv/RyEb1ARM/SElP7ZgxjNuJzEJvzbfLw4V14embTHH2FTqchdJ1OY51NEGIDGa8XYS+V8bKNlcEVBEGIKbGdpArC14a+0/nNTAkK587JPxNBHVIQLAXNkmn2Lw6nIAhfGgqoiMMpfM98M5FOQRAEQRAE4dvhm410CoIgCIIgCN8u4nQKgiAIgiAIFkecTkEQBEEQBMHiiNMpCIIgCIIgWBxxOgVBEARBEASLI06nIAiCIAiCYHHE6RQEQRAEQRAsjjidgiAIgiAIgsURp1MQBEEQBEGwOOJ0CoIgCIIgCBZHnE5BEARBEATB4vD/va75LgiCIAiCIAhxhu7/vc5Op+4JwbLcuHEpSgMIgiB8ScQGCYLwpdC3N7K8LgiCIAiCIFgccToFQRAEQRAEiyNOpyAIgiAIgmBxxOkUBEEQBEEQLI44nYIgCIIgCILFEadTEARBEARBsDjidAqCIAiCIAgWR5xOQRAEQRAEweKI0ykIgiAIgiBYHHE6BUEQBEEQBIsjTqcgCIIgCIJgccxyOv1GjIFb0fJRPqWbtsH+46cQHh6uuco4Zy5fQfaqdfneyX8t5k8BryZ4HPBcc0X0hL18Ba9O3bkMxIePHxHwPIjPa6E0ukb33LfM2ctXkbFCLeSu2QD56zRGlsp1kL1aPazaupPrbw5b9h2EZ/maqN2hG+488EfPn8fj0o2bmtTvj3fv3+NZUHCkfEiGLfsMjjOdIH3V6qA+waEvojxHq9+fg35epjBWrq8NqhfVz1y27j/01fXrr7FMloB0Kn256mx/8tZqhFQlK6PdwOF4+OSp5grjkHwad+vDdmveyrXYe+wkhk6cpkn9PtHvuyRD0pe4gMbJcs3bsV3TR9/20bWko6bG1ujQz+trJaa25EtjSV341jE70umezBW7FszE2fXL+W+qFG5o2LU3Nuzep7nCOHuPnkJCa2ucWrsEfj5NkD1TBtStXB6JEyXUXBE9iVR6n3at0Lp+HT4mh7NKm46YvXwNHxOURtfQtd8LqVO4Y9vcGTi5ZgmubF2D9TMm449Fy/H7wqVmOfrrd+3Fj62aY+30iUjpnhyNa1RWbZhUk/r9cen6TTTo0ov140szaMKUKPoYG+Iyr68NqhfVT/g26NHah+3P6XVLcWv3RhTImQPePfrjnv9jzRWGuXH3Hp48C8Su+bPQsl5tZEqXBnUqltOkfp/8W303Lm3fv2lHY8LXbku+ZzseW6z8/DoOc3FJpjmMnk179uPB4ydo16gB3JK6IJmLC8oVLYT9x0/j+LkLqF2hDBIlTMgzq+nKMVqxZQfOX70OzzSpYZ3Ais+t2bFbGatHeBQQgPSpPPBCzQLuP3qEInlyKQN1F5P++hsO9rZqVrwOq7ftxstXr5AxbWp8VDOujbv3q+tfwip+PIydNRenLl7Bs+Bg3H34EHmyZsHBk2dw+/5D5MueBQmsrHD9zj1MWbAYa3fsjSyHXRIbrsvCtRuxT826X795i2l/L8XuI8eQ1NkJ7km/jEMWGBgAU/J+HPAMm/ceRIOqlSLL7ezogGwZ0+GXP/9CxRLF4GRvh9CwMCzfvJ3r9PrNG6T1SAHEi4fDp8+pycB+vHn7Bi6Ojtxmj589h6uTI+KpvI6evaCc/UTqvk3qur1wdnBAclcXdSulArfuPcCspSux49CRKGn0jF2Hj6vOtApXb95FGvU8bfl0Iaf43JVrmL54OfYcPfFJ/rqcvHCJ22LX4WNYsHYDt4WTvb1quz18TPeSs0z36uZ79Mx5eCRPxnLxfxqgdPSA0oPT6loXrtv7Dx9w6NRZFMyVgzv/gROnIq/XoltPe1tbJE/qiviaMmplu2TDZqXD1nj45AkCg0NQvUxJTifoGbqytkmcWD0jqarTZS6rtXUC1sNHT5+xzlMfIaifzF+1Hsu3bDfYbtq8EiRIwPdoMVUubd6rt+9U/cWKJxxW8SPmlvSsTXsPsDyeKH3QLRPJgvRozY5dnC9NKrWy0IXa66Oa8xw9cw5/Kj14+eo1l19bTkPPp/u27D+Ie4+eqDa1h6tqZxvVTrpoy/fXqnWc79t373D60hXUr1KBJ6zR6Ts9NzAkhPVCCREzl6zE9oOHkUK1Nem+KZ2+eusO2xJaDYiurUyVSR9DOqVfxuj08Uthjg0im+/q5KTsc04+pjbMq+zrEdXv/J88RfH8ec3uj8mUrIkXYS+5XcyVeWz0lCJ1tBI3Y8lynDx/yaCste1CujVNTeiv3rqLbJ7pcedhRNmuqOPM6dMYLZuVGnOi67vbDhxGxjRpVD0fRttX9PNKpfoK3UvoyvbitVuqvzjytdVKl1D23JWvIaKzffShoEPZIgWVjdnxiY03JJvo8qJ+qo+5Oh6Tfqi9l2R07Ox5fu779++5v5NPEBAYGKkH0dmSxOp8dLpIkJzNGbcIQ/aL8jA1bhKGxgRTumDItn0P6Nubz97TSYpUrUwJNiD3Hz3mvxVbtsOBk6eQP0dW/luueVvVae9o7ojKxWs3ebmYHI4Hj5+ykrbpN5SXbx4+foxOQ0fjb9UA799/4AY7fPqs5s5PoTS6hq6lzlamWRt2TFMrg7Ry63Yux8XrNyKvHTl1BoZPns7X7z5yHE1/7KfKeZvTv2ayZkivBgJn5VTfZTnV6did/7auX5udf0PLySTjqQuW4N7DRwgODUPPn39Bu4EjVF4OytC5w7tnf17+ImhZvlmPfsieyZPbd+D4Kfjj7+XcmYZM/B0b9+xD24b1kCalu7quv3LqychEhdq115gJqFKyGH/6jptocGlhzoo16DhkNMLUJMNTdcqOg0dxPajzZ06XFh0GjYwsG5Wj+0+/cp75c2SDT59BXF5DXLx2AxPmzFf5puQOXL9Lj8h2Jj2heqZ0d1OTlazo/b/fMHLKdDb2JNMavl2U8buAonlzs4NABismLFq/ETsPHeX76S/pMxkTGmhp2dHezgZtG3gp/TuBYZP+YPmawlS5Tl28hJrtusAqgRVKFsivBpUVLD96LukFyZWeR/oSFBIaqT/Uhm36D0XalCm4bdds342Bv06OtkzUXiTHa7fvoZBy6KlNRk+byXIz9nxTUPl8eg9SctvM+d73f4Ix02drUiPqbkjfSa87D/0J3UePRbpUKdTglBItVV7aVRhDOh2RdggNuvTka/TbylSZ9DGmU1RGWp4e8tvUaPXxW4Am9BRgIBtKg2ZM+iM5BKQ7hCmZx1ZPSd4TZs9np8q7dnVud19l76KzVdQuHQePVGVby21Gdauvyvbb3AXInSWTKvdVs8pmiN/mLsS1O5/2lZAXL9Ci10DsOHgUlZX8bj94gCqtOvE4StC1VFfS5eRJnTH4t2nKJgZwmjk8DwrCsMm/f2LjYyKb6DCl45/bD7X9o8dPvyjZhCknNBSt+w5h2XZu3pj/8jih2iA6DOliTMYtY/bL1LhpDoZ0gepm7lj+XXDlyunw9+/fGP10GjI8PE/NuuEPHvlHOT9h9rzwVCUrhJ88fy585JRp4UUbNA33f/KI0+gvHdM12mt189A93rh7d7hrwRLhyzdt4rSA5wHh5Zu34ecGhwSF12z3A3+nNLqe7tPmSx9Ko2vu+z8Mr9TSN7xBlx/DX4SFcNq1WzfDs1etFd537C+R1+asVif8xt07fHzgxPFwtyKluQza/Cz5MUfeJM9STXw+kbdWFlTW2cuWh/ceMzb83bvXnEb1bfJjz/Cdhw7xMdVTKyO6z7tHH86X8qS86bs2X2o7ujbsZWh48559wrfu3x+Zdv7q5fAavj+E37p3L7yRX/fwPUeORKYdPXM6/KqSr/ZY9/yte3cjjynvriNGR7lG+6FyUl10j3+ZNTvKMd3/OOAJl4PKo02jclJ5qdz6MqPj0k1bht/zf8DHr9+8DG/Zuz/LjvKq0KJtlLpQPUo2bhF+8dpVLg/l++p1GKeRjEnWVBbt9bofXVnTh753Hjoysm1u3LkdXqVVey4blefQqRORaVTOcs1bR/Yb/bx0P8bKRTJo1LVH+II1ayKvf/LsCfcH0gn6kH5o+4X2XsqTZKKb79PnT8N3Hz4c/vLli8i8tB/98lH/Ib14omRq7Pl0TPcZkiFdQ9fSPdpz0xctYX0n/TWm7yTD4g2bcV/X3ku6Ud23E8vVkE6THhhrK1Nl0p6jjymdMqaP2uu/1Mdcmx+dHlJ5qf7Uv2PSH+k+bdubknls9ZRke+D4MW4T7Tl69uS/FkS5jj5UzmptOkReS8fUZncf3o881tbDWNnoWF9m+sfavqLVZ/2+PHTiZB6notMlknP+Og24PNpz2o++rOmvIRtvSjb6eel+zNHxz+2HdK9u/6C23X/8aKR8qDyUfvbyRT6mumj1ie43pItsl8wYt0zZT2My1R7rfmKqC4Zsm/b6b/mjb29i9fb6i5dhHHpOoGYG5KVfu30XOavX55eF6C8dX71t3kyewtAZUqfi79YJEiCJTcQyQ0x49fo1njx7hjxZM3MYnKDwd4bUqXHh2s3ImUM6NQNL6uTI32mJzzqaZbKvkXD6Fw5ezqElvsUbtvDLWLTZv3gjH+w+fNysqJKjvR3cdLYT2CWx5b80w7x88za6DP+Z86RPo6694f/0CRJaJ0DbRvXQtv8wFGnQHL3GjOctEhR10CelmxuWbtyKam07o2Ddppg8/2/eoG4I/b2mtKyhD83yL9+8yeXRlo3KSTNQilhHB0W6HWwj6kZRGq1OUV5Unoxp0/Ax4ab0xMnBHrcfPGTZFsiRg/WQoOUTWqaPCZS3dtmFdJGW2glaDrr38DFaqVk81YEiaYHBwfhIa9YmMFYuarunzwOR3TMDHxO0GkFbVM5cuqr0/wbrB+kJPZf0hvSH5Fc0by4ksk6IrJW9OAK1eN0WZEqXFgkTRt8vsmRIq/n2T/8JDXtp9PmmoPLRtXSPlpyZPZEkcUQ/NqXv6ZXtoL6uxVMdf1B6EaDKZEintXpjqK1MlUkXUzpFGNLHbwmqYwKr+GxnY9ofdTEm89jqKcnW1dkZk+Yt5JdvCtf3xuptuwyWy0WNBbQ8q4XKFZ0NMlY2Q0TXV4jo+jJtNaNx6ta9+5/oEm3/oiVXczFk42MqG13M0fHY9EPd/uFgZ4cXYa/QdeT/uIw12nXG3Yf+0ZbT2NhAy/HmjFum7CdhSKbmYkwXPncs/xb5bKfzuRooaZkhc/q0SOXuxufyZsuKQ8vm88tG2s+o7l047UsQXznA5JDRHiEKWxPUSWgpiAw8OcffMheuXsezoEDu9MlcnCM3+ms/9/dv5aWaz4UMYGrVlosnjInMk9rw6IqFqrO5oEKxwri0ZRU2/TkV1cuW4i0KC1av19wdAS0btRs0gg356t8n4PiqRfBr0UyT+vnY2iThPTHal6voc3HTSqyaNh62BvbnGILyIuOr26lJT969e88DIMmWJlS60EsRccGU+Yuxae9+/NKvB9fhr3GjYG9rp0k1jrFy8UQtsQ1e6dSJlpZI9x3tbdVA4Mwv7mllR59buzbyS31k4KePGoyLm1dibN8eCAkL5aW/mLxMQPvrjD3fFFQ+ulZ3qZQGh1dv3vJ3U/pOe8CpDbWEvXrJZUmgymVMp41hqky6mNKp7wGqz+ptO3lJPKlyXOKqP+oSF3p65+Ej+A4YzkukW+f+zm3tVSn2LzEZK1tMia4v074+Gqcc7O2j1aWgOHhbOzayMUfH46ofrtuxGxPmLEQf31Y4snwBNsycyi/XRoepscGcccuU/bQklhjLv2bMdjqpAcjhob12Ow8fQ9Mf+6tZ2XX079iWjQE1LO2TOHvlKnfOOw8fsse+6/BRTQ5xy9Pnz9jx1TqXBM24yhYpxIP60bPnuczrdu7BOVUu2uuh3Qz+rUF1JFl3HTUW3rVqqBmvO4oow7/n6DF28ghytGt3/DFyT9DnQDM5mtntOnI8Uq7b9h9Gq76DeZN51Tad+QUSmgGWL1oItcqXxtXbUZ/35u07jijny56Z5U3l23bwsCb18yHD5Oxkj0Onz/AxlW/GkpUYOH4yH8cEyot+jYF0Q1vP/SdOsbGkmS69JEF7ULVv6VIdaBN/XEArAjkyZWRDQ88mWYe8CNWkGsdYuajtcmfxxNKN2yKNPu1Ho/YpkjeXeqYnv2B31/8Rp1Eb0d4m2pNEL8nQfiqatGVInRItvGpxVJ36l7k42CUx+nxT5Mycka+lewjKY+323ZHtY0rfKQpFbUjQPdsOHOE3pmlvmSGdfvP2U+dRF1Nl0sWUTn3r0OA7fvZfuHLzNprVrh6n/VGXuNDTMOXMUeQwR2ZPdiYoryPKbsUWY2WLKdH15cXrN/M4lSaF2ye6dODkaY70xZbYyMYcHY+rfuiv+jftv0yXyoPLS3pGL01GhzFdpJ9/MmfcMmU/LYklxvKvGbOdThIEhePptyPpZzPobbqdC2aidKH8nF6jXGn08m2JTkNGw71YBdRq3xWt6tfm83GJi5MDzwCmL16BNv2GsTHUQrOw/h3boFzRwvz7lClLVEKfsb+hS4vGbCi/JW7df8Cypq0KJM9OQ37Cr/16omOzBpxeqmA+lCigPo1b8m+yVW7dAXUrlecO/rlQ5+6uZlyHT51B6WZtUMGnA0ZOnY7eql1TJEuK3u1aos2AYbwkTM9ctmkrmtepobk7Anr7nM416daPr6nZzk85ytVUnmd5s/7nQjPpIZ078O9Skh6WadaWN7V3bh4RZaBfKEihDGLpZq1VubbxOUNQXmN6d+ON5jmq12c5//zHn5gwsCeSujipASEPalcoi7LebXm5o44yAKUK5NXc/Sm1ypfhFw9oyc+Uo9a2oRfLTVsH+nUG+gWGfuN+Y102lpexclHb9W7XCi/CwpCnZkP+bcXmvQZiWNdOyJI+HX/aNPBCtbY/cLsUb+zDb+kWy5ebIx3x48VH6aat+aWJqm06sXHOkCZiu4s5mHo+UaF4IdCvRZRr7osbd+/zOS300lhXn2Y8maV7izf04eU2GgwIU/pODgG9eUv3Zq3iha37DmGoXwceWA3ptKlJqKky6WJKp75FRk2bEfm7zJkr1ea3zzfMmsJvBpvqj59LXOgpLbmXL1YIFX3acx70MkhXn6aYumDxZzmIWoyVjYiJHaBx06dubVRq2YH7csG6zZA7a2Yep0i2g35ox78CQ7qUp1ZD/iUOenEnOmJi+0zJxlhe5uh4XPXDOhXL4r5yyEs2acXX0vhBvxjRc8x4jmzr2hJ6EdmQLtIvtpgzbpljv2JCTHTBEmP510w82uTp6ZlNcxh7aJZAb/U52Nn+q5FFmj3RPg2KfpLCfy3cuHEJcS3v4JAXcHSwi9N60iz+zbu3/LMQ1CG10CySft6C9jxFN/hqoXJp5a/9yZ64QvujwMaeby6U14ePHz6pJ0F1oJ/qop9w0k+LDVoZ2trYfFYfMVUuartXr9+o2b/DJ7Knn0sJDAqBvV2ST54dV33G2PNNQeULDg1VbRu93kSn7/SD2b/Ono9pwwbwMa1wRKcbhnTaFKbKpI8xnfoaiGsbFJf9UUtc6CldR7+KEdftYKxsMYX02dh4SbKl37KO7XP0ia1sotNxS/RDeg4Fk8zdsmFIF80dt4jY2K/YEJ1t+x7Qtzdx7nQKxolrgy8I/3V0B7vY7Cf8ryA2SLAE0g+F6NC3N1/OjRcEQbAATo4OKF2owDf/oqAgfMtIPxTMQZxOQRC+adKkcOe9snG9BCkIgvlIPxTMQZxOQRAEQRAEweKI0ykIgiAIgiBYHHE6BUEQBEEQBIsjTqcgCIIgCIJgccTpFARBEARBECyOOJ2CIAiCIAiCxRGnUxAEQRAEQbA44nQKgiAIgiAIFkecTkEQBEEQBMHiiNP5FbJ1/yF4deqOsJevNGdizoePH/EsKBjv3r/XnPl+8RsxhmX2b0PtFRz6QnME/m6sDen/Ki7XvB0eBzznD7U5/f0c9J8tCJYgtnoaE3T7BxFXOq5rL85fvYZcNeqjdNM2uHTjJp8TBMFyiNP5FZIrSyb0adcKiRJ9/n8nFvA8CA269MKl62JIvxSzl6/BoAlTNEfg73TOEKk93DGsa0c42ttqznw++s8WhG8d/f5hCR3fdfgEyhYphL2LZiObZwbNWUEQLIWVn1/HYS4uyTSHgqUJDAyAKXm///AeQSGhSJE8GYJfvMC5K9fU2XiYuWQlDpw4BQ913tnRga+9de8BFq7diDU7dsE6gTVSpXBDcGgoth88jO0HDsPFyUmdt+K8KPq5//gpzFiyHCfPX4qSz8kLl/AxHDh65hz+XL4KL1+9RlqPFEiQIAGn0zE9489laxAQGIj0qTwi/4/d0LAwLN+8ncvx+s2bKPfpQ+WdtXQldhw6AntbWyRP6or48eIhMCSE60nPOXb2PFydnWCTKJHmrggePH7KMtiwe29kXeneTXv2I0v6dPBMk9poHalsuw4fV4PXKly9eRdpVDntkthwWnRypLz1MZQ/yW/L/oO49+gJ53n11h1cUZ+nSlY2iROr65LipnoGHd+4ex93Hz7ie2lykEKlvXn7Dut37VUDYEFs2nsASzZshoOdLdyTJeVy+D8NYPlQO8aPH1/pyAccPn2O5Xzt9p3IZzs72EfKTlfWzg4OSO7qgngqL2NyEL5/zLFB4eHhuHbnLqYuWII9R09E6k+Y6p+kp7XKl2Gd0fb9eSvXRWsX1u3cg3mr1uPJs+eRaZQ3RRXnrlj7iW7qQkd0H/WPs0r39XWc0g3pMek49SNyVHWfTWjtBUVNo+s3giDEHfr2RiKdXyH3lENCxv7Nm7f8vd3A4Rjy21TlVKVkJ6N+lx7KobnNS0Nt+g9F2pQp0LZhPazZvhsDf52sHJKPmpz+gQz9hNnz2Vnyrl0d2TN5wnfgCM6DmLNiDed77fY9FMqVA3/8vRyjp83k+8gxqvtDDxw6dRb1q1TAlZu34DtgOEKUQ/zwyVPU6did/7auXxvHz11Ayz6Do11WpsGqWY9+SOnuhnzZs6L3/37DyCnT+Rnaevb46ReVb5jmjn/Ye+wkavh2ZgevfNHCmDBnAX5fuJTv1WKsjuSkDZn4Ozbu2ceySpPSXZWlP6cZluMHTc4RmJKhPuQk67Jl3yHU69wTC9Zs4LyDQ8MwduZc/ks8DwpC99Hj8FE5tvlzZEO/cZMj60gOJ11LOkHQXzqOmJB8ypZ9B1nWVMZqZUpg4Pgp3KbG5CAIWhau3YDWfYcgh9If6qvdRo1Tk719mtQIngcH8zXU9zs3b8x/Ow4ZzX2fPh0Gj1ITrHvo1LSh0uGPaNS1D19DS9uUX+lC+dGgakWMnTWXdVMf/f6hC9k4Q3pMzyYbtPvICbZJNIHX2ihBEP5dxOn8BnB1csaoHl3gVak8/HyaqkEgG+488FdGNIAdpaqlSyBD6pQY1NkXNcuVhqOtLcoVKawcNEeUKZyfHRiK0JUqmA8TB/VF9oyeqFG2lPqbHvuOn9Y8BfCuVQOdvBvyc4b4teeIHEUeybCn8XDDmN7dUDx/Hgzo5IuyhQvhybNAjqYWyZMDvdr6IGuG9OjfsS2srRPgxIVLmlwjoP2lk/9ajF/69USzWtU4UjJz9BAeGK7dvsvXUD1nqHONqlfm6IeWN2/fsqM3qHM7tGlQBxWKF8GEAb047dXrN/yXMFZHctLu+z9Sg1wllhWljev7I5LYJDEox496zrux/EnG2T09kdbDnetGH/pO5yoUK4zEmghKpeJFMWlwXx5wE1hZ8TldBv3gixZeNZVzXxFTh/XDyq07cdf/sSY1enSfTXVIkjgxFq3fhNE9u3IZC+XKiXH9umOzckT9nzwzKAdBIKivLlizCeP792Q9JF2eMLAn93fdiRhFJnv5+uDHVt6sSz5etZR+BeDOw4d4oRy/wOAQNKxWBelSeaBJzWoY0qW90vkEuHrrLut/4Ty5uB+N69tD6XAW7l+G+ETHVX8ypMdke8gGje7RmW3SD96N2EaRrdJFP09dmyMIgmUQp/MbIHUKNzgoR5IgRyWJTWL+XjRvLiSyToislb3QoEtPLF63BZnSpUXChNacrgvd5+rsjEnzFvLm/ML1vbF62y68f//PIJIlQ1rNN/Ayk7V1RD6nL11B7ixZYK1ZMicHipzTjGlTc9riDVtQwKsJ8tdpjOKNfLD78HFe3tLlcUAAv9SUMW0azRnAzdUFTg72uP3gIR/r1lMXinzSywSZVd200EDWpUWTSFkQxupom8QGbRvVQ9v+w1CkQXP0GjOeB0ZyNs2VozkyNAXVX38ZUQtthUiXKpXmCHBPmlQ54g4IDgnRnDEPktflm7fRZfjP3Cb0adS1N/yfPkFCNRgbkoMgENRX3757F0UX82bLyhM+3YmSg50dXoS9QteR/+O+UKNdZ9x96M/9Ibmrs5o8VkGllh1Q1tuXVzRsbWyQzMUJ9atWwOFT55C1ihdHJHceOsoReav45g9HxvrzhWs32AaRLSLdJ9tENiq6iKkgCF8WcTq/YcjoTx81GBc3r8TYvj0QEhaKFr0G8nK4PncePuIl8ZIF8mPr3N9xdMVCeFUqp0k1TjIXZ2XQoxps2g9FEUhK69HaByfXLIn83N+/FZVLFtNcGYGtTRIesHSdUXJC3717HxkFNAQ5u0kS2+CVzr0UFaHlPd3oiKk6UsTx0pZV2PTnVFQvWwrDJ0/HgtXrzZZjTGVIe0xjAslCXz5Bn/G2LskrtbsbFk8YE9kmZ9cv5/K6JXUxKAdBIAz1Vdp3rbudZd2O3ZgwZyH6+LbCkeULsGHmVDVxdOc0mljR0vbV7WuxZOJYXqLvMHgkb5OhvcwbZk3GydWL0b9jGxw7ewGdh/38yUTVFIb0mBzeupXLR7FJt3ZthJ9PE82dgiD8W4jT+Q3z16p1vA+SXiyhJaYWXrUQrv6RM6ZPmHIaaSDIkdmTnZK7/o9w5Mw5TapxiufPy/uw7mmWeR89fYYGfr1w7uo1FMmbG3uOHuP9ndq02h1/5BdpdCFnxz2ZK79YoB249p84xYNZdhNvjTra2yF3Fk8s3biNryd2HjyKVn2Hqnq95GPCWB1pybBqm878opSLoyPKFy2EWuVL4+rtO2bLMaYytIr/6fK5MR4/C4ginwMnT/NLSBTVJcecnPw37yL2dNKeXooyRwfJi6LQu44cj8xr2/7DSl6D+YUkQ3IgB54cbXqO8N9Fv6/SZ86Kteg3blKUSZ6/6uu0l5L0k/rFodNn8PDJE06j/l/BpwPuPvDn/OpULIe8yvG88+AhBo6fjP/NmM2rFLT83ap+LQQEBvFLSuZirD/TPtTrd+5x/yRojyft9ySH1xik96T/xpb5BUGIHeJ0fsNQlC1+vPgo3bQ1Og0drYxwJza+GdKkgquzI4rmzckvAI2dOYeXi8sXK4SKPu35d/Y6DBqJrj5NMXXBYpPGuGTBfGhWqzovldFyVfkWvrzXq0CO7LzHsUQB9WnckvOt3LoD6lYqr573zzI6QU4T7QmlF1xyVK+P3DUb4Oc//uS9YkldnDRXRQ8NaD3a+ijHNhR5ajZE3lqNMHDCZIz8sRNHKbUYqyMtufVu1xJtBgyDT+9BnL5s01Y0r1PDqBx1MSXDCsULYfeRY6ju24UHL9qu8NvcBajh6xdt9FkfDzc3PH3+HHlrN0L2avUwZvps/NyzC9exWL7c/FNahep6cxtM+utvpE+VUnMnIp9drrkvvyXfvbUPDp86g9LN2vDgP3LqdPT2bYkUyZIalAOVsUqbjvy2svDfhfoq7SHX9tU8tRpixebtGPRDuyjL63UqlsV9NREt2aQV69hhzYuGPceM5/2RpFM1O/ih/cARnE4v1lUpVQKdmzfB/uOn+RylefccgCY1qsDVyVGTc/To6ji9HGRIj+nN9DYNvFCt7Q98vnhjH2TzTM99yBik96T/5vRVQRA+j3hXrpwO9/TMpjkULM2NG5cQ1/KmGTrt46P9kRSBMwZdG/bqFQ8K5MzFBIoyBoe8gKOD3SfPMZamDy3Nf/j44bPKQFELivYZu9dYHSlqQ8uEFIWkiKAu5soxNjI0B2P5U/3pZQ79shvCkLyMyUH4vomJDdL+GLsxHaFryBmlfZb6UNQwMCgENokTfZJOukkvAjo7OcRoP6cuxvRY+2x7uySRP5ckCMKXRd/eiNP5hbGE0ykIgmAuYoMEQfhS6NsbWV4XBEEQBEEQLI44nYIgCIIgCILFEadTEARBEARBsDjidAqCIAiCIAgWR5xOQRAEQRAEweKI0ykIgiAIgiBYHHE6BUEQBEEQBIsjTqcgCIIgCIJgccTpFARBEARBECyOOJ2CIAiCIAiCxRGnUxAEQRAEQbA44nQKgiAIgiAIFkecTkEQBEEQBMHixLty5XS45rsgCIIgCIIgxBmentk03zROp+4JwbLcuHEpSgMIgiB8ScQGCYLwpdC3N7K8LgiCIAiCIFgccToFQRAEQRAEiyNOpyAIgiAIgmBxxOkUBEEQBEEQLI44nYIgCIIgCILFEadTEARBEARBsDjidAqCIAiCIAgWR5xOQRAEQRAEweKI0ykIgiAIgiBYHHE6BUEQhG+Gd+/e4vXrl3j1KizOPpQf5SsIgmURp1MQvhHu+T9G2/7DcOeBv+aMIPy3ePPmNd6/f4fw8HDNmbiB8qN8KX9DhLx4gY5DRuHE+YuaM1+Wt+/eof8vE7FpzwHNGUH49jDL6fQbMQZuRct/8qHzYS9fwatTd/7+OdD9Ac+D8OHjR80Z4ezlq0hXtjomzvs7inGl8+Wat8PjgOeaM+axdf8hbiOSdVwy+a/F/CGo/bXfjaF7HbX5s6BgvHv/no+/d2JT3/cfPmDqgsUoXSg/0qZMEUX2MYXagHTia0NbLq1Noe+k6/Q9pjovfD7zVq5F/jqN+ZO9Wj24F6uA3DUbRJ7be+yk5spPsaRuUSTy48cPmiPLQPkbinguXLMJbq4uyJ/D+P9bH5u+aYyE1tZoVb8Ofl+0DA8eP9WcjXvIPpGd0o7JcdkHt+w7CM/yNVG7QzeePPf8eTwu3bipSTUf/TJ+73xP9TU70umezBW7FszE2fXLIz+jundBokQJ0addK7RWneFzmL18Daq06ciOp/APCays8PvCpTh18bLmzOeTK0smbiNqK0tB7V+lVDHNkWF0r6M2b9ClFy5dj7nR+RaJTX1PX7qsdOEKqpctpTnz/aK1KaS3wpenZb3aOLlmCX8WTxiDbJ4ZsG3ujMhzNPH5N/jwwfzJ2sK1m1CscWtkrFQX42bN15w1j+iec+fhIyzbvA1Na1VDvHjxNGe/PJnTpUWJ/LmxaN1GzZm4h+wT2SlLjMnrd+3Fj62aY+30iUjpnhyNa1RWvkVSTar5WLKMXyPfU32t/Pw6DnNxSaY5jJ5Ne/armdUTtGvUAG5JXWCXxIY/idXgQB74xt378eLlS2RJnxbTFy3H1Vu3eSa2ZONm5MmaBcGhL/j8ii071Cz5OJI6O8HZwYHPrdmxm2c8D58+hU3ixMiQOqXmqd8ngYEBMCXvxwHPcPDUWbRtWBeLN2xG1VIleJZL5zfvPYgGVSux/GnWs//4KcxYomR+8y483JLDwc5Wk8s/vFdGNCgkFCmSJ0Pwixc4d+UaQsPCME05tVdv3VWDSnplVP0xZcFiXFHHmdOnQaKECREYEsLXAvEwc8lKbD94mPNwcXRkw3v0zHnOv0ienCq/l/zdVbUtQe1P92zYvRfWCayRKoUb4qt7tNfFt4rP+W0/cBguTk7qGivOWxeK8tLzpy9ejj1HT7DOJHd14Wdry/by1WscO3uen0tDwaa9B/DXqnUI/xiunJdEOH/1Ouf7+Nlzvp6+x48fnyOHh0+fQ4IECWBvmwQnL1zC6zdvsevwMSxYu4F11MneHmt37OFjejYZR3q2brlIBh4qT2dHBy4z5aMerc6fw5/LV3H50nqkQKjqH9HVl9ph3c49mLdqPZ6oMqZP5cGy12fF5p2qfZMqh704H9NzqRw2iRNxOajd0qf24D5EGCsj9eeMadKofvcwShlJFgRFNOar8izfsl3J5E1k+c8ox9ctaVJYKfkR1AYnzl2EuzpHdoBkT5NI/XqYW0cqV5b06ZApXRo8fR6o2sWW5U0DVa3yZVjn6TkHT57BG9VW1OaU9/LN25WTsTGyrNp66KLbV06evxRFHv81zLFBWvRtDqGV+byV6xAQGBilPbVt6JkmNR9TFOva7bus67Q8bEhHbt17wG24ZseuKPZCl5jsucytJiy+Db14bLFT/btE/jyaFPOwto6qn0dOn8UjNUb51K3F9oMwZON07aIxG0ZpJJ+5K9Zix6EjUdIM9RlKs1b6TeNCtTIlPulHxvSc+seuw8eV/FfxeJFG9RVtm2rxfxrAy/cHT55W9s5FjfGJ+EN9sGyRgsom7OD66paVoPabtXTlJ/XQorW3G5Sv8ObtGx5DyJcgu+zq5Agb9QytDT6r5PU8KJjtbXTyeaR0Ur+M2nFHizE5XL11B0+V3t64ex931WSCdDPs1SvW6SVKrvQcsnekO5RG5aJxS/sMsnvUxu5JXbleR89ewEdl9P9cthqH1LidJUM6hL54yf4NHVNf0MqZ2iC6PkDnKR+qC02YdGVsTn2/ZvTtjdmRThLus6BAHpDoQ4MCDQDv33/ANjWQHladUvt90IRp6PnzL6phLrDRaujXSwlxH4qrGRopVQ1fP6NLNEIENcuVhp2NjeoM2zRn/oFk3+d/v+GPRctQskB+WCknpnLrDtHK9Z7qWFMXLOGBmr53HDwSc1RHzpc9K7db/S498dvcBWyoz125ik5DR3MnoGs7D/0J3UePRbpUKVQHSYmWvQdxW+qzZd8h/hBUhhq+nbmTly9aGBPmLOCoLRlZ3etMsWrrTvQaMwFVShbjT99xEyOX7qhs7QYOR4+ffkHIizDlOL1Byz6DsWzTNhTKlQPHzl1AnY5dMXbmXK43GX7td4L+0jGdJ+asWIOOQ0az8fFUDlnHwaM4P9J1ii50GDQyUrZ//L0c3X/6lctES20+fQbxshFB+dTv0kMNtPe4HHTt6Gkzue760DJyB/WcG3fvoVPThuqaj2jUtQ8ePom6dEb3XrxxAwVyZtecieCv1WuVQ7yR2/Hp82eo37kn7/skjJWR+G3uQly782kZydA27tYH9nY2aNvAC7uPnMCwSX9wvx06cTrOXL6iyQFYuWUn5q/ZgFdKV0hWdG3r+rV5glOnY3euh7l11IfkqG0bLaSTA36drCYVa5XxdeU8tM+h5x5XbU7l0N9GQvWaMHs+D0DetasjeyZP+A4coSYkUfMXTPM8OBit+w5hmXdu3pj/cr+JRuY0YWuv+o2jvS33N0M6Qu3Qpv9Q3jbStmE9rNm+GwNVO9OYYwx6xoI1G5G3djPk9/JG9moNsVNNGo0RpiZYHYb8hNy1miB/3eZ8D03wTXHpxi1lH7PwChRhzMbpYsyG0d9uo8Zx5LhB1YoYO2su90VTfSZdypRKnu8QGBzKx1qM6TnJcsjE37Fxzz6WcZqU7mjWo7/ZfeB5UBCGTf5dOYgOSOXuDu+e/SPtIdmVZj368fPIER44fgrXwxRkU2hcIltOUJ9v2LWXkkuEnTIkH1OY6u80/tRTtnKBsl0kF5Ir+STkXBbNmxt/r9vE2wmoPAT91R2zqLxkE4NDw/hDvs5Pf/ypxo2Uqn8EsR3uM3YCj5kvXoaxnClCSe1qqA9o82mnyhmdjL8nzHY6Hz19xvsJaW8PfQrV8za4TEie/f4lczmETpBH37BaJXhVKo/RPbpg3rhRHJEgo1W7fFnlzTtjmF8nVChWmK8XIqDoZk9fH3YsaCapC82gLl6/gSlD+3FHb9+4HgZ3bs9O6Ju3xiMCKd3cePmSokfdWjbDq9dqMO/ky+3TrlE9PHgU0QkIiqT9r/ePqF+lIlp41cTonl1VZ17Jm+qjg55NnX1Q53Zo06AOKhQvggkDenEaPUcLzeLKFSmsjLYjyhTOH+0+qXRqFvjnz8NQRBkC+lQvUyqK4+Tq5IwZo4egUfXKbKApYvfboN5cj/4d26JJjaqaK83Du3Y1riOVu6Byxorly4NO3g15ubFovtw4e/ka76vZrMowdVg/LhPVb3i3H7Bo/aZIuXvXqsH3UTmG+LXnGXUi64Sf1PeFMkKBwSGqb1ThujapWQ1DurRXA1vUSB3VK1gZKEd7O82ZCMjZpP5E7Tigo68ymLl4pm5OGWlC06lZ1DLScxImtMa4fj8qWdRA5vRp0bJuTZxQxpgG20olimDb/sN8P7U/rVI0rlFFOaJXYW2dQJWlM7JmSI8fvBuhSJ4cHNU1t46moOfRfsEkSh8nD+kHBzs7zp+e06utDz+X2pzKQeXVhaIepQrmw8RBfZE9oydqlC2l/qbHvuOnNVcI5kLRq17KJv3YyptXpXy8asH/SQDuPHyouSJi0KdIDkW+Fo7/GTkyZeQ2MaQjD9X95HBWLV2C8xzU2Zf18+MH4/vXKEpGkcBxfbvhxKoFPJBvP3jUqLN68959XLl5G6um/oITK+dj/i8jWKdMQfaFVhoIc20cYcyG0SoTOVSF8+RivRzXt4eyC1kQrCbRxvoMRc2SujgpGx3V6TSm5+T03/d/xBFrkjGljev7I5LYJNHcHUGKZEnZPpGdqlSiONsAwko9u49vKx4HqM7NalVne0iyILtC4wLlWShXTmU/urP9ITukhexH8fx51LjvjuyenvydIrb6tKxbR+mIH9tHQ/Kh6F90ZdRiTn+vVLwoJg3uy/nvVhOVLBnSYkzvbmxL6W+pguZvIXGws0fPNi3Ylnb18eZz3Vt7s6w6Nm2Ej6o8D588MdoHiMSJEmNEt06fyNhQm3yrmO10pnJPzvs4Hx/eyZ/buzcid9bMmtSo0PIsORVEeqXg3nWqq5nB7/AoXhFlvNvi5PmLSJE85vs4/ovQUlW9ShUw6a+/8fb9O81Z4MK1G8iYNjUvU2jJ7pmBB4CgkOgdQi0uTo5IrLMsQwOJVfyIGbw+6VOn4k6uxVMdf3j/QRnX6B1bijpqo4NayHB2adFEGbiIpV9zIed46catqNa2MwrWbYrJ8//mCK+W1Cnc4GAbsZ3gzKWr/BxdeRjST0Po7y2KTiaPAwJw+eZNNOraO/LFii7Df2YnnSL9BBkwLbRsZK0mD9FBk61G1augUssOKOvti5FTpsPWxgbJ1ICiD21HSKQcQl0o8qI13NSG5CjTNonYlNHZwV7N5B+jVd8hfJ9P70FqAAzm5aOa5Uvj0OlzvMpx9fYd5UgnQMGc2VgXdx8+juKNfPieAl5NsHjDFn5eTOpoCIqyUPT4nv8T/Ni6OS8vEacvXeHn0PPoufR8KgdFRHWhAc/V2RmT5i3kiXPh+t5YvW1XpCwE8yFn/0XYK3Qd+T+WY412nXFX6ZyuLIcqWz9CtfPATm2RJoU7nzOmIzRZoklZ1speaNClJxav24JMyn7QBMgYpIcUVyRdJv3v7dsCP6kBXRuNjI5U7m5wS+qKht364X8z5il74YA8ZtoJrd7FxMYZs2H1q1bA4VPnkLWKF0fAdh46ylG5FMlcP6vPGNNzW+Wotm1Uj3/9okiD5ug1ZjxPCMnZNwea8NLWGi12SSLsLsnisnLiyb5Qu9KH7I7/0yef1b907ZIh+Wi39xjCnP6eMW0a1hmCVsV0bSndn1NNlMyFAjOO9vaaowhbHD/ep2U01gcIQzL+3jDb6YwJ1GjaBqWGpAjczZ0bsHn2VLRSM5mpC5dizPTZnC6YxrtONd5Tq40yETSYU2RKd1ZPy5wUHU2QwLDRjSkvX72K4uiFvXrJzzEEtXeSxDZRrqGZJy3L0V9zochWu0Ej2EFe/fsEHF+1CH4tmmlSP4WiEPryoH1RcY2tTRLeD6n7YsXFTSuxatp4NuwxgfoIRWeubl+LJRPHcuSyw+B/lvG10Is1NCg/eRaoORMBLd3ook2PTRmnzF+MTXv345d+Pfi+v8aNgr1tRISVtle4ONrj3NXrWLF5O6qWLslOCOli3crlI59Fn1u7NsLPp4nZdTQG6V+/Dm1RvUxJ/PT7n5H6mMzFGT1a+0R57v39W1G5ZNQX2uglEN8Bw3kbyta5v+PoioXwqlROkyrEhHU7dmPCnIUc9TqyfAE2zJyqJn8RjqWWAjmyY+GvP2HUtFmR2z2M6Qjp0PRRg3Fx80qM7dsDIWGhaNFroEVemqBJ1eIJP2HTrElI4+GORt3644/FKzSphqE9gTfvRqw2mWvjTNkwynPDrMk4uXox+ndsg2NnL6DzsJ85emisz7x8/Zodbq0TrMWUntNK4qUtq7Dpz6n8QuLwydOxYPV6TernQbJIrRx5euFM264UnKJn057N2GBIPvqTSn1i2t/pOfq2VP84LjDWB/5LWMTp1IWWgDNXqo1F6zcjd9YsaFyzMi+/6y5DvHrzFg+fPI5c+hOiQkaZwvfTlXEMDYuIYubMnJGjTbQHk6CBeOnGbSicOzvP3uMKmp3tP3GKv9Oy2bYDR/hFD1fnfyKKutBsLXcWTy6L1jnYefAoWvUdirCXES8RmcObt+94D0y+7Jl5ozUZ8G0H/3G69SmYKyfOX7vOG96pnLRPZtbSVZrUiCgF6dcbzcsIV27d5khZTCFD6uxkj0Onz/AxPYu2GwwcP5mPYwJtaK/g0wF3H/hzvnUqlkNeNcDQCz660CSOotoX9bazrFUOgHZQJ/nQsh0NLLEpI8mNlkPJoaP7dh05rvKOWMajdvBSZaT9oBeu30LF4kX4fI5Mnrh+5x7u+kfszaJ2o31MNEiaW0dj0Oy/QrEiaNvQi6NqtEGfykbLlXuOHuO6E7QFqHbHH/mZuoSpAYSc3xyZPXmQpHIeOXNOkyrEBH8lY9oPSJE9kinpGC0d6lKnYlmULJiPl5J7/DSO28eYjtCLf7Q/m17QoaXfFl61EK7+kRNnDHrZ792797h9/yHrw99qjFmi7I4xKCrXovcQvFe2qVmtqmhVryYvYRpbkidoSZP2VdNzzLVxpmwY9cf/zZjN0VFabm1VvxYCAoN4Umesz/irPmqr7tFdgSKM6TktdVdt0xn0giOtBpUvWgi1ypfmMSQ2kCzINpGdINkQFBxp1XdwrMdzQ/KhfbnGiGl/r1SyKJZt2opj5yJeACOfRfc9Cno5Nyg0hOtHH12bGBOM9YGYQrKlSVlMAjlfCxZ3OunnNvp39I1cXs9WpS7PImgAIUoXzqcUw4o7BL3dJ0QP7WtpUad6ZMemZfdhXTuhea+ByFurEfLUbIgXYWHo3a4Vd7i4gjoKvTlHz6Bljq37DmGoXwd2hKKDnt2jrQ93SioT3TdwwmSM/LETO8+6kONaNG9O1P2hB8bOnKM5GwENKM3r1ECTbv14U3fNdn7wrlUNh0+dBb0EpQ/tFfptYG9MmrcIHiUq8csNNOhpKZYvN/8ET6G63ry0QdsVKHIXU8h5HdK5A/8OHy3dlGnWlh3dzs1Nz1b160vOO9WxZgc/tB84ggcaeiO2SqkSmjv+gQzjAeX8ax0sonj+fGg/aATXJ1eNhiiQMxtqlCsdqzJSvyQDrL2P9iPRL1D0G/cbR5JLFMjHy920z4h+8oQgXWzTwAvV2v7AbVW8sQ//IgLJPCZ1NAVFaX/p1xMrtmznl9lo3xaVp0TjlvxcepGubqXy/ExdaKm2fLFCqOjTnq+jl8K6+jTl3z39HIP/X4YcyvtqolOySStuS+qP9atUQM8x4z+JTPo2ros0Hh4YPnmGciZTGdQRikLRcmTppq35JcaqbTqxU5QhTSpNThHo2zV6e7hdIy90GjYGees0w69/LuBfoiBGTpvFP5m0ZudeTFcTLvq+7eARpHRLxsuhFVp2QuEGLfHnsjWoWrp4FHsWnf2kSS3V+676mGvjTNkw6o/7j59mOVLf8O45AE1qVEHBnNmN9hl6waaIGg+cHP5Z0iWM6TkFD3q3a4k2A4bxlhlKp35Oz9GHgkK0xF+6WWt+MdMYJIvurX1Unc6o69twWUdOnY7evi3Z0Y4NhuRDb7sbK2NM+ztF5of4dUQnNWaQj/LbnIW8v1gL7cukpf0c1evz1gR6v4L2ccYUY3bSFPr1JV/pW/2pyXhXrpwO9/Q0/mO3cQF55IFBIbyRlmZH/1Vu3LiEuJS3Vq5kSGO6vGsK+jH6X2fPx7RhA/iYogExaTuayVFkkfb3RmfIzYEiCbRviAyssb08FAWkl6ta1qsVOYCQc7JdDTRUfu3zqUwxrYch6KfAiNjmZU4b0pISvQlcu0IZfhlAC01C6Cc8aM9XdEb+c8poKk9DaOthb5fkk/ssqaekI8EhL+DoYMeRDUNQdIB+nSA2+vg9EBc2iPSK+llM29KYjlD7aPt6dO1IP5lE/2uQpUmQwFqNU1HLRn1iyG9T+eeX+rRrHcWemLJxpmwY5UErf85ODlHSo+szFCWjXxT5pX8PdmKiw5iea/s27VeP63E4Lux9dBiSjynM7e/kwNG+dXoRSMvPf/yp5J6YX5gjPtcmRoexPvA9om9vLB7p1ELKQm/cxbWi/9fRyjWuB3J9KP+Yth3do/1Nz8+FBh+a2ZoyNsldXLBkwxbMWb6Gl4jp5y9oGZiWg3Wf/zn1MATlExd5mdOGFL0c+IMv/4Yb1U8L1Y1kbMh4fU4ZTeVpCG09orvPknpKOkJ5G3M4CSpXbPVRiIB06nPa0piO0Dna1mGoHckRjG/ghce4gvLXdzgJ0pluLZvj8OnzuHDtuuaseTbOlA2jPEgm+un6fYYmy9MWLOEVHEMOJ2FMz7V9Oy7slj7myOJzMCQfU5jb3+nn1yi4snr7Ln5BjLYH0NalisX/+TUdrdyi09uYYqwP/Bf4YpFOIYK4jnRaEppVUwdsXqf6N9FB6MWhReu38E+iJE5kzT89QZvw49oICsK3zLdkg6KDIp70vwZR9CmuIBtBPwsUncMpfP+Qs0m/20kTevpdWfq5ItqrKsQefXsjTucX5ls3+IIgfNuIDRIE4Uuhb2++2PK6IAiCIAiC8N9FnE5BEARBEATB4ojTKQiCIAiCIFgccToFQRAEQRAEiyNOpyAIgiAIgmBxxOkUBEEQBEEQLI44nYIgCIIgCILFEadTEARBEARBsDjidAr/ee488Efb/sNwz/+x5owgCIIgCHFNjJzOyzdvIXOl2vyh798LwaEv8Dw4OE7/W7VvBb8RY7B1/yHN0edz/uo15KpRH6WbtsGlGzc1Z+Oed+/f41lQMD58/MjHVHavTt0R9vIVH38OaVOmQOlC+fn/aqf/31gQBEEQhLgnRk7n+p17EfIijD/b9h/RnP32GTRhCtr0G4aXr15rzggxZdfhEyhbpBD2LpqNbJ4ZNGfjnkvXb6JBl14IeB7Ex7myZEKfdq2QKFHs/s/kWhXK4Nb9+zh96bLmjCAIgiAIcYmVn1/HYS4uyTSHhgl58QJjZ85DhWJFkD6lB05cuIjaaqBOlDBisF+4diP2HTuJ12/eYs6K1ciQJjWS2CTG2u27MWvpKpxU1ydMkAB/LFoGt6QufN8vf87lJc3cynEgdhw6itnLVyFjujS4/+gRJv31N2xVHvNXr8f6XfvgaG+HePHiYcr8xXxsb2uDlG5ufC40LAzzVq3H3+s24ciZs3zexckRb96+xfRFy3H11m08ePxUPX85p6f18OD7qAw7DhzBo6cBuH3/IdJ4uCG5qwuXxxIEBgbAlLwDQ0Jw7so1doKPnT0PV2cnxFPnN+09oOSzBk+ePUf6VB6RsqcILV0/ffFyXLl1V9XBHcfPXWR5BYWEclqK5MkQP358juQdPn0OCVRb2NsmwaY9+5ElfTp4qvai6OH+46cwY8lynDx/CR7qHmdHB37GyQuXuG3PqryeBwVzfloobcv+g7j36AmcHey5vOQchoa95O8E1enomfNwT+qK0JcvuUxQtZq5ZCUOnDgV5VlUn2t37mLqgiXYc/SEytOB2+RRwDNV3gM4ePI03JO5IHGiRJF11Nbv9Zs3UeSUyj05bBIn5nypnB/DocpxDn8qPSP5pvVIwbKga27eu497Dx+heP68fL0gfI+YY4MEQRDiAn17Y3ak8/Slq+wo1ChXCvWrVsT5q9dx6cY/S+yHT5/FmBmz4TtgGHYfOcFO6sDxU9BxyCjlLAQoh+8JvHsOZCeDnD9yYFZt3cn3abl47SYWrNmIoOAQvoau7TB4FDsP+4+fRL0fesCr0494+OQpDp08g4Z+fdj5paiXV6ceWKCc0zxZM/G9ZZq1YYfl/fsP2HbgMPr87zd2yj5+/IBlm7bCp/cgPAuMiJZ9bZDj027gcPT46ReOKr989QYt+wxmubauX5udrDodu7MciD/+Xo72g0cqRzQlbBIlRLMe/dFJyZ3yoTYbO3Mu3ih5E/SXjiOcvn8gR2/C7PnscHrXro7smTzhO3AEL5sTc1asQcOuvbBVOZfmQNdv2ffPsj2VZdikPxAcGhZZvyG/TVXObkp2+up36aEc5tt87cK1G9C67xDkUGXIlz0ruo0ahw2793GaPpQXOadUL9K5Fr0GYsfBo6hcshhuP3iAKq06qQnHHb6WykTPuXb7HgrlysFyGz1tZuS2igI5s7NOyxK7IAiCIMQ9ZjmdNChv2rMP6VJ5IFfmjMidNTNHK1dv2xk5YBP2trbYPPt37F44CwkTWHOUs02DOljwy2hMGdofM0YP4eiiudC14wf2xgT1GerXkffz9W3fGpOH9MOkIX04svU8KAR7jh3HPX9/lf9g+NSthYmDeqNUofxYuWVHZPnyZMuCv8aN5LyGde2Eu/6P8OLlSwz6oT2K5suNzOnT4aeefsrRycjX/9u4OjmzvBpVr4wbd+/B2joBRvfojKwZ0uMH70YokicHtitnmvY3rtmxGxNVvVp41eTPz738lCNnpcnJPCjKWapgPiW7vsie0RM1ypZSf9Nj3/HTmiuAlnXrqDL4IX+ObJozEdBxdk9PpPVwR9XSJTgyaQqq36geXeBVqTz8fJoq5zIbv9BD9VmwZhPG9++J+lUqolb5MqrNeqqJRyCSuTijTOH8cHZ0RKUSxVWbpdXkFsHqbbtgm8QG4/p1R4VihTGgoy9qVyyLeavWaq4AvGvVQCfvhvzcIX7tlWzvR26roCgsOZxaB10QBEEQhLjDLKeTljUpWuji5MSRyWNnL8DNNalySE4hQCdamDFNaiR3debvtMz5+u1blCyYP9LRTOrkyEui5kLX0j26kGNLxI8XPzLfh48D+GWgMs3awq1oeaQtUw27Dh/DnYf+ePU6woHImDY1HOzs+Ls2j6+Z1Cnc4KAp54VrN7D78HEUb+SD/HUao4BXEyzesIWjhg8ePeYtBOlSpeJridTuKdipiwkJrKzg6uyMSfMWolzzdihc35udOIoUa8mSIaqTFxt060fPpq0YxOOAALx99y5KffJmy8qTF7rOGKcvXUGBHDlgnSABH5N+FMmTS8nvZuSLRrp1sFH6ZW1trTkSBEEQBMGSmOV0HlGO5v1HT3D9zl0MnTgNwyZNw60HD9TxPd6Pp4Uij/F496FyJBJYwUodn718lY+JV8oRfaccCiJ+/HiwMuFExARydrfPm46z65dHfmaPGQabxLF7weRrgOpWt3J5nFyzJPJza9dG+Pk0gaO9PTtZ5ORroe/vP7zXHJnHnYeP4DtgOEoWyI+tc3/H0RUL4VWpnCb1y2Frk4SdS936UISb9oTqRtWjgyKhL16GaY4ioL2+5NCaE/l9qiZQHz5+iHGUWBAEQRAE05h0Omm5cd3OvcicLg32LZoT6fTsWfgnRw837T0Y7R64DKlToVj+3Ji+eAV+X7gMK7ZsR/9fJkdea2tjgzQp3HH+6g1e6ianZ+Oe6PftmaJY/lwIefESOw8fQ1IXJ4S9eoVaHfwwe9lqs5fzae8kRXTJwfnaoL2N5OCTnAiK2tG+zb3HTiKle3KkT50SE+ctjIguq8+i9Zsif3OSosUUCX3zLiLiS/smKSKoT5hy1khWOTJ7shNLzzpy5pwmNeY42NkiKDTCUaTPriPHlYxDNamGoW0b7slclc7tibx3zoq16DduUuTPJBmCXgCin1DS1p32eC5evxlVShaLfOnKGLSnOEdGT76WZPxf/RktQRAEQbAEJp3Om3fv48CJ06hWpiRcdZa6kzo78R7APcqZoGv0IWeH9l42rFYJM5cux/RFK1CvcvnIN4kp+tTJu7FyEB6hUN1mqNamE0eqPocCObLjl349MH72fHgUr4hiDVsgX7asaN+kvuYK41QvU4r3TVbwac9vXX9t0NvlbRp4oVrbH/g3KYs39kE2z/Qoli83RwVH/thZOdqvkbFCLRRp0Jyjn+lSevC9dA39rFChut68NE+/CEAvHOmTKV1alC9WCBWVDOgZHQaNRFefppi6YDE7tzGlY9NG2HnoKHJUr89lunXvgXJE7TWphiG9ob2eW/Yd5Hvz1GqIFZu3Y9AP7biu9JZ9CuWUlm7WGss2bdPcFQH91qZP3dqo1LID17Wg0ivaf9ysdnXNFYYhB3XvseOoVLIoH9Pb7/IzWoIgCIIQd8S7cuV0uKdn1BdD4gJ6o7xN/6FoUrMqmtWqxufIeWncrQ8W/PoTv+hBUPQqODSUHSVajo8NlFdgUIhybBPxCyVfIzduXMLnyltbP3u7JJGRO1o+nrtiHb9wRFFCgl7IoV8N+PPnYfxTRARF7ijKTD8xZAyKilKkmF4GMjdKbAiKEtKyOEW1zYk06kP7dAlTZdaHotX0hj9FW8197urtu/jFt2nDB8Ro37EgfGvExgYJgiDEBH17EzsvzwhOjvbI6pkeA36djOGT/+CfP+o+eiwypU2DPFkya64CO5oujo6xdjgJyoOW179WhzO2aOun60jZJUmCJ88CMHjCFNy894CXlumnqyi6qft7oyQTc5w3ypvaI7YOJ0F5UF6f43ASVN6YOpwEbQ+gqLm5z6WfnqKtGD3aNBeHUxAEQRAshMUinQRF5nYdOoptB4/wW9BZMqRD05pVvom3xy2FJaIM+nIukT8PqpctKQ6UIAifIJFOQRC+FPr2xqJOp/ApYvAFQfg3ERskCMKXQt/eWGx5XRAEQRAEQRC0iNMpCIIgCIIgWBxxOgVBEARBEASLI06nIAiCIAiCYHHE6RQEQRAEQRAsjjidgiAIgiAIgsURp1MQBEEQBEGwOOJ0CoIgCIIgCBZHnE5BEARBEATB4ojTKQiCIAiCIFgc/m8wNd8FQRAEQRAEIc6Q/3v9X0T+32NBEP5NxAYJgvClkP97XRAEQRAEQfjiiNMpCIIgCIIgWBxxOgVBEARBEASLI06nIAiCIAiCYHHE6RQEQRAEQRAsjjidgiAIgiAIgsURp1MQBEEQBEGwOOJ0CoIgCIIgCBZHnE5BEARBEATB4ojTKQiCIAiCIFgccTq/ct68fYvHAc/xPDgY4eHy3+QLgvDlIJtDtodsENkiQRCE2BAjp/PyzVvIXKk2f+i7YDkCQ0LQYfAo5KrRANXadkLJJq1RrJEPTl+6rLni3+Hd+/d4FhSMDx8/as5825y9fBXlmrfjQTU2BIe+QNjLV5qj75fJfy3mz7fE1v2H4NWpu8n2IV1o2WewwetMpX9PkLO5bf9h5KnVEGW927INylypDoZP/gOv37zRXCXoQ3aEdC229uRLQvpMZaZ+Ygq/EWMMXmeJuht7niksOVaRzMjmCzEnRk7n+p17EfIijD/b9h/RnBXiGjLq1NlsbRLj7PplOLlmCS5uWolBP7RjR/TOw0eaK788l67fRIMuvRDwPEhz5tsmtYc7hnXtCEd7W82Zz2PQhCmYvXyN5kj4msiVJRP6tGuFRIkSas4Ipth77CR6/DwOf/48TNmg5WyDzm1YhnNXrmHK/G9r0iEYh/oF9Q/qJ98TlhyryNaTzRdijpWfX8dhLi7JNIeGCXnxAmNnzkOFYkWQPqUHTly4iNoVyiBRwghDTjPjUxcvY8qCxdi4+4ByjPyROX0aTjeWRtDMaPqi5VixZQfOX70OzzSpYZfE5pP7KC1LhnRIkjgxz152HjyC6UtWYPPeg7ir8szmmR7W1gk4z6+VwMAAmJL3wVNnsXbHbkwa3Fc5Q3aas0CGNKlw9Mx52CZJjOwZM7Dc5q9aj+VbtrOjmtYjBRIkSMDfj569gMSJEmHh2k3YsHsvnB0ckNzVBfHixcPVW3fwLDgYdx74s2wfPX2G9Kk8ItuD7t+09wB3rCfPniOVe3LYKJn7Pw3Apj0HcPDkabgnc+H8XZ2d+B4t1C77j5/CjCVqoDp/CR7Jk8HZ0UGTCjx4/BQzl6zkMlknsEaqFG6Ir8pEbX3tzl1MXbAEe46eiFJeSqPBbvri5Vx/3TxDw8KwbucezFNyoLLq1uPWvQeq/huxZseuKM/ShY7ovhTJk+L9hw9G5Rbds6ysrHD49Dl17X68efuG5eSh8qLz2jLr14ei2JRGTydZHDhxKkqdaIa+Q+n2DJV2/fY9pFHtSv2B0G8b3frqo9WP1dt3wiq+FVKqdrSKHz9SPz5+DMchpWt2tklgrz66vHz1muX257I1CAgMjHwOyZ8okidnlHaJrs0u3biJuSvWYsehIyblqF8HktGZS5fhllTJUpVZe+7EuYtwV+devn6N5Zu3Y97KdVHKR5y8cEnV8S3OqrI9DwpGMhdnBIWEqjZOhvgqL0P95nHAM5ZHwVw5sHj9FiXn/XyPi6Mjl1ubXqNsKSS0tmb9mrV05Sf1M1b3rwFTNoiW0Qf/Ng3NalVHzXKlNWeVc6Lkm1bZfuob1UqXULbW2mBfN2VjdDGmR4Qhm2EqzVD7UJvvOnxc9aFVuHrzbpT+ZY7NIKjM0dmrMNVv1u/ai1rly3CepOuG9NRQPzBHf8hWHTt7nu0NjYfac0fOnFN5JELixImMts1TVZYbd++rcfMR24VnQUHKBtiyHTBW5k179iNjmjQ8FlDegcEhSJcyJY+7FP3TrbsxW2WunI09j+wB2SP3pK7cfwnq+6FhL/FW2VBTY9XnjoP0jC37D+Leoyeqbew5XxuVvxA9+vbG7Ejn6UtX2TDUKFcK9atWZAfw0o1/ltg37N6HWu274trtu0oJXDD5r4Vo238YK6KxNGr4ii3b4cDJU8ifIyv/Lde8La7cus2zbbov7OVrFM+fm8PsdTt155nLgtXreanLwS4J8mbLjFnLVqL94BGsKN86Z5Ssc2bOyIOlLgmUI0ORh/pVKnJHadytD+ztbNC2gRd2HzmBYZP+YMMTHBqGnj//gnYDR8DVyUF1Fnd49+zP8iS27DukZoA91d+DKJo3N3YeOopOQ0ez7Ghy0aLXQOX0HEXlksVw+8EDVGnVidvJFGQsJ8yez8bBu3Z1ZM/kCV9VhvNXycGKiJ7U8O3Mxq980cKYMGcBfl+4lO9buHYDWvcdghzqnnzZs6LbqHGsN8Qffy9H959+RRVVnvw5ssGnzyAuO+kPRX5v3L2HTk0bqnw+olHXPnj45Ck/s03/oWqQTIG2DethzfbdGPjrZJaPLiSrsTPn8l9jcjP2rOhYtXUneo2ZwGWmT99xEyOXie4pQ99u4HAM+W2qmmClZINZv0sP1nlqg47qOQvWbEDVUsWVE/8BzXr0xz3/x1wG0nlq69b1a7MjVadj92jLcOriJdRs1wVWCaxQskB+1SYr0GHQSM5fW89WfQfj/qPHmjv+gfpX3R96sINVv0oFXLl5C74DhrNu6GKsjvSX2rB0ofxooOzF2FlzuR3NleP79x8wdOJ0nLl8RXMGWLllJ+YruQSpcpCu0D2dmzfmvx2HjOa8iTkr1qBh116qDAf5mORNzsEb5Yga6zfExWs30G/cb0ie1FkNQCnRsvegSD3UhfSvWY9+rOPVypTAwPFTuH6Eobp/KwSFvID/kwAUypVdc+YfiuTJhTV/TODJsLG+bszG6GNMj4zZDGNphtqH2nnIxN+xcc8+tgtpUrpz/6Jym2szCGP2SgvthTWkp8b6gTn6QxOx1dt3Yc7y1ZozwHXlBA8cP5UnZKbapl7nnmxjtHWjPkPju7Eya/nfjDk8UaZ23X/8tLJJgz6xDXS9IVsVEzkThp5H/Zr6LtkzLVQPqp85WGocFIxjVqSTOvH0RctUQ4Shq08zJFOzLorEvXv3jiOfNDPqM/Y3ZE6fFvPGjkSZwgWR1TMDNu7ej/w5syqlmRttWqlC+djg3PV/hAW//sQNX75YYc7bJlFibvzDp8/ip15+KKeMSsUSRZA5XRpeEqUZYlBoKEZ190OpgvlQplABZEiTGmlSuEfOer5GzIl0Lt+8jTtg9TIlNWc+5ZWSTdG8OZVjUgJJ1UwrRTJXzF21jqMwqrmUQdqNsX26KbkVYqNI+08Cg0M5QkWzQ0c7O4zq0YUjx3mzZcGKzTtQtXQJbFAz1QePn2Dy0H7ImDa1km1+PFazvBPnL6JOxXKqXRJit5rZ923fho2GLhTltFZOjnftGhw9ypwuLY6fu4BXr98id5ZMGDppGto3qc+GMEPqVCiqBrCrt+8gpZsbRk2bhTGqnSupDp4lPZUpszKi9+Gh0mgwmTCwpzqXle9Lp5wBMvrF8uXBsk1b0btda6RPnZKNayZV5qTOzhyFuKf0qkebFiyfwnlycMSAZvwUhdRCxlE7OycMyS2Tqsvi9Zs/eVZyF1elz+l4Rp01QwY0qVmF9Y/ap2mtanxdKnc3zuP4+QuoohxJipjtPXYKU4f1VwN7DhTKnUPJ6SJfR7Lepgad6aMGcTSb0uLHj8dLYOR40p7eiYN6q9l7Ur6XHMJQ1S/zqDbUQpGqPmMnonWDOmhZt5YqexquzzylHyQ/kgfVc+KgPqhetuQnUU7Sv2DVtyYM7I10KT1YzkHBL/iZ1+/c42tIj4zVkaIMbmqCSekUpaE8kiROpOqRGEs2bIm2zWw10SbC1sZGySmAJ6qkgzQI/Dx9Nnwb1VX6kkzpSFrUq1yB60KRkLkr16JEgTxqoubC0ZEKxYqif8e2HKnUjVC+V068oX7zIuwlth04pNplgJrk5kWerJnZpkxVjkwNJScaOCmfisWL4NfZfynd8mEnKaVbcp4w/7FoOQ9QNNBGV3eOtEYTzfnSmLJB9/z9sVT1q9oVyqp6uGrORsVYXye9NGZjtFFFLYb0qGyRggZtBj1v1LQZBtN++XNetO1TWo0TK7dsQ6t6dbh96dpcaoJvr8pKK3Dm2AzaJzhs0vRo7RWVYyMFWZQ9SaDkY0hPE1gliNaeUD/Ye/SkSf2hqKeTg71yHDeyTCmSR5FRFzVZrlOxLBIqG2SsbShCN3FwH+7fFP2nPkP1oKinqb5VQI3pZP+pXamNaNtdEpvESK3GXq0tPXf1ukFbRa/DmiNnwtjzaLJBq5wNqlaK1Cm63tXJCRWKFzY6VhGfOw42r1MDt+49xIcP79kfkiincT4r0vlIGe1tBw4rhXZiJ/DY2Qtwc02KfcdPISAwiJX5ybNn3IlJ+YnyapDbvXAWUrunMJiWTTmfNPOhgSVn9fpwK1qe/9Lx1du3lZNZVHXEtKisZhipSlZGm35D2RlzUIrSTHVI+l7AqwnSl6uuZq/T1EClBjVNaPxbJk2KFFw3cvYNQUbj3sPHaKVmpfnrNIZP70HKWAfzkilBkQhamtRilyTqnsWMadNELtdQu2i3JZy+dAUFcuRQA0rEMV1D0Y0L125Gme1GB0ViXZXRnDRvIb+cU7i+N1Zv28VRK5qw0LImGUAt6VJ5oEuLJiotFG/VBCZdqlSaFLCD2UY5Tc8Cn+PyzZto1LU315M+XYb/zLNbkkGj6lVQqWUHlPX2xcgp09lZSebipByLXEhknRBZK3vxbHbxui3sOCZMaK15QvQYkltyV2eDz4oOcqSXbtyKam07o2Ddppg8/29eNteSOoUbHGwj8ia5kRElLly7wXKhJV2C5N/CqyYK587JabsPH0fxRj4sB9L9xcqB053pEyTrp88DkV31Ly2UHxlPiqIT+vXUhXQgd5YskTpA+tHJuyHfr4uxOtavWgGHT51D1ipeHPGgKAINrOTkmSvHmuVL49Dpc1wXciYSKR0tmDMb9/8XYa/QdeT/WMdqtOvM22tIz7RkyfCPnuliqt+kV04DDfRaPNXxB5Uv2TgttHx3+eZt1kOtTpJ++j99wmUwVHftNoGvHRdHJ+Xk2OBjuOEXMIz1dS2GbIw+hvTImM0g+2gszVD7JFRlaNuoHq+0FWnQHL3GjMcLZdfIKTHXZtBkyJC9IrloMaanxuyJufqTM1NG2Nna4OTFyzwpo6V1WoWkfhuTttHFnL6VL3u2KO1Ke0Hv+T/hYy3GbFVMbbM5z/tcLDEOCsYxywoeUY7m/UdPOHw/VDl3w9Ts89aDBxz1oLA3RWJohkKDgxaaDVK0I0A5DYbSaJ8GQR320LL5vGFd+xnVvQvPfNbPnIQLG1dyJJRmYrT0eeDEaeRQHe7g0r9wau0SjkzQbK1Vn6HssH7r5FGz5gtqpvjwSYR8tFDkt8mPfbFiy3bezE97zn7p14M3+f81bhTsbf/Z//m50JL+i5dRnRiKZJNTRDN3Y9ALTrQMS8u5W+f+jqMrFsKrUjlOo85LAxlFNbRQtISWcxInUnkrHdFdeqNBh/bs0D002942dwbXU/tS1app43kvIi3dXN2+FksmjuXIZIfBI3nZjYzn9FGDcXHzSozt2wMhYaGg5ZLP3VRORsfQs/ShAaDdoBFqkuaI1b9PwPFVi+DXopkm1Tg0GNF+Sho4tZCRow+l1a1cPlIO9Lm1ayP8fJporowgOllTfpSvOS9MRacDFPHV/ckcU3Wkvrth1mScXL0Y/Tu24Ylq52E/cx7mypGWt10c7TlqsmLzdlQtXZLbdd2O3ZgwZyH6+LbCkeULsGHmVI6ymIOpfvPy1asok4OwVy+jyJGgPWip3d2weMKYyHYgm0X6ThEqQ3WPbmn5a8TJwQ4ebsmw79hpzZl/2Hn4GGr4+oG2Vxnq6zHBmB4Zsxlk742lGWufCsUK49KWVdj051RUL1sKwydP5+1a5toMW5skBu2VbqDAmJ4asyfm6g85SZVLFMO2/Qdx/PwlXg0hR9SYHTaFOX2LxgNddMd2LcZsVUxtsznPi2tiMw4KxjHpdNJgtW7nXjWjTIN9i+ZEKtCehX9y5GPT3oOwt7NVCp6PQ+vHzp3nDkih/l7/+1XNHKwNptFASgaA9nicvXKVFfXOw4c8O9p1+Ch+/3sZclSvr5zTpxxWb1itEnd2yqPHT7+gok8HLh8tQ9NLTXT+/Yd/BoxvlWL5cqNQ7ly8fKTtcGTMaA/Pk2eBvNxCEWJyvKlzUNquI8eVAQ/la2MDLSvSniJayiVoUKBlIFqmMhVFDlOdlIxpjsyePGDQtgmafRMUWcudxRNLN27jdiJ2HjyKVn2H8vKuezJX3jJBdaHPHKUj/cZNQlI183d2sseh02f4HkqjF2wGjp8M2l9TQenA3Qf+PJjQ8n9eZbzvPHiIv1at432TNABlSJ0SLbxqQeXMg9LnYOxZ+rx5+451O1/2zCwzkuG2g4c1qcahvbwU1Tun+gNB+bQdMIyXfWn/GE30SK7aNNqPpu+wRSdryo/yLZI3Fx8bQ18HaIN9A79eyvmL2BNGmKojtc//ZsxmI501Q3q0ql+LV0XIgTRXjpSvl0r/be5CXLh+i5e1CX9VHtqLR5Et0jfSjYdPzIt8mOo3FKHZrybSBKVvO3CEtye4OkdEngnaR062j+6lawj6eSHaI0tOtaG6h4S94oFV13n/GiG59/b1wd/rNig7fCyyjmR7Js79m18uokCDob4eE4zpkTGbkcAqvtE0Q+1DgY6qbTrjqCorRf9p1a1W+dLcN8y1GaS3huwVOb5ajOmpMXtiSH/oJSV9yhQphDOXr2HagsWoW6k8O6LG7LApzOlbi9Zt4nYiKO9TF6+gWP6odsWYrYqpbTb0PKoryT5MTRS1aZ+jg9ERm3FQMI5Jp/Pm3fscWaymHDtXNRvVQnsxaC/lHtWxqeP069AWJVRD1WzXlZfCJ/31N4b5dUKmtGkMpnmmSYUayoD18m2JTkNGw71YBX5xqJWaAdJ579rVUEo5rBVbduCl93qde7CDSRvc6R56a69Q3Wac1m3kWL6PwvTfOmQoRv74A5Iqeees3gB5azXipZY5y9di5ughPBNu29CL9zPS8kmZZm3xURm7PFmz8EsQr15/apzMhTav+9Stzcs+tCxSUMk3d9bMaFa7OqfTLwvQEmnpZq3V87fxOS0k+/LFCqnJQHv+vTZ6caWrT1NMVQaRtmL0aOvDA3yemg25TgMnTFb17MQOAO2roQ3dNMmg3wakyBb9RJRdkiQY0rkD/zaktq40gencvAk7A7S/pmYHP7QfOIKNOL3NWqVUCZ7Zx48XH6WbtubN4VXbdOIBhn4B4HMw9iyC9jH9NncBLxfRgEzXNunWj+VQs50fvGtVw+FTZ3lwMgYtF1J9m6uZP8moUH1vfqOS+gNF+ts08EK1tj9wvsUb+/AvNtAkRRcaLHq3a4UXasKilTXlN6xrJ87DFCVVv6Y3l7U6UL6FL7+8ViDHPy+WUP83VkdqH9r0T3IieXn3HIAmNaqgYM7sRuWoTwnV/58HBSmdS8r7zQjas3ZfDQYlm7Ti++mZ9MJTzzHjTUayjfUbiiSRrm/eeyCyz23ddwhD/TrwZFcLybd7ax/13DOqH7ThMoycOl05ai15QDJU93D1rCptOvLbzl87tKQ5fkAvDP5tKsuB5FGsYQtULlkUvo3rGu3r0UWtDWFMj+auXGfQZjja2xtNM9Q+pEe927VEGzWRo60V9EzSByqDuTaDnB1D9kpXT4zpKe1hNNQPDOmP7virJU0KN6W/mdjBK5grJ5+LTduY07cKqD5cpXUnlnk5b181XtSKYhsIY7YqprbZ0PPIJjeuXkX1ZV+2U71VGT2SR9gIwthYZQpT42CF4oWw+8gxfjb9CoBgPvGuXDkd7umZTXMYe2hG8+r1Gzg7OXyyB8VYGs1WaaO+g53tJzMJigzQG5W07KOfRnnS23q0qZqcta+dGzcuISbypplzYFAIbBInivKiBUGzPFrSob1AcT37MtYepqD2otknGVYaoPWhNnvz7m206dof3KUohz6G0ozJiMpCe8PiSj+MPUsfkqH22THdz6d9jr1dkk/kbyxNH2N9zhRU/mDV7xxVvzMkO1N1NPT8mMjREKQPNMjH9H5z+g2Vm1ZRotNDXYzpcmxkb0liaoOM1cNUXzcXc/TImJxjmqbVAfopMf02jonNMGavtBjTU2P9ILb6E5u2MdW3qNza8cGYjIzZqpjI2djz4koHoyM246AQgb69iXOnUzBOTA2+IAhCXCI2SBCEL4W+vfl6pt+CIAiCIAjCd4s4nYIgCIIgCILFEadTEARBEARBsDjidAqCIAiCIAgWR5xOQRAEQRAEweKI0ykIgiAIgiBYHHE6BUEQBEEQBIsjTqcgCIIgCIJgccTpFARBEARBECyOOJ2CIAiCIAiCxRGnUxAEQRAEQbA44nQKgiAIkYS9fAWvTt2xdf8hzZnPg/IJDn2hOfp+OHv5Kso1b4fHAc81ZwzjN2KMQTnS/SRnc/IRhO8FcToFQRCESBIlSog+7VohV5ZMmjOfx+zlazBowhTN0fdDag93DOvaEY72tpozgiCYi5WfX8dhLi7JNIeCpQkMDIDIWxCEfwtTNih+/Ph4+jwQ9ra26pMEJy9cwsdw4OiZc/hz+Sq8fPUaaT1SIEGCBHj95g12HT6uHMxVuHrzLtKo83ZJbPieLfsP4t6jJ3B2sIersxNsEiXiqN78VeuxfMt2vlc3n6NnLyCxumbh2k3YsHuvus8ByV1dEC9ePISHh+PanbuYumAJ9hw98UnauSvXMH3xclXG8/BIngzOjg6a2kTw/sMHHDt7HjaJEyOJ+mjPHVF1SpQwERInToT9x09hxpLlOHn+UpQ8rt66g6eBgbhx9z7uPnzEaQHPg5AieVIue2hYGJZv3o55K9chQF2XPpWHyjMh37tpz35kTJMG/k8DOO/A4BCkS5kS1tYJOBK8ftde1CpfhmVGMti09wA760+ePY+Sz617D5RcNmLNjl2wTmCNVCncEF/VXRC+dvTtjUQ6BUEQhCjMWbGGHTnt9/pdeuDa7XsolCsH/vh7OUZPm4l3799jyMTfsXHPPrRtWA9pUrqjWY/+OH814j597jzwR+NufWBvZ4O2Dbyw+8gJDJv0Bzt/waFh6PnzL2g3cARcnRyQyt0d3j37Y++xk3zvwrUb0LrvEOTI5Il82bOi26hxyjHdx2lUnu4//YoqJYshf45s8OkzCFv2HeQ0LVbKkV69fRfmLF+tOQNcV07swPFT8fL1a0yYPZ+dQu/a1ZFdPcNXlUNbjy37DqFe555YsGZDZFnHzpzLf58HB3O5Hj55is7NG/PfjkNGs0Op5X8z5uDAiVMomje3cmxPo6UqX8iLqNsO6PqWfQazTFrXr42gkFDU6did86NytOk/FGlTpmA5r9m+GwN/ncxlEYRvDXE6BUEQBKN416qBTt4N4VWpPIb4teeoX1DwC9z3f4QGVSshQ+qUqFG2FMb1/RFJbJKw85fd0xNpPdxRtXQJjkwmTGiNcf1+VI5dDWROnxYt69bEiQuXOPpHJE6UGCO6dUL9KhXRpkEdNKtVHWcvX8OzoGDl8G3C+P49OY0igxMG9sSTZ4F4rD6blYM5dVg/FFFOXYXiRTC82w9YtH4T3rx9y/kSFBGtX7Ui9p84zQ4dsX7nXhTJkwMp3ZKhVMF8mDioL7Jn9OR6ZM+YHvuUg6ilUvGimDS4L0oXyo8EVlaasxH59vL1wY+tvFkGPl614P8kAHcePtRcAVQrUxz9OrThco/p3RXWCRJg56GjmtQISA4U/RzdozOyZkiPH7wbcdm2HzisHM8AdjhJjvSMQZ19UbNcaXz88FFztyB8O4jTKQiCIBglS4a0mm/gZXJra2vlXCZC20b10Lb/MBRp0By9xozHi5ev2EGKDlpmv/fwMVr1HYL8dRrDp/cg5XAG4yOt3Ssc7e3gljQpfyfskkTsmXwcEIC3794hXapUfEzkzZaVHdNngc9x+eZNNOram/OkT5fhP3MU8v37qJHAnJkyws7WBicvXuZIIy2tkyNKTqCrszMmzVvILwgVru+N1dt2Rbk/Y9o07GDq42Bnhxdhr9B15P/4vhrtOuPuQ/8o9+bLni3yXto+QHtl7/k/4WMtF67dwO7Dx1G8kQ/XoYBXEyzesIXrUTRvLiSyToislb3QoEtPLF63BZnSpWUnXhC+NcTpFARBED6LCsUK49KWVdj051RUL1sKwydPx4LV6zWpUZkyfzE27d2PX/r1wMk1S/DXuFGwt7XTpBrG1iYJRxdpz6MWWtoPDAlBksQ2vGdy29wZnCd9Lm5aiVXTxsM2iY3m6gjI4atcohi27T+I4+cv8QtT5IjeefgIvgOGo2SB/Ng693ccXbEQXpXKae4yzroduzFhzkL08W2FI8sXYMPMqUidwl2TGgHt+dSF9svqk9zVGXUrl4+sA31u7doIP58m7NhOHzUYFzevxNi+PRASFooWvQbyvlJB+NYQp1MQBEGIMc+DQ1C1TWd+wcjF0RHlixZCrfKlcfX2Hc0VUaH9iTmUk5fMxZlf/tl15DhCXkQsdRvDLakL3JO5Yt3OPXwffeasWIt+4yYhqYsTnJ3scej0Gb6W0mYsWYmB4yfzsT5lihTCmcvXMG3BYtStVJ4d0bCXYRyJzJHZk6Oed/0fcRTUHPyfPuO9rOlSeXAeVI6HT6JGMRet2xS5h5PyPnXxCorlz8XHWmiv6vU79zidoD2etD+W9rT+tWod2g0czi940fJ6C69aUFJQ8g/iPaW6+0cF4WtHnE5BEAQhxrg4OqB3u5ZoM2AYL5XTb04u27QVzevU4PQKxQth95FjKNfcl/eAtm3oxem0hF2mWVt8/PgRebJmUc7jb3j1+jXfEx3kGI7q0YVfDspRvT7y1GqIFZu3Y9AP7WCXJAmGdO6AyX8tjsyX3gjv3LyJ5u6opEnhpp6ZiR28grly8jlaqi5frBAq+rTnOnQYNBJdfZpiqnJMtS8yGaJOxbK47/8YJZu0QgWfDjh86izqV6mAnmPGR0YiC+TMjiqtOyFvrUYo5+0Ln7q1UCBHdk7TkiV9OrRp4IVqbX/gMhRv7INsnulRLF9ujrrGjxcfpZu2Rqeho5Wj34kdfNqK0KbfMH7bXRC+FeJduXI63NMzm+ZQsDQ3blyCyFsQhH+LuLZBFF2kpW6r+Fa8L9MY2mttbWwifw4oJmh/bD665xhLMwd68Sjs1St+6Sm6/ZvGoGfTFgD9JX0tH5SDTS8wOdjZcjTVEHRdYFAI7O2SfCIfKl/IizA4OdgbzUMQvib07Y1EOgVBEITPhhw0Wl43x9nTXvs5DidBzzD0HGNp5kBlorLF1OEk6LmGHE6CfrLJ1cnRpLNI19GWgejkQ+doa4I4nMK3jDidgiAIgiAIgsURp1MQBEEQBEGwOOJ0CoIgCIIgCBZHnE5BEARBEATB4ojTKQiCIAiCIFgccToFQRAEQRAEiyNOpyAIgiAIgmBxxOkUBEEQBEEQLI44nYIgCIIgCILFEadTEARBEARBsDjidAqCIAiCIAgWR5xOQRAEQRAEweKI0ykIgiAIgiBYnHhXrpwO13wXBEEQBEEQhDjD0zOb5pvG6dQ9IViWGzcuRWkAQRCEL4nYIEEQvhT69kaW1wVBEARBEASLI06nIAiCIAiCYHHE6RQEQRAEQRAsjjidgiAIgiAIgsURp1MQBEEQBEGwOOJ0CoIgCIIgCBZHnE5BEARBEATB4ojTKQiCIAiCIFgccToFQRAEQRAEiyNOpyAIgiAIgmBxxOkUBEEQBEEQLI5ZTqffiDEo4NUEjwOea84AYS9fwatTd/7QdyHuOHv5Kso1bxdF3oSh87Fhy76D8CxfE7U7dEPA8yDN2bjnw8ePeBYUjHfv3/OxVn+27j/Ex6Rj9F2/jnRdcOgL/v5vQc/X1fHJfy3mT1ygLwdz0cortlA+sa2LrjziUjaGMLfusdEdY+2ir8sxRV+f4qot4xJDehEX+qILyaFxtz7IXq0e5q1cqzn772PJNiLbRjaObF1MiEs7pJ/XvwE931J97EsQV33B3Hb8FmRiDhLp/I+zftde/NiqOdZOn4ikLk6as3EPObQNuvTCpes3+ThRooTo064VcmXJxMdaUnu4Y1jXjnC0t+Xj2cvXYNCEKfz934KeT+X4Hmldvw6qlCqmOfq+sJTu6OtyTPme9Smm3Lh7D0+eBWLX/FloWa+25uy/z9fYRnFZpq9dB2Pbx74EX9p2fgsyMQcrP7+Ow1xckmkOo2fTnv245/8I3rVrwC6JDZ979+49Vm7dwd/rV6kAKysr7Dx4BNOXrMDmvQdx96E/snmmh7V1Ar7m+p17mLJgMdbu2IvzV6/DM03qyLzIe/994TKs2LJDGaBn/Kylm7YgT9YsSKycE5oZTl+0nNP17/3WCAwMgCl5Pw54xjJsULVSlHrqnre1SYxLN25i7oq12HHoCJwdHJDc1QXx4sXja2/de4BZS1dGm0a8//ABh0+fw4bd+/Hm7RvYJE4Mj+RJES9+fOw/fgozlizH1Zt34eGWHA52EQ7g1Vt38DQwUA0U91X7PkKK5MkQX11PaPNLkCAB7G2T8Dn/pwE4d+UaEqu8dx4+gu0HDsPFyQnWCayQUuX79HmgutaWrycdy5I+HTKqtn3y7LnKOynOqnu37D+Ie4+eqDrYw1HV4/yVq1zWJOpDhIeH4/j5C1wO7XOJ12/e4OjZC/j4MRx/LluNQ6fOIkuGdAh98ZJ1iY519Yiu37T3ABtien76VB6s09HJ6OSFy/xc0m3S6UdPn/H1iRIm5LxoRmpIhoS2bQ6ePI1krs7YeegYCuXOweUJDQvDup17MG/V+shyaPPVRSsvuofQbW+SafKkroivaW/Kc/nm7ViyYTPrQujLl7jzwJ/bLzTsJV/j6uzEdbp25y6mLliCPUdPRNEb3TqdPH9JySEZnB0d+N6jZ87z3yJ5ckZ+z5w+Dc5cugy3pElhpdGRl69e48iZc5wn6YmWwJAQ1hNKP3b2PJeFSq7fHlo56NbdULlOXrgURXcoT5tEiYz2C2PtooXKuv3g4Si6THI01eaEoT63TeWVMU0a1SYP8efyVSyHtB4pImWkbb+FazeynuqmfQ7m2CCSsauqH7WpLrrnjelqdP1JX4/JPmzac4Dl7Z7MRdn6RNxOZO/nqzxXb9+pdEfZCvfkrEO6fZr6r53q77p9XqtHVK5pC5cqe3WXx6A7aiyifnpFHZNeassRnVyVMnxWG+nXN5UqM91LUL+ick1fvBwXr91SdXTka6uVLqH6hyvrHZVhzY5dSp+skSqFW2TfJQzpjSk7pJXj8i3bTdYvuv6oLsbMJStx4MSpyH5F6NaH+ru5aURs+pgxGesSUz2ITk4kD/pO+kZ6uXDtJiWzvVFshq7tpLHxWXAw21V6xo27D5A+tQeXz9jYSPU6fu4in6M+pSs/XRscFBoarUxiYhsMjRFaeenaX7KVcYW+vYmzSOeC1evRss9gZWiTIG+2zJi1bCXaDx7Bgrhy6zbqdOrGjmdhpWAHTp5CQ79e7Lk/fPIUdTp2w+9/L8Xbd2+xcfc+tBs4Aqu27lT3vuXGrNiyHd+TP0dW/luueVvO878MLUl0GzUOpQvlV05oRYydNRd//L2c02jJvFmPfsieyRPVypTAwPFTItOMQWH7Pv/7DX8sWoaSBfLDSil25dYdsPfYSU7fsu8Q6nXuiQVrNnBH0uWNaquxM+ey8mqh73Tu7dt3mjNRmbNiTZTrieDQML6H/upjFT+eGoh2Yc7y1ZozwF3/x+g7dpK6PlRzJgK6v+fPv+CnP/5UBi0lngcHob4qe5+xE5AuVQq8eBmmZNSfdZCWeUh3dx85oWavtREUEqp0sjvrpiEWrd+oDOZRFM2bm/92Gjqadd20DA+iWtvOytm1RaZ0aTB+9gKcuBBhdKgcHQaP4uhPp6YNlQH6iEZd+xgtB0HRamrvlO5uyJc9K3qr54+cMp0NGN1bw9ePnTAq69/rNvGSFsmeoDalD7Fw7Qa07jsEOZTeUD6kXxtUf6R8Jsyezw6Vd+3qrFe+qo+evxq17XR5//4Dhk6cjjOXr2jOkM4eVIPAEs3RP9xTE5h2A4ejx0+/IORFmDJ+b8xqj5iWy1i/MNYupjDV5ubw29yFyuG/h0K5cnCZRk+bGdl+2rqTLI6fu8Cy+RqWRg3p6uf0Jy2nLl5CzXZdWIYkyxlLVqDDoJHct7R9ulXfwbj/6LHmjn8gPeo4eKTS7bWsv4dPn0X9Lj2VbBcgd5ZMytZcjeynnyNXQ20U8uIFWvQaiB0Hj6JyyWK4/eABqrTqxGMXQde26T9UOYQp1UDvjMG/TVOOTgCnka5SWtqUKdC2YT2s2b4bA3+d/Il9NYQhO0TOD21bsLezQdsGXtwWwyb9YVa+2v445LepbDvJianfpUfkmEv16f7Tr6ii6po/Rzb49BnE/cdUWmz6mCkZ6xITPTAmJ62+kT/i6uSgnFx3ePfsH2U81NpO+tusez8s3rCF2+Lp82c83txT45OxsZHSdCG/p9eYCSw/+vQdN9Hgto6Y6LCxMULf/lqaOHM6r96+owZzD7SsWwctvGpi/rjRShBenOZgZ4eJA/vgjxGD0LhGFdW56ipn4ZES1hP23MkZnTF6CCYP6Ye/J4xBq3q1+D5ihZp9ONrbY/rIwTyw0F8XJ0ds3XdYc8V/E5q9kcNZOE8uZM/oiXF9e6hOngUvX79WhmgTRvfsihplSykDmRPj+nXHZtXhKaKsJYGVFYrnz6NmRu7I7umJCsUKK4N/BRev38CUof14UG7fuB4Gd27Pg+mbtxGdo1Lxopg0uC8/m/IwByd7O5QrUljNeB1RpnB+NkbmQNdR2aiMVUuXgIu6v75ysPefOM0DGXH83Hk2YBnTpuFjXRzs7NGzTQt4VSqPrj7efK57a2/Ur1IRHZs2wsePH1kHTyiHjKIFo3t0RtYM6fGDdyM168yB3YePfSIjmvUShXPnQs+2PqhVvgyGdOmAwKBQNlIUgTEkQzKc81atw7BuHdHJuyGXa0zvbjw7JV4oYxEYHIKG1apwX2pSs5rKu72Ss+GoFrUp7Qf6pV9PNKtVjcszU/UlMp7Xbt/l/pUlQ1p+DqXR31IF82vu/gfKZ8GaTRjfvyfLh66dMLAnaOnzzbt36p58mDioL+sa6VX2jOmx7/hpzd2fkszFGZVKFMG2/RH9lIw4ObCNqleOlKEurk7ObAMonRyZ6NqD6qILRRcNlUtfdygybqhf+D99ZrRddKHIg74uG2tzbb8houtzWlnULFcanZpFPHuIX3teTaDIA9WZ6t5L6RrJon/Htiwb0tl/E2O6aqg/6bdfimRJWYYky0olirPjNW7WX+jp68MyJFmSTCkqRBEnInGixKq9+6CdSqf79Unp5sbbdkh/u7Vshlev32BAJ1+Wa7tG9fDg0VPup4bkeuby1Ri30eptu2CbxIb1ia4f0NEXtSuWVTq1lvsVTZRJR2lcpL41pndXjtISD58EcL1JRzOkTolBnX35OR8/fOR0wpjeGLJDCRNaq/L8yKuTmdOnVeNyTW6XUOVUGMpLF+qPo3p04br6+TRVjko2dtCoPtRnpg7rhyLKuapQvAiGd/uB+xa1k6E0U7ZPl+j6mDEZR4e5emBITqTbBOnbiG6duN3aNKijbGx1nL0c/aSWnLnRSmb0TCpf0by5eHUpJlBf+vPnYSw/+lQvU4qd9ehkYq5tMDVGELr2l55lSeLM6aTK0MBCLxylL1cdQyZOg61NIg5h0xL57qPHUappK7gVLY+2/Ydp7oqISLkndVVCS8fHFLb2SO7G3wny4kkwOavX53vpLx1fvf3fjnTWr1oBh0+dQ9YqXjy7oVkuRXBolnP55m10Gf4z8tdpzJ9GXXsrg/CEo0/GuHDthnLeUrNzpyW7Zwb4K8MYFBLxQgY5d7rL9F+anJkyKoNtg5MXL/NMddW2nTyRic4BtkmciCcsWqjc8eN9qvJU792Hj6N4Ix+WF+kwzVhJNw2hKwcy2tTZCWMyfPDoCW8poGMttPRES8VEcldn1emroFLLDijr7cszUVsbG+XAGd5rSxETirTpOt1uri5wcrDH7QcPcUzNfnNnyQJrzZILyYlkqA/l81Y5l+lSpdKcAfJmy8qGNrHqw67Ozpg0byG/AFG4vjcPAqb0qWb50jh0+hzX+fqdu3isHNgSBfJpUqOSOoUbHGwjlqPNbQ+qi7nlohm8oX4RFBxstF1MYU6/MQVNDLTQ0pa1tTV/P33pCtedZEBlJpmQbEj3/02M6ern9CeC2ki/HUimJNszlyJeunFUE1jasmEICkiQvmqhPkpL9Pp8jlyNtVGBHDki+xg9s0ieXEoON3Hr3v1P+qe7Kr/W2SLHJJF1QmSt7IUGXXpi8botahKdlp0hczBkh2hLyb2Hj9Gq7xCun0/vQcqRCuatCeag2x+pnyWxiVjGJjtx+eZN7juUL32oT1HbPnj02GBaYHBorPqYMRlHF9kzVw9MyUlf3yhKawhdO0vPK5grBy/pxwRylpdu3MoR4YJ1m2Ly/L9Zf6LDXB02NUYQuu1tacxyOmlvEg1IupUJV/8oUpTAKj4LOIcayA4u/Qun1i5RM50BvMeuVZ+h7CD+Mmse7wWaMWoI7u7djL/GjdLkohQ6gRUrI+3j1EJLn7rQ4Hdo2XycXb888jOqexdN6veHduaprzyv1DFFjRMpg0R7ZTbMmoyTqxerGU4bHDt7AZ2H/cydJbW7GxZPGIOTa5bwh+R1dMVC1XlcNDlFDw0kNHPXXYKhZyZUxpXa6WuAZFO5RDGsUc7FzXsP2MHIr2aYsYHqXbdy+Uh50efWro1qht9Ec4X5GJNhIjVrTpLYho+10NYD7dYA6ke0THJ1+1osmTiWZ84dBo80ukxra5OEBwVdXSEDQ3uuSVakJ/r9Sf+YMJQP7fe5/cAfvgOG83Ln1rm/sy55VSqnucowtJxI221oaf/AiTMopgZYioCawtz2uPPwkdnlosHAUL+gvVHG2sUUluw3JK8erX2iyOL+/q28xGhJyObr6wnVj+rp4ZbUqK5+bn+iNtJvB+0ztS8WxhVxKVfKS19WtNeOHDUHNemNrl8FaX5Vgez59FGDcXHzSozt2wMhYaGgZWTa9hMbpsxfjE179+OXfj24bjTm2tvaaVI/H7ITtLd129wZkXK7uGklVk0br+TgYjCNnLfY9DFjMo5NH4tLOemXj1aJYgJFg9sNGsEO8+rfJ+D4qkXwa9FMk/op5uqwqTHiS2OW01m7fBmesY+ZMZv3KFD0ceqCxTh69jyHaqnhaT9ARZ8ObCSqlymJ2hXKcMXef3jPoW2qHHnxHz58xNodu1WF3/FG3PLFCrFC9v9lMi+l0wtF0xev0DwZHEqnfS9nr1xlY3bn4UP26HcdPqq54vsjjYc7zzxoWYaWEAkyvLOXrVazKU+W18Dxk/E/1R4kewqtt6pfCwGBQbBSkwCKDOw6cpz3axC0xEn7oHSX+qIjZ+aMvE2C9rwQ1H5LN25D4dzZ4aKzGTw6qONTWZ6rWSJB927YtY+/xzVlihRSDud9TJz3NwrmzM4ztthAexhpiwdt+SBo5kz7PWOyJ0+LMRmmS+nO7UfHdJ64fPMWjp+PWA6h/UkVVB+6q5w8miDUqVgOedVgTi8vGIKuc0/myi90aNt7/4lTnD9FFSqVLIplm7bi2LmIF3xoGXj55m38XRf9fOhDe6L6jZuEUGUMeWKZ2ZMdA5ITvRBkClrlaFClImYvX636/B4uizmY2x5hysibWy7qM4b6Ba3EGGsXU8Sm35iCltj2HD3GAxJBL4vU7vgj64olqVyyOO8lo5cPtNCLUqQ/XF8juvq5/YnaSL8dSKYk2yJqwhKXxKVci+fPy7KisZGgPBev38x78tIoO67fPw+cPM0v2hJ/rVrH++koSEPL6y28anFAR2tHPxcaoykQRI4JPZf0PuSFeQ6eMaitnZ3scej0GT6mvGcsWcnjkbG06No2Jn3MmIy1LwR9DnEpJ/JrdMtHy+Lkv5g7Nr5RTjj1lXzZM3OdKI9tBw1vIzRXh02NEV8as5xO2jc4eWg/fpuKQr75ajfGb3P/5plrs9rV+Zpevi1531Shus14GbzbyLHKEarNSwVtG3qxM5qnVkNeeicFpP0eXUeOgZO9A5ZOGstvEdPG7NOXr8C7djXOk6hRrjTn3WnIaLgXq4Ba7btyvnT+e4UcdNrvsuPQUWSuWJtD59mq1kV85VD2bteKB9rOzZuoQeA0G/72A0fAu+cANKlRBUmdndBdzX4OnzqD0s3acPrIqdPRW8nQVOekpY5hXTuhuZpp563VCHlqNsQLNZvUPtMYlHff9q24DXPXbICy3m2jLBHRG5tF8+ZE3R96YOzMOZqzpqlQvBB2HzmGcs19eQ8VQYY8p3I0aOJBS7ixherdpoEXqrX9gV+yKd7Yh992LJYvN6fTxIo2odPyl6nBwJgMaWDx8/HG/UeP+Dylz1y6EiUK5OV7aW9q8zo1ULODH7cptd2Dx09RpVQJTo8Ora6QgctRvT7L/uc//uT9mPQTWAVyZMcQv47cfzyKV8Rvcxby/jF9KB/aw6XNh/rqis3bMeiHdsiqZEGTw4o+7Vk+9GJHV5+mPPE05UjQcvqDx09gkzhhtMv60WGqPbSQbTFWLl3doai4oX5BdTfWLvro63JM+01M9In2rJIMSzRuyXWkF5TqVirPumJJaM92y7q1ULFlB9Yp+h3NzsN/Ujrix/U1pqvmtp8+JCuSGclO2w4kU5It5RmXmJJrTNqIZOVTtzZvNSBbXVCNgbmzZuaxkXSL+hD98oq2X9EeYIoMExSZpy0/pZu25pdbqrbphPJFCyFDmn+2uWiJSZlozKXJJm07KdOsLa9K0q/B9Bv3GwcwYpKXLlSfIZ078B5Bbd70kgqNR8bSqG1j08eMyTg2GJPTq9evNVeZR5E8udF+0AguX64aDVEgZzb2U0yNjVpo7KY+1aRbP9bJmu384F2rmrJZZzkAoC8Tc20DtYuxMeJLE+/KldPhnp7mvdhB0I/KUljW2cmBf8ZCH/LU6WUWij5p9zdoIY+cfkJA9zwNDkMn/o7pIwfxRl6CZkb0ExUbZk7hGQhBXjm9PELLPrGZ2fzb3LhxCTGRN0Unaa9TdPIkSN4USY6uPSjtzbu3vDHYlNOoC0VXA4NCeE8kbd6OCXSvtp2iK29cQT+DRJH2qcP689JBXKCtt71dkljrmCkZUtsQ0aV9rvypb374+CFKe9NEkfYo0QZ6LWRwqB/+2Cri5Sp9KB+CJoe6kC6GvXoVI32iJZ02/YbyBnXdMpiDue0R03IZ6xfG2sUUn9tu5kD2LzjkBRwd7GLdr2JigygyQlssaD+cvj4QxupsbvtFhzG7FpfEpVxNjVHUryiqHl2aKTv/OWjbjvbaxtaeRYchO0EYS4tNH7OEHxAXctL+uHuXFo0N5kX9wZyxkeqo1QVzdD8mOhzdGGFp9O1NjJ3OuIbC27TxmBret1F9XL9zB/NWruP9QiN+7PzFBPOliKnTKUSFOjRtlh4/Zz7v6y1TuIAmRYgO+pkT2vdIb7gWy5uH/xeUIROn8tuLOTNH/WH+uIaWeeiNdfotxr/H//yvzKqFTxEbJAhxi9bp/Jz3AL53vjqnk6ANwYvWb8GVm7d5/0Ol4kVQrlhhi85w/y3E4McO2ie2dMMWXlqgbR/f26TEEtCPH9Nvq9IEj17IoJ/9oP2Nloa2h9D/nkH7/WiPsvB1IDZIEOIWsnUE7eEUovJVOp3/JcTgC4LwbyI2SBCEL4W+vfn+QomCIAiCIAjCV4c4nYIgCIIgCILFEadTEARBEARBsDjidAqCIAiCIAgWR5xOQRAEQRAEweKI0ykIgiAIgiBYHHE6BUEQBEEQBIsjTqcgCIIgCIJgccTpFARBEARBECyOOJ3fGPR/vGr/n1dLE5tnffj4Ec+CgvHu/XvNmbiD8qS86RnRoZ++df8heHXqjrCXr/g4JlD9/UaM0RxFhfILDn2hOTIfuo/KQ+UiTNVHEITP5+zlq2jZZ/Bn9f/PhWyGtn/HNTGxy+baPkvaa0HQRZxOwSIEPA9Cgy69+P/ejmsoT8qbnhEd+um5smRCn3atkChRQj6OK2YvX4NBE6ZojsyHykHloXIRpuojCIJgSSxprwVBFys/v47DXFySaQ4FSxMYGABz5P3y1Wus2bELfy5bg4DAQKRP5YFECRPi6JnznF4kT06Eh4fj3JVrmL54OfYcPQFnBwckd3VBvHjxOO3SjZuYu2Itdhw6EiUtNCwM63buwbxV6/Hk2fPIvPWhZ1E+NokT8TOu3LqL9Kk91HFivP/wAYdPn0OCBAlgb5uEr/d/GsDlSazSdx4+gu0HDsPFyQnWCayQInnUOl+9dQfPgoNx54E/pixYjEdPn0UpB8289x8/hRlLluPqzbvwcEsOBztbfsamPQdw8ORpuCdzQeJEieDq7MT3ENGlO9rbISgklMsQP358rv/yzduxcO1GvH7zBmk9UnA9CG3akg2bVbmt8fDJEwQGh6B6mZKcruXkhUvYsv8g7j16omRrz2WwUc+6de8BZi1dyTK3t7VF8qSuiK9krguV4enzQE5/8fKl0foIQlxjjg3S7X8nz1+Ch+o7zo4OnEY24dqdu5i6YEm0dsdYmtZekW3RzdOQTTJmx/ShKN2Og0dUmVfi+u17SKP6tV0SGzwOeIZDp86iRtlSSGhtrY6fY756zvIt2z/p/9R/yS6Q7aX+nyqFG/dfum7X4eNqormK7ZE2b0Ns2rMfWdKng2ea1AbrTTbk/YePbJ+00LlXb95yuq4t0a237higD5Vz094D+GvVOh5D3r57h9OXrqB+lQoG6x6qbND2g4c/sdfGdEAQzEXf3kik8yuEZp11f+jBhpKMxZWbt+A7YDhCXkRdyl21dSd6jZmAKiWL8afvuImRSzr0t9uocShdKD8aVK2IsbPm4o+/l/MyS4fBo3Dj7j10atpQGcSPaNS1j3KunvJ9+vy1ei0WKCOcL3tW5Sg9Q/3OPXHP/zHeKMM4duZcNqZa6Dude/v2neaMYbbsO6Rm1j3V34Momjc3dh46ik5DR7MhpMGjz/9+wx+LlqFkgfywUkawcusO2HvspObumHHv4SMeBKnMVM86Hbvz39b1a+P4uQuRS290roZvFxw7e4HLdODEKR5kzGX9rr1o1qMfUrq7sbx6qzqMnDKdBx195qxYE0V2gvC1QPo6YfZ8dja8a1dH9kye8B04AuevRujrwrUb0LrvEORQ50nPyc5s2L3PZBrZn+4//cq2Kn+ObPDpM4j7vzGbZMiO6UN2o6PKY8GaDahaqrhymD6ovtifbZUuNMlt3K0P7O1s0LaBF3YfOYFhk/7gSTTVr03/oUibMgXaNqyHNdt3Y+Cvk/H67VsMmfg7Nu7Zx+fTpHTnvLXyMIWhep+6eAWjps3kZxM0Ee3/y2Q8Dw7idLIlJPtqZUpg4Pgp0dZbF5KjT+9BWLR+MwrlyoH7/k8wZvpsTaqxun+6rceUDgjC5yKRzi+MOVGG5Zu3ITg0FBMG9ka6lB4oli8PgoJfwD1ZUly/c4+voVnuK2Vom9aqxgYhlXJ0AoNDcfz8BVRRRpeiZ25JXTidZsiUR5LEiZAoUWIs2bAFvdu1RvrUKfneTGlTI6mzM2z1Zu40o44fPx7GD+iFbJ4ZUKpgfly5dRs3791no7Zy6w4Uyp2DZ/PEjbv3cUw5cd7qmSnd3Hiw6di0AfKqwUcfytvRzg6jenRBlgzpkDdbFqzYvANVS5fgmfkqlfefPw9F7iyZUCBnNrg6OXIEomnNqhxh2H30BPq2b8MDhC4UdbVJlDBKum6kY4NyDBMltMbgzu2RzMVZySU3l9MjeXKOMgQpuU8e2o/rW7JAPjVoPcLbd+8/iXRSJODWvYf48OE9uvo046hC37ETMbqHHz+Hohwkr4nz/kaJ/Hk/iV5qIyFUb/3yCoIlMWWDKMJF0S7v2jU4EpY5XVqenL16/RYZUqdSjsp0jOnlh0rKiYrQ4czKLt2Hh+rzIybPMJg2Yc4CZdN6qnNZOZ90qVKyk0q2admmrdHapL1HT0Zrx3jVQifaeVD1723KQZ0+ahCyZ8zAdolsF21lSWBlFdn/3ytntGjenMoxLaHyd0KKZK6Yu2odp127fZf7e482LTitcJ4cHGF0tnfA4vWb0KpeHeTJmpnlkStzRuW82RmM/Gn7t5O6/1flvEVX7xZ1amLxhs0oU6iAus6ey39L2VafurUwbtY8VQ4fdlRTuiVXzmpWNQlfjsrq+NyV6/wM/UgnrTztUJN3spv5smdjGcSLF59XlSh4YajulJYuZcoo9tqYDpDtFwRzkUjnNwA5XbmzZFGdPmLJh5ZcO3k3REZliHUhx27pxq2o1rYzCtZtisnz/47cCF6/agUcPnUOWat4cSSPIolkzMnQNKpeBZVadkBZb1+OxNna2CgHLPolXd1y0NJOQWVw7jz05+PYkjFtmshlMqqjtXXEcy5cu8F1dXF05GMiu3IC/Z8EICgk5i/u6EKyXayc7gJeTZC/TmMUb+SD3YePc6SE0grkyPFJfc3hcUAAy57qpMVNDZI0mNx+8FBzRhC+fshJc1UO36R5C1GueTsUru+N1dt24f37D6zntGSbLlUqzdVgZ6pNgzp4FvjcaNrlmzfRqGtv7nf06TL8ZzW5DlOOnb1Bm2TIjlnFjzp0kc1Il8oj0mZQ323hVROFc0d1zOhZ9x4+Rqu+Q7gMFBkMDA7Gx4/hyiHLhUTWCZG1shevwixetwWZlLPl7OSAto3qoW3/YSjSoDl6jRmPFy9f8QSRlv6pzNo66a/GkLwM1TtFsqTslG8/eISjnZv3HVRyqMyT3Ms3b/N12nvofv+nT7gNDBGd3cyZ2ZOddMJY3fUxpgOCEBvE6fwKoQjci5dhmqMI6C3pN2/fao7AS+3tBo2Ai5MjVv8+AcdXLYJfi2aaVPD+mw2zJuPk6sXo37ENLxl3HvYz50HLyle3r8WSiWN5CazD4JEGl671y/HkWaDmm+VI7urMkUPtshNBUV3ak5RAzb5jA8m2R2sfnFyzJPJzf/9WjiBEJ3dz62trk4QNNTmvWsgJfacGEHKoBeFb4c7DR7ydh7a2bJ37O46uWAivSuU4zZCeB4aEKOfGxmhaxjRpsG3ujMh+d3HTSqyaNh52tkkM2iRDdkz3GUR0NoOWm+mjy5T5i7Fp73780q8Hl+GvcaNgbxuxp9LBzg7TRw3Gxc0rMbZvD4SEhaJFr4G83alCscK4tGUVNv05FdXLlsLwydOxYPV6nmQumzxOnf+dP/rRR5KXsXpXK1MKu44cxbkrV/FQTapLFMjHk97U7m5YPGFM5D1n1y/ndqCoryGikwE5x7RHlDBWd32M6YAgxAZxOr9CiufPy3uZtPuR6CWbBn69cE5nP82bt+/YoObLnpk33JMTuu3gYU0qMHD8ZPxvxmwksUmMrBnSo1X9WggIDFJ5XEcFnw64+8CfDVidiuV4OeWOgWjc2h27I8tBz6C9RmSAyfmjvJ+rmTJBg8uGXRF7t2JLzswZcfX2HTbEBOW9dOM2FM6dXc3iY7eRvUje3Nhz9Fjk/liSbe2OP/ISlL7c6RralG8OJEv3ZK78MoR2D+f+E6e47BSljQnUriTX6PaCCoKlCVMTL4oU5sjsyQ7QXf9HOHLmHKfp6zl95qxYi37jJiGpi5PRNGcnexw6fYbzoTR64YfsFPU9QzbJkB0LU86VLvo2g/pQ2wHDsO1A1J8ton2iOTJl5AkmlWHXkeOqn4dyGr18027gcH7RL0PqlGjhVQuqFrh1/z6qtumMo0oGFEUsX7QQapUvzc8j+VBeVG766L+QSecM1ZugSCftNZ8yfwmK5c3FedGLRRSxpLLR9cS2/YfRqu/gKIEHfaKzm2u3747Mw1jd9TGmA3Qv2Sd9h14QzEGczq+QkgXzoVmt6rzcRMsg5Vv4on6ViiiQI7vmCvCenOZ1aqBJt378O2w12/nxXsrDp86yoe/cvAn2Hz/Nxrz9wBHw7jkATWpUQcGc2fm+mh38+DylP3j8FFVKldDkHJXi+fOh/aARXI5cNRry/soa5Uqzce3bvhVGT5uJ3DUboKx3WyRMaK25C3B1duT9Q/RC1NiZczRnzYP2Qg3r2gnNew1E3lqNkKdmQ7wIC0Pvdq3YENIeUtomULpZayzbtE1z1z8YSy+lZEvRhBKNW7Lc6AWlupXKI1O6NKqueVC7QlmuC9W3jnJGSxXIq7nzUyoUL4TdR46hXHNfluGY3t3YKc9RvT7L5Oc//uS9XDTgGkO/vPRTTG36DeOohSB8aWhJuXyxQqjo0577SIdBI9HVpymmLliMo2cv8D5srZ7nqdUQKzZvx6Af2sEuSRKjaUM6d+Dfl6Tl2jLN2vKLd2SnqO8ZskmG7Bjt8daF9hxS/lqbUai+N78BT7ZKl7YNvXj/qLYMHz9+RJ6sWZRj/Bs/L368+CjdtDW/1Fi1TSd2MPPlyKZsT0u0UU4sLUmTTCgPKrMpaJXDUL0Jiq5WLV2SJ7uVShblc2Tjurf2Ubb8jLIJbbjuI6dOR2/flp84tbqQDGh/edMf+7MMijf0QeoUbpFvxxurO/1Cia69NqYD2w4cZvtEdkoQYkq8K1dOh3t6ZtMcCpbmxo1LMFfeNFMNDnkBRwe7yH2G+tA1IS/CeO+g/j4ngmajr16/4X1Juum0UTwwKISNjf4LRPrQzJaWyGiflb7Ro3zo54jo54wMlfFziUkZY4ox2VIa/ZSRk709DwAxhbZC0Nuz9BLC59wvCJbEXBtEUbWwV68M6rH2P0bQ/ckfLZ+TZqy/G7Jj+mjzsLdLYtBBM2bPCKq31qbq2gbtfVbxraKtlymMycQQVO83797GyJaQDOhFVEdlv/RlZaru+pjSAUEwhb69EafzCxMTp1MQBCGuERskCMKXQt/eyPK6IAiCIAiCYHHE6RQEQRAEQRAsjjidgiAIgiAIgsURp1MQBEEQBEGwOOJ0CoIgCIIgCBZHnE5BEARBEATB4ojTKQiCIAiCIFgccToFQRAEQRAEiyNOpyAIgiAIgmBxxOkUBEEQBEEQLI44nYIgCIIgCILFEadTEARBEARBsDjxrlw5Ha75LgiCIAiCIAhxhqdnNs03jdOpe0KwLDduXIrSAIIgCF8SsUGCIHwp9O2NLK8LgiAIgiAIFkecTkEQBEEQBMHiiNMpCIIgCIIgWBxxOgVBEARBEASLI06nIAiCIAiCYHHE6RQEQRAEQRAsjjidgiAIgiAIgsURp1MQBEEQBEGwOOJ0CoIgCIIgCBZHnE5BEARBEATB4ojTKQiCIAiCIFgccTq/Qt69f4/AkBCEh4fzcdjLV/zRon8sCIIQlwSHvsCbt281R1GPP3z8iOfBwfxXEAQhJpjldPqNGAO3ouU/+VRu1QlBIaGaq/5dyAnz6tSdy/qt8+r1a3Qe+hOOnjnHx1du3UbrfkPY0Ed3HBtIbjSgaJn812L+CILw32XXkWP4cfQ4ngDrH39UzubIKTOwausOThMEQTAXsyOd7slcsWvBTJxdvzzys3jiGDja22muEOIKBzs7DOrcHmevXMfbd++QL3tWNK5RBefUMaF/HBtmL1+DQROmaI4EQRCAGmVLKTuTDddu3/3k2DpBAvRu1woPHj9FaFgYpwuCIJiDlZ9fx2EuLsk0h9Gzac9+ZWCeoF2jBnBL6gK7JDb8sUmcGA+fBOCXWXPxPDgE2TzTI168eDh8+gwmzluEVO5ucHFyxM6DRzB9yQps3nsQYS9fIn3qlEigDNdd/0cYp+5NnCgRVmzZgWWbtvMsOrmrC/5YtIyP371/B8+0qfFOOV/TFy3H1Vu3ERAUrNKX49CpM0jpFvGMd+/eY6WaeZMTXL1MSV6aPnXxMqYsWIyNuw9Eee6/SWBgAEzJm0jm4owCObPBysqKZZo9YwakS+nBafrHV2/dwbPgYNx54M/1vXH3gaqrB7fPyQuX8P7DxyiTg0s3biJQtdedh/7Ysv8g7j16AmcHe7g6O+Hs5WssO2vrBJzXo6fPkD6VBxIlTMj30pLa/uOnMGOJaoubd+Hhllw5ybacpl8O/XsFQfj3MccGWcWPz/aH7FB0x/a2tiiaN5f0bUEQjKJvb8yOdL7/8AHPggLxOOB55If2+HgkT6qcRFf0+d9v7OTd83+M7qN/Uc5jODKlS4MFq9ejdf+hcFJOT9YM6TB00jSMnjaTHZsg5fgsWLMRrfoOxvU7d9kZaqOuLd/CF+evXlez6jvwHTAc63bsxvv3H7DtwGH0Vs8ZNXUm3qpnr9m+C9V9O6vnXtKU8h8Wrt2A2h268XO0z/UdOByv37zRXPH9sGXfITTr3g+LN2xRA0FuPH3+DPU79+S2OHXxCkYpeVP7ESEvXqDvuEm4ryYRhli0fiN2HjrKedHfTkNHs9xoaY3amSYEJQvkh1UCK1Ru3QF7j53k+6gcDbr0VH8PfnKvIAiCIAj/bcx2OilqVa55O+Su2SDys+foCY66+Taqi2L5c6PjkFHoNup/fP2Prbx5GSZXlkxYOfVX9OvQhq8rWTA/zl29gZevXvN1RN/2bTBlaH+M6dWVZ84NqlbCrJ+G4o+Rg+Ce1FU5T/84SNkzemL5lHGYMLA3lk/+FYkTJcTcFesiX7ohaJ/pX6s2oIVXDYzu4Yd2jeth4uB+OHb2AkfjvkdoyX10jy6oVb4MBnT05SjEkg2bUbFEUdx96I8HjyJkeOnGLSSwio+CObMhf45syO7pibQe7qhaugScHRz4msK5c6FnWx/Oa0iXDggMCkVwaBgOnTqLi9dvqLbqh2plSqC9kuvgzu3ZCdW+ZFCuSGFua/17BUEQBEH4b2O205nKPTnv43x8eGfkp3LJYpxGy+Oju/vhw4cPOHL6HH7p1xOpU7hxWkLrBPj1z/nIWsUL7sUqYNXWnXxeF+21WuySRCzXWsW3gpVykHTJnjE9XBwd+Tstw2dInZqXiV+9/udNyzdv33FUlvYr0jPppaemP/ZlZ/RRwDPNVd8XubNkYSefoIlAwVw5WC5plGzzZsuM7QePsGO+ettO1ChbmveNGiJj2jScB0FtS0vtxIVrN1Ra6kj5E9k9M8D/SYCSbcTLSIbuFQRBEAThv43ZTqcxyJlZt3MPOx/0faVyLGkp9llQMH4Y+hPsbZNg14JZeHhwOxpWq6S56/OgCKl2qThc/aM9oElsEivnNMLR0aVLiyZRXnyiT5nCBTSp3xcvXkaNJj55Fsh/yQGsVqYUtuw7gNv3H+L6nXuoWLwIp8WU5K7OUeRPvHrzRk0srJEggZXmjCAIgiAIwqfEak9nwPMgfrGE9vT9/MefGNDJF3/+PByL12/il34o8vn67Vs4OTjALakrbiiH58iZcwgNe4k37/6JTMaEjXv2Y92OPbycS1G7Y+cuoEKxIlE2tLs6O6JgrpzYuHufcpJeIamLExau3YgqrTvikSr398jaHbt5DydB+zZpX2WFYoX5mCKdNBmY9vdSflkopXtyPh9TcmbOiKu37+Dclat8TBOLpRu3oXDu7HBxjFiaFwRBEARBiI5Y7ems0qYjOyD9xv3G+zA7NG2AqqWLo3/Htpg8fxHuP3qETs0aY9G6TfAoXhHVfbugVb06CAh8jqETf9fkHDMK5cqBWUtXIU3pquj583g0rVmVP7oksLLCyB87I41HChRt2IKfPW3hEvw6oBfvX/weKZInN9oPGoH8dRojV42G/2/vPuBrOt84gP+IHYkkQuwVq2Lv2qu1V5MqoilBjRitvau0pdoK1aWt0aKorbaaf3vv2aBWjJAQQcz/+zy5VyMyrnHR+n37uR8595x77jlvep73ecc50TtN61atpOtkKL1WpQqYNHcBmtSpqeVjVb1cKazevNX8btsg6ORpy7uxy5czBwZ36YAWPfqjaP0mKFLvbVyLiNDHp1iH1ImIiIhik+jw4V33PT1fsyzah/SGhl+L0Mf2PGlyIg8x9+3eT+d/jhnURx9oLjcRJfTIDvncjZuRcHVx1sd+vGhBQQfxrMvb+jD3Tu++o3/JyDFlykfKZeWmrRg1cQomf/lJvPM5bSG/z9Cwq0iZIjkcU6W0vEtE/wb2iEFERLGJGW+eSxYmyZ6Ls9Mz7Q2TBNaWZ8RJUiTD6y9DwmlvUr5yk0/0cpHHFS1btxGB4yfB+81qT51wCilLKVMmnERERGSrf00mJjeqvFG+rD7/kR5WIE8ufcVG7uTffeiIPsKqeYM6lneJiIiInq/nMrxO/+DQFhG9SIxBRPS8vJDhdSIiIiJ6tTHpJCIiIiK7Y9JJRERERHbHpJOIiIiI7I5JJxERERHZHZNOIiIiIrI7Jp1EREREZHdMOomIiIjI7ph0EhEREZHdMekkIiIiIrvTP4Np+ZmIiIiI6JmJ/mcw+bfXnzP+3WMiepEYg4joeeHfXiciIiKi545JJxERERHZHZNOIiIiIrI7Jp1EREREZHdMOomIiIjI7ph0EhEREZHdMekkIiIiIrtj0klEREREdsekk4iIiIjsjkknEREREdkdk04iIiIisjsmnURERERkd0w6X2I3IyMxe+kK1G4dgOIN39F/ZVnet0XE9Ru4En7NshS/u/fu4VLYFdy+c0eX9xw6gqot2uJ8yGVdfh7kWOWYrcb8Ok1fz4Kch5yPnBcR2eavv0+h5+eBKO3tqy/5Wd6zhVxzjTp8+FxjyJOQmCexT2KgkBjxXq+BD8WipyExrPOQ4ZYlolcbk86X1Kng82jcsRtOn7uA6aM/x4550/XfU+fOw7/vYFy9lnAyOX7mPAwI/MayFL+Qy2Hw6dQDB/86pstZM2XA4C7tkcbJUZefBzlWOWYierHu37+P76fMQJehn6PlW/WxccYkfcnPkkAtWLXWsuW/n8Q8iX0SA4nIvhw6d24/2M0tnWWR7C00NAQJlbf0ZPYeMQp+jevh3Ub1EBJ6BYePH0cWDw8UypfbBMcr2LJ3P8oVL6Lbrtq0zSRrc3Dk2Elky5QRqVOlxI79B7F03QaTpF6Aq7MT0rq6IEWyZNh7+CjGTpuJNVu2m/edkT6tG8LCw/Hnhk34c/0muLm4IGkSB2RKnw4XLl1GxvTuSJIkifYGrNiwGT9On42/Tpx68D3y/Vv27Me9e/cxbsZcbNy5B/ly5UD4tesYO3WmLntmy6rbWs9t8dr1mlzK/nNmyQQHBwds2rUXC1evQ+StSKRMkcJ8v7s5h0Na+SVNmgTfTJ6Gcxcv6fbJzXnEtq8sGdLrZ4V8znquB44eN+efRretXak8PNzT6jZEryJbYtDarTswe/kKTPx8CDKkc8fOAweRKFFic415oHyJYhg5fhJKFykMF6fUccYG6SmU5LR+tcq6HB4RgZlL/sQvs/8wMS30oWv5+KkzmDJ/EeatWGXiT1JkyeiBxIkS6XV8MOgYJs6ajxUbNz+IWYnMOolxNyNvmfi3FZPnL4S7iXEuTk6Yv2KNLsu2cuyybfR4sGX3Po1vrmmcEXwxBIvXrMeGHbvMtm5IkTw57ty9q3GrZCEvjS3rt+98sL2VHO/Pv8/WY3JydER6E1PkeIX1PKcvXKLncvbCBYReuYo6lSvoeqJXScx4w57Ol9CR439rAKtRrowG7Tb9BmPXgSMI+PgzDB87Hj61a2C7STrPXwrFoNHfY9Ga/6H1228hW+YMaN6tL/YdOWrZ08PmLFuJHsMDUbPC6/rq/cVoLFu30bL2YVfCIzDip4n6ryR37Qd+gsnzFqJWxXK4e++ufo/0xsr67sO+xGc/jDPJZWZcvhIG74Du6DUiEDmyZMS16xG6rfQiSCUkw1arN29HK+8GCLsajobtPzRB+aLlWx81dcEirNy4BWWLFtZ/O3z0qR6P9PS+26O/qey24E1zLifOnEHNlh207MQPv82Ef9+PTMWW2VQIrhg46jucDwnRdUQUN0nQJHFr0+QtXZZrVuLET7/PRIvu/XD9xg3T4C2KNZu3xhsbort85Qpa9R6k13pAi3f03/aDPtWYIPFKrtXsmTNqHJv352r0/2qMJn/yvV0/+QKVShWHT60aGPHzRL22xYRZ86L2YY7HM1s2PQ45VhnOz5sjO9oNGKrJs5DPfPjZVxr3inu9Br9eA7D0fxt0XWwOHA1C4IRJGtOk0e3dqZtp+J/QdRKTm3frg8wmAS9WID96fj4KQ78Zq+Um51W3TSdsNQ1xiVmSsEqHABFFYdL5EjoXcgk5s2bG3bv3dA5nYP8eaPvOW/DKkxsZ06XXXgPn1Klx/fp1nA4+Z4LxG8hltq9bpSK+6P0BUqVMpYG1gKcnsmfKgFqVymurP0eWTBg3bDDKmGAorzqVK2rglXVVy5Q2Lfk0qFy6uH42OunJlJ7EUQN6omrZUlppyDBb8MWoZNE5tRO6+7+LRm9UQxc/X33vw1a+8K5ZA+2bNcG9e/e0tb99/0Httfy0WwDy58qJjr5NUKaIF1Zv2qq9tnKscszVXy+tPQ6idOFC6N7aT3tLBnVqh9CwcE105y5fBUdTDl/0+VC379e+DRrUqIJf5szX+Vlz/1yF0QN6a0+xHMfwnl2Q2jGV7pOI4nb9xk3TWLwOz6xZtMcvh0kG5fp6/x0fRN6+Aw93d41Pch0mFBuspLexRxs/fNDSV2OVXyOzzYUQ/H32rIkNIZpwSpySdQMC2qBe1Uq4Z+LfkeMnNeEsXaQQCuT2NPGtm4lP+R7Mv/RtUFuvcX+fhtoz+XqxIujg+zbee6sByhYrjD2Hjmo8WGLi3LeD+2jcq24a8x937WgatIvhlsZZY57EvjfKl0PenNl1v04mvvbr0EZjWme/Zia5fA1/nwnWfckczS/7dEfz+rU1Lv306SBtSB89cVJHi3Jly6JxSdb1aeevcZmIojDpfAlJT0LqVI4m8N/A5StXTVKYRt+/cfMm8uXKru9LT5+zU2q0bvIWWvc1iaRPC/QYPlLXSQCPTWYPD/y+aJnekFSycTOMmfTbgxuH4rPftPolYXUzgVlIBSKBvnThgrqcMkVypHFy0p+FrE+c6NH/tWQ/qzdtQ7kmfnpjVIlGTTFt4VKtvOKSO3s23Z+QRFSSVrHr4GGU8PJC0iRRy7JNGVMx7T96DMdPndbzks9aZTAVZfZMsZcLEf1Deivvm6ROrjdJ+qShK9fXbZNwZkznro1eGV6W+d4JxQYraSRfi7ihc0TlhqS6bQNw8mww7ty5i7JFCyF50mTI/2Yj+HTqjml/LEWeHNmRLFlSeNeqjk079yJ/zUbaiymjHQXyeMIhcVR8keHz6BwSO1h++oeMcBw6dgxNuvTUuCOvTh8P07gj3x+brBk94OwYNZ89iYODachHTduRfcWMLR5p3eDi7IQTZ87GGpckGSaiKEw6X0LSyg46eQpOjqmQ1iUN9h39ywSzQzrUJEM9MxYv1xa5tNKll+/g0jlYPO5b1DEt6o/HjMXkuQsse/qHJKltBwyBm9nf3O8DsW3OVHR+t7llbfzSp3XV3g8Z7rKSYTF5PQ7ZT+M3q+lNUdbX8VWL0NmvqWUL26Vzc9Wh++hkLpVUDs4mAZaKQob+rKSiCLPxTn6iV1kShyR6rUuC5ZXXU4e/Ze7jtIWLdc71yeBgnUdexiSLtsaGP1asRuCEKejVpiU2z5yMhT99axK7DLpOEtKxnwzEgSWzMaJ3N1yNCNepMzIlR+ZSLvx5DHbMnYa+7f112Dpg8LCHru2EOKZMhdzZsmH5xB8fxJ0Di2djzncjdbTkcci+YostkpBLkh5bXLpwKdTyExEx6XwJFc6XR4ejz4dc0iGelRs3Y82WHfh6YG+s2LBJt+n9vr/2gtbyD8CW3Xu1p6Fa2VKoX60SjpyImtcYXeSt21oRFCuQVyfvSxK63LKvhBTMm1v3ufdw1OOGZD+t+w3G8vWxzweNi1ceT33cysngc7os+5H5X9Z5V49D5pRJEm6dOybnM23BEp2zlS2jBzKkS4s/Vq7ReVZi/Y5d2rNCRPGThpvcLLR47TpUMNdZxVLFMGriFJQvXkznmU+c/Qf6d2yNfDlz2Bwbgi9e0jnn0isqvX8bd+3WGCd+nfMH2vb/GIkTJ9bh9Xcb1cd985/MA+0/cgw+/3G8HpNMyWnpXR8hoWGIMImurTzc3eDq4qTfKSQmyE1Psu/HJfuKGVvWbd+piWcBz1yxxiW5gZGIojDpfAlJa9mvcX10HPyZDnV92q0zur7XHIVMMirzGts389EgLL2gPdu+B38T5P16DtBn4s1YvAwtGtbV/VQvVwqrN29F1RZtIM/AlPebdu2j29Vr2xm+9Wtj0849mDBrvt7dXbZoQX1M04ifJujnrWRS/qCAdmjRoz+K1m+CUt6+eudp3aqVLFvYRiopf59GqN26ox5DuXf88JpnTrxerLCulzlQoyZO1iE2qXDiI/O8/Bo3wBvvtdPhspKNm6Nw/rxo3qCO9jgM6NgWs5augFcdbxSp/7bOTZNJ/0SUsLdr18DuQ0fxw9SZOmf8855dUaFkMfg2qIuBAW1RyjJkbGtsaFijCk6bRKxC05ao7tdO4453zeroPnwkKpYsrtNxKjVrpTcK1vLvoA1omRsZ0KIp1m3bpZ95v/8Q+Hbvh6Z1a2rss5XEAzlGmYspz+qt3Ly13gwk+xbydI2MJpGs1LyVjiLFR/Y13JSFzIWX2FK4ng+G/TAOgf27w93NReemN6heBVV8W2tcatj+A1QsUdTyaSJKdPjwrvueng/fOEL2ExR0ELaW95Y9+zD0mx91OEvmMMkQlgxFfTe4nyZYVtLiDr16VeczpXFKbXk3dtIiv3otQucgWedF2Uom74eGXYVT6lQPHnXyJJ7VfoQOm18NN+XiGOu+JNlOkTzZU38P0X+FrTFIhs1HTvhVb2a0kkcUNan7Jvq2a/3QNWXrNS3XowxPxzasHXnr1oPYZJ0TaSU9qDduRsLVxfmx41Z01j+WkVCctIXsSzoF5EZM6b2NTuKS3Iwlj3CKuY7oVRIz3jDpfM4eJ+kkInrWGIOI6HmJGW84vE5EREREdsekk4iIiIjsjkknEREREdkdk04iIiIisjsmnURERERkd0w6iYiIiMjumHQSERERkd0x6SQiIiIiu2PSSURERER2x6STiIiIiOyOSScRERER2R2TTiIiIiKyu0SHD++6b/mZiIiIiOiZ8fR8zfKTJemM/gbZV1DQwYd+AUREzxNjEBE9LzHjDYfXiYiIiMjumHQSERERkd0x6SQiIiIiu2PSSURERER2x6STiIiIiOyOSScRERER2R2TTiIiIiKyOyadRERERGR3TDqJiIiIyO6YdBIRERGR3THpJHoGTgWfR+u+g7Fw1Vq0H/QJrl67ZllDRGQfEmck3mzfd8DyzpO5dfs2+n45GovXrLe8Q2QfTDr/Jcb8Og2dhwy3LMUt4voNvNO1FwrUfgu/zJ5vedc2V8Kv6edtcfvOHVwKu4K79+7p8rJ1G9Gow4c2f97eYp6LlJ+8ngXZr5yrnLO4c/cuvp08DZVKFUedKhWRztXFlP0CXUf0X3A+5DKqtmiLPYeOWN6J274jR1GorjcqNfPHwaBjlncT9iyv0RclZlyU8nqv18BnFhdj1gNT5i2GR1o3FPeK/2/pJ1S2yZImRUvvhvh+6gycOX/R8i7Rs8ek8z8m6OQpXLgUilWTfsZ7bzWwvGubAYHfYPzMeZal+B386xh8OvVAyOUwXS6ULw96tW2J5MmT6fKL9jjn8rR2HTyEnQcOa8KZKFEi+Ps0xuK16/D32XOWLYheHas2bUeVMqWwdup4vOaZy/LuqyFmXLQniS8zlixHs/q1Ne48rbw5sqN88cKY+sciyztEz55D587tB7u5pbMskr2FhobAlvIOj4jAzCV/YvrCJUiaJCnOXriA0CtXUadyBV1//NQZ/Pz7bKzYuBmuzs5Ib1q750Iu6fDIhh27kCGdG1IkT460ri66vZXs94+Va/DLnAUmOb2MnFkywcHBAZt27cXC1esQeSsSKVOkQKb07kiUODHWbduJH6fPxI59B8176eCaxhnBF0Me+Z40TqkRdjUcGc02ic3nrt+4iXkrVmHcjHkICQ3V70meLP6E9GZkJLbs2Y979+6bz83Fxp17kC9XDoRfu46xU2fqsme2rEidKuWD7RevXa/JZULnsmP/Idy/fx9JkybBN5On4dzFSw8dk/RMWM/1yLGTyOSRHs6pHXWdsJa3nHO6tK5YuXErShX20uOZtWSl2d4dNSuW022dzOfWbt0OJ8dUyJ0jmx7PjZuRj/wuiF4EW2KQXCt7Dx/F2GkzceDocfP/bhq91mpXKg8P97SxXntyLe3YfxBL123AqXMXTFxy0v/nU5r4EF1csWHL7n26vkyRgg99/5ot2x/EOEmuZJ30oE6cNf+h+CfrYotvCcUdIcd9M/KWSZi3YvL8hXA3x+3i5IT5K9bosnxHhnQmJlq+33pscszxxUUZBZG4VbKQl5bV+u07H2xvFT2WOzk6Ir0p38SWJDK+emDzrj0mjl2EX+P6GnOF9FL+NH22iX9rdfssGT10X9HLNq4yknNLmiQJppnvql25PC6b79myR87PHUnM+0RPIma8YU/nS+jshYuo26YTtpoErGzRwhqoxs+cY1kLLP3fBjTv1gcF8nhqcOg/8hv88NtMy9q4yRBPu4GfaG9oh2Zvm+B5D0269NLvi0kCa+D4SZqE+Taoo9/Vpv8QHTqLzSnT6v528nREmsAtrfzGHbtpsPWuWR2Hjx1Hm34fJzjP8Up4BLoP+xKf/TDOJHOZTdALg3dAd/QaEYgcWTLi2vUIc959df9yLjJstXrzdrTybqAJb8P2H8Z6LlZTFywyyeIWLVP5t8NHn2rlKUNivT4fhR+mzkCFEsXhkMQBb7ZqZxLHHfo5Ke/arQNMsuuIPCaJHDl+Mrbvj5pDJeV0ICgIJQoW0GWRxCS+hfPlMxXjcdy6dVunOWzcuduylujlJ/HEv+9HJiHJbJIgVwwc9R3Oh4Touie59qxsjQ1zlq1Ej+GBqFnhdX31/mL0g+ks8m/XT77Q6Sw+tWpgxM8T9XgfJ77FNGHWPLQf9CkibtwwsScb2pv9yDnKtALpAWw3YOiDeCDf9eFnX+lxybC2X68BGiPicuBoEAInTNKYJsmbd6duOHz8hK5bsGqtxvLMGTxQrEB+9DRxaOg3YzWuJFQPSHyROCPxRsjx1W0ToAlttbKlzXdOxvdTftd9WSVURjkyZzYx/LZJbMNx9MRJjJ44BdciXo4pU/TfwJ7O58yWXgYJuGHh4RjzUR8dnqpQohhOBZ/Drdt3UP310hg2dhy6+ftp0Mvskd4EvvwmYZqJt0wQdzMBZ/WW7ej9vj+yZ85o2WMUCSTTFixBz7atkDNrZk0k82TPivRuaZHfM4e20PPnyoWm9WpaWr0OJuGsi+yZMmrg3bZ3P27cvIWqZUshZfJkD33P+ZBLWpHUrVIR81esNglkOAL79zRBLBNeL1YEYVeuaU+Bm0say9E8SgLiojXrMfSDjihvzrlgnjymlb8cH3dtr0FUymLG4uWmPIri+OmzOqw9ekBP3W+pQl5agck+6lWr9NC5SKCXlr70eg4x+5be06Kv5cOsJStQq1J5s5/DpsxXYNywj0wQz2MSyNeQ1hznlPmL8Eb5svj0+5/RrpmPqWAbmnLKiXLFi2DJ2vWoXLokMprvnrF4GSqXKYkspuKwkvOXyf0Na1RB/WqV9fuIXgYJxSCZkyj/zw/v0VWvpQK5c6FogXxYuPp/aFC9SpzXXvi1CL2ejp86i7t376CLX/NHejnleo4rNvz19yndRnrjbpjGoAwbS4yS60pi17Z9+3U0QXoTPdzddL30cMo+UqVIjuTJU2D6wqWPxDd3V1c4WkZH4rJ4zTpz7OW011CSv92HjqBw/rzo7NdUr929prF958495Db7+8o0xgP7dzfv50eurFlMgziziRUL0aT2mzoKEzMurtq8DaNMWUk5yejItr0H9JxcnJ3Re8RofNqts8bNfDlzoGLJ4hj9y28oX7yojpbEVQ9IT6fEp0L5cuvvJ/LWLXz09Xd4v6m3dhLIcZUtUghHTvyNQnnzYOeBQ3qeeUwcj60OsJaR9K+u2rxV65TS5vcgZZwqZQr9LNGTYE/nv4AkQSW8vHSoQ0gCKMMz4qoJ7IeOnUCnj4eheMN39NWkS08EX7xgguJd3SYu6dO6okmdmnjjvXao4ttGW9SOKVMindujw77Sek5rAtHXv0zRGwhKe/ti7vJVCX6HkOOXFrj1+GWYqYPv2xqwE5LSVB5pnJwsS1HnnjjRo/+b7j8ahNWbtqFcEz8tgxKNmmKaqXCktzQuubNn0/0JOSYZaheyLzk2tzT/JMQFTJAPvhCCM+cu4OLlUF22kp4EqSCsEjskRvJkSS1LRP9u0qMpvf9yvVhlcHfXxqd4kmvPytbYkNnDA78vWqYjDCUbN8OYSb/pMQnvWtWxaede5K/ZSHsjZdRCkqeM6dLaHN9iI4lvdA6Jo3oQo5OyOXTsmMZca/yVWCznHldszJrRA86OUVN1JK5ak7jYylluCnJxdsKJM5LYx10PWEn5CakXrL2yVjmyZEKnd5s+lDQ+Th1AZA9MOl9C6dxcdSg5Ork5SEgAympaydMCh2PHvOn62rNgJrbMmqKt//hI0JLhsCN/zsf00SO0Rd9u4D/DRtHJJHUZ9pLh5mUTv9f9N3qjqmVt/GI7frmbXFrjz4oEz8ZvVntQBvI6vmqR9kw8LtmXzDOT+VdW0tMid3RK70mqFCl12UqGzKW3RsiNU8mTJnvw+7EKOnn6oTmhRP8WjilTaXIkU0+sJDkKM9eweJprz5bYIEPtbQcM0VGRud8HYtucqej8bnPLWuicyIU/j8GOudPQt72/Dj8HDB6m+7A1vj0pKZvc2bJh+cQfH5z7gcWzMee7kQn2psYUVznfvn1Hk8n46gEh5XDs5Bn9WeqFmHFK5qlfvvLPnfQioTrg+s2b2si2JrNEzxqTzpdQueJFdd6SPPtRSBCWSftCbtiRXgEZsrHO1Vm+bhNa9h6YYFJ35PjfqO7XDifPBGuC2rBGVRQ1Qedv06qOKcIEOwlQXnk9NaCdDD6Hzbv3WtbGL+bxy007Pp176BDVs+KVx1OH4+S4hAyry3zPJ6lgCubNrcNQew9HPQ5GAv/vi5ajdOECyJE5Awrn89Rla0/LoWPHsW3fQf1ZKg35fRz4659Hw8jv5VDQcZ3vJT9L4JfjI/o3kNiQIV1avdnEGmPW79iFk2eD9eenufZsiQ2RplEn+yxWIK/e4CLxb/mGTZa1QP+RY/D5j+O1By9/rpxo6V0fIaFhZh9/2RzfnpTs19XFCRt3Rc3RlvL5cfpsPabHFVs5r9u+U+OMjKzEVw+IvDmz63xy+azUCzHj1MoNW0y98JEpy+u6LBKqA4IvXDTJcArTsHDT+kTm4EZPWomeFpPOl5DMGZS5U1V8W+vwTcP2H6BiiaK6ThLBD1v5YdPO3ajU3F8DyNBvx6Jnm/cSvEtTboJp0bAu6rXrjPf7D9HPyt2ONSuW1/Uy93DUxMnw6dRdh9arvV4KNfze12dSykT6Ln7N9HmUUrnIXdsynFWpeSudZxldhZLF0Lx+HR3CkeOv9m4beNesgRJe/9xs87RkeNvfpxFqt+6ox1fuHT+85pkTrxcrrOujn4skffGRfQ3u0gEtevRH0fpNUKTe27gWEYGebVvqXaGd/Xxx+tw5fV/W//T7bJS3/D7EGxXK6iR/680QJ00lcezUaZQsVFB7UP37DNY7V4n+DaSXa0DHtpi1dAW86nijSP23db629IqJhK69+NgSG+TOcYlTTbv20f3Xa9sZvvVrm5i3BxNmzUdAi6ZYt22Xxi+JY77d+6Fp3ZooWbBAvPHtWZCyGRTQTp95KdOOKjdvrTcDyTGJ+OJiTLKv4T276k1IUs6F6/lg2A/jdL6ou5tLvPWAkPhy2sQaiTdSL3Rr7WdiUPiDONU/cAyGftABzqlTWz6RcB0gSW6ZIoV0iF+eGlDTv/1zefwTvToSHT68676nZ/wPlqVnJyjoIGwtb2mxXjOtVHl0hwSVmKQ3IPL2LX2cR2zr4yIt19Cwqzp/MqEhIWntyh2dj/sdQo7/ytVrSOOc+sG8pP1H/zIJ2KMPrff3aQCvPLktS7aznotT6lQ2PRolPgmVi7W3MuY6GR573yTlDapX1gr061+nmkB9GUM+CHjsMiOyt8eJQTL0nUKmkMRybT3NtRdbbIhJtpG5ipIAOVgeCRSdXI/yKDJXF+eH1sd2HUuv7I/TZuqNkNHVqVJBb858ElI2QnoZn5bs6+69u7HG2bjqAenhHDTqW6R2TIVebVs9WGdLvRBXGQV89Bm+7NvtoTnrRE8jZrxh0vmcPU7A/y+SJDbMVDYxuZjK52mTxhdJHoHS54uvdV7bqAlT8MPQATrniuhl8yrGIEnc5NFO8gzg6ORu84Qa3i8z6YWU+a/So1kwbx7Lu49P5rMPGPkNsmfKpDd2ET0rTDpfsFc96SSiF4sxiIiel5jxhnM6iYiIiMjumHQSERERkd0x6SQiIiIiu2PSSURERER2x6STiIiIiOyOSScRERER2R2TTiIiIiKyOyadRERERGR3TDqJiIiIyM6A/wOirQ87YtgOmQAAAABJRU5ErkJggg==)"
      ],
      "metadata": {
        "id": "w_XA0yKTKgBv"
      }
    },
    {
      "cell_type": "code",
      "source": [
        "class MyClass:\n",
        "    class_variable = \"Class Data\"\n",
        "\n",
        "    @staticmethod\n",
        "    def static_method():\n",
        "        print(\"Static method called.\")\n",
        "\n",
        "    @classmethod\n",
        "    def class_method(cls):\n",
        "        print(f\"Class method called: {cls.class_variable}\")\n",
        "\n",
        "MyClass.static_method()\n",
        "MyClass.class_method()\n"
      ],
      "metadata": {
        "colab": {
          "base_uri": "https://localhost:8080/"
        },
        "id": "wT49kxekLIBf",
        "outputId": "a033305e-35c0-43f0-c1b1-5c2733f6b1d0"
      },
      "execution_count": null,
      "outputs": [
        {
          "output_type": "stream",
          "name": "stdout",
          "text": [
            "Static method called.\n",
            "Class method called: Class Data\n"
          ]
        }
      ]
    },
    {
      "cell_type": "markdown",
      "source": [
        "23. How does polymorphism work in Python with inheritance?\n",
        "- Polymorphism in Python allows objects of different types to be treated uniformly based on shared behavior. It works seamlessly with inheritance, enabling child classes to override methods from parent classes and providing flexibility in code design.\n",
        "\n",
        "- Key Concepts\n",
        " - Method Overriding: A subclass can define its own version of a method inherited from the parent class.\n",
        " - Dynamic Method Resolution: At runtime, Python determines which method to invoke based on the object's type.\n",
        "\n"
      ],
      "metadata": {
        "id": "HHnv3tbXLc-X"
      }
    },
    {
      "cell_type": "code",
      "source": [
        "class Animal:\n",
        "    def speak(self):\n",
        "        print(\"Animal speaks.\")\n",
        "\n",
        "class Dog(Animal):\n",
        "    def speak(self):\n",
        "        print(\"Dog barks.\")\n",
        "\n",
        "class Cat(Animal):\n",
        "    def speak(self):\n",
        "        print(\"Cat meows.\")\n",
        "\n",
        "# Polymorphic behavior\n",
        "animals = [Dog(), Cat(), Animal()]\n",
        "for animal in animals:\n",
        "    animal.speak()"
      ],
      "metadata": {
        "colab": {
          "base_uri": "https://localhost:8080/"
        },
        "id": "AffScW8nLsy3",
        "outputId": "6f466ed8-0dcb-4386-dedd-3b3d0dc0c890"
      },
      "execution_count": null,
      "outputs": [
        {
          "output_type": "stream",
          "name": "stdout",
          "text": [
            "Dog barks.\n",
            "Cat meows.\n",
            "Animal speaks.\n"
          ]
        }
      ]
    },
    {
      "cell_type": "markdown",
      "source": [
        "- **Advantages**\n",
        " - Promotes code reuse and flexibility.\n",
        " - Allows functions to operate on objects of different types without knowing their specific class.\n",
        "\n",
        "- Polymorphism ensures that derived classes can provide their own implementation of methods while maintaining consistency in behavior across related classes"
      ],
      "metadata": {
        "id": "aU9_5zu2Lwd_"
      }
    },
    {
      "cell_type": "markdown",
      "source": [
        "24. What is method chaining in Python OOP?\n",
        "- Method chaining in Python is a programming style where multiple methods are called sequentially on the same object, with each method returning the object itself (usually self). This eliminates the need for intermediate variables and allows for cleaner and more readable code.\n",
        "\n",
        "- Key Features\n",
        " - Sequential Execution: Methods are executed one after another on the same object.\n",
        " - Returns Object: Each method returns the object itself, enabling further chaining.\n",
        " - Improved Readability: Reduces clutter by avoiding intermediate variables."
      ],
      "metadata": {
        "id": "UTUC3WjYMTYY"
      }
    },
    {
      "cell_type": "code",
      "source": [
        "class Calculator:\n",
        "    def __init__(self, value=0):\n",
        "        self.value = value\n",
        "\n",
        "    def add(self, num):\n",
        "        self.value += num\n",
        "        return self\n",
        "\n",
        "    def subtract(self, num):\n",
        "        self.value -= num\n",
        "        return self\n",
        "\n",
        "    def multiply(self, num):\n",
        "        self.value *= num\n",
        "        return self\n",
        "\n",
        "calc = Calculator()\n",
        "result = calc.add(10).subtract(5).multiply(3).value\n",
        "print(result)\n"
      ],
      "metadata": {
        "colab": {
          "base_uri": "https://localhost:8080/"
        },
        "id": "1nEfLgSQMe4Q",
        "outputId": "eda8c779-1e54-4c1f-8809-c47802b281e9"
      },
      "execution_count": null,
      "outputs": [
        {
          "output_type": "stream",
          "name": "stdout",
          "text": [
            "15\n"
          ]
        }
      ]
    },
    {
      "cell_type": "markdown",
      "source": [
        "25. What is the purpose of the __call__ method in Python?\n",
        "- The __call__ method in Python allows an instance of a class to be called as if it were a function. When implemented, it defines the behavior that occurs when an object is \"called\" using parentheses.\n",
        "\n",
        "- Key Features\n",
        "  - Makes Objects Callable: An instance can be invoked like a function\n",
        "  - Customizable Behavior: Enables defining specific actions upon invocation.\n",
        "  - Does Not Impact Lifecycle: Unlike __init__, it does not affect object creation but can modify its state."
      ],
      "metadata": {
        "id": "fBGT9qfLMmmv"
      }
    },
    {
      "cell_type": "code",
      "source": [
        "class MyClass:\n",
        "    def __init__(self, value):\n",
        "        self.value = value\n",
        "\n",
        "    def __call__(self, increment):\n",
        "        self.value += increment\n",
        "        return self.value\n",
        "\n",
        "obj = MyClass(10)\n",
        "print(obj(5))\n",
        "print(obj(3))\n"
      ],
      "metadata": {
        "colab": {
          "base_uri": "https://localhost:8080/"
        },
        "id": "prP_5iH1M5xQ",
        "outputId": "4c14f809-4fe3-4892-bb2a-4f7a24f08627"
      },
      "execution_count": null,
      "outputs": [
        {
          "output_type": "stream",
          "name": "stdout",
          "text": [
            "15\n",
            "18\n"
          ]
        }
      ]
    },
    {
      "cell_type": "markdown",
      "source": [
        "- Use Cases\n",
        " - Implementing custom callable objects.\n",
        " - Simplifying syntax for frequently used operations\n",
        " - ![Screenshot 2025-04-12 190344.png](data:image/png;base64,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)"
      ],
      "metadata": {
        "id": "9XYTJbj4M_Hx"
      }
    },
    {
      "cell_type": "markdown",
      "source": [
        "# Practical Questions"
      ],
      "metadata": {
        "id": "1CoeDREuvM0X"
      }
    },
    {
      "cell_type": "markdown",
      "source": [
        "1. Create a parent class Animal with a method speak() that prints a generic message. Create a child class Dog that overrides the speak() method to print \"Bark!\"."
      ],
      "metadata": {
        "id": "mArFuEgmtbpZ"
      }
    },
    {
      "cell_type": "code",
      "source": [
        "class Animal:\n",
        "    def speak(self):\n",
        "        print(\"Generic animal sound\")\n",
        "\n",
        "class Dog(Animal):\n",
        "    def speak(self):\n",
        "        print(\"Bark!\")\n",
        "\n",
        "# Example usage:\n",
        "animal = Animal()\n",
        "animal.speak()\n",
        "\n",
        "dog = Dog()\n",
        "dog.speak()"
      ],
      "metadata": {
        "colab": {
          "base_uri": "https://localhost:8080/"
        },
        "id": "dNCrMgKVuPtw",
        "outputId": "b18c3021-2b9d-480a-f2de-e94a4990ff76"
      },
      "execution_count": 1,
      "outputs": [
        {
          "output_type": "stream",
          "name": "stdout",
          "text": [
            "Generic animal sound\n",
            "Bark!\n"
          ]
        }
      ]
    },
    {
      "cell_type": "markdown",
      "source": [
        "2. Write a program to create an abstract class Shape with a method area(). Derive classes Circle and Rectangle\n",
        "\n"
      ],
      "metadata": {
        "id": "vLEITLsJuTbQ"
      }
    },
    {
      "cell_type": "code",
      "source": [
        "from abc import ABC, abstractmethod\n",
        "import math\n",
        "\n",
        "class Shape(ABC):\n",
        "    @abstractmethod\n",
        "    def area(self):\n",
        "        pass\n",
        "\n",
        "class Circle(Shape):\n",
        "    def __init__(self, radius):\n",
        "        self.radius = radius\n",
        "\n",
        "    def area(self):\n",
        "        return math.pi * self.radius**2\n",
        "\n",
        "class Rectangle(Shape):\n",
        "    def __init__(self, length, width):\n",
        "        self.length = length\n",
        "        self.width = width\n",
        "\n",
        "    def area(self):\n",
        "        return self.length * self.width\n",
        "\n",
        "# Example usage:\n",
        "# shape = Shape()  # This will raise a TypeError because Shape is an abstract class\n",
        "\n",
        "circle = Circle(5)\n",
        "print(f\"Area of the circle: {circle.area()}\")\n",
        "\n",
        "rectangle = Rectangle(4, 6)\n",
        "print(f\"Area of the rectangle: {rectangle.area()}\")"
      ],
      "metadata": {
        "colab": {
          "base_uri": "https://localhost:8080/"
        },
        "id": "AnDbiAdcuwa4",
        "outputId": "8b6a8e68-1bca-47ee-b4ad-1f1ad6846840"
      },
      "execution_count": 2,
      "outputs": [
        {
          "output_type": "stream",
          "name": "stdout",
          "text": [
            "Area of the circle: 78.53981633974483\n",
            "Area of the rectangle: 24\n"
          ]
        }
      ]
    },
    {
      "cell_type": "markdown",
      "source": [
        "3.  Implement a multi-level inheritance scenario where a class Vehicle has an attribute type. Derive a class Car and further derive a class ElectricCar that adds a battery attribute."
      ],
      "metadata": {
        "id": "HgNcfgrNu23A"
      }
    },
    {
      "cell_type": "code",
      "source": [
        "class Vehicle:\n",
        "    def __init__(self, type):\n",
        "        self.type = type\n",
        "\n",
        "    def display_type(self):\n",
        "        print(f\"Vehicle Type: {self.type}\")\n",
        "\n",
        "class Car(Vehicle):\n",
        "    def __init__(self, model, type=\"Car\"):\n",
        "        super().__init__(type)\n",
        "        self.model = model\n",
        "\n",
        "    def display_model(self):\n",
        "        print(f\"Car Model: {self.model}\")\n",
        "\n",
        "class ElectricCar(Car):\n",
        "    def __init__(self, model, battery_capacity, type=\"Electric Car\"):\n",
        "        super().__init__(model, type)\n",
        "        self.battery_capacity = battery_capacity\n",
        "\n",
        "    def display_battery(self):\n",
        "        print(f\"Battery Capacity: {self.battery_capacity} kWh\")\n",
        "\n",
        "# Example Usage:\n",
        "vehicle = Vehicle(\"Generic\")\n",
        "vehicle.display_type()\n",
        "print(\"-\" * 20)\n",
        "\n",
        "car = Car(\"Sedan\")\n",
        "car.display_type()\n",
        "car.display_model()\n",
        "print(\"-\" * 20)\n",
        "\n",
        "electric_car = ElectricCar(\"Model E\", 75)\n",
        "electric_car.display_type()\n",
        "electric_car.display_model()\n",
        "electric_car.display_battery()"
      ],
      "metadata": {
        "colab": {
          "base_uri": "https://localhost:8080/"
        },
        "id": "3R3uQecvvIAB",
        "outputId": "4b1b3183-a97a-4f58-b0ce-ad086c13e84f"
      },
      "execution_count": 3,
      "outputs": [
        {
          "output_type": "stream",
          "name": "stdout",
          "text": [
            "Vehicle Type: Generic\n",
            "--------------------\n",
            "Vehicle Type: Car\n",
            "Car Model: Sedan\n",
            "--------------------\n",
            "Vehicle Type: Electric Car\n",
            "Car Model: Model E\n",
            "Battery Capacity: 75 kWh\n"
          ]
        }
      ]
    },
    {
      "cell_type": "markdown",
      "source": [
        "4. Demonstrate polymorphism by creating a base class Bird with a method fly(). Create two derived classes Sparrow and Penguin that override the fly() method.\n"
      ],
      "metadata": {
        "id": "bPq64x8rvTj-"
      }
    },
    {
      "cell_type": "code",
      "source": [
        "class Bird:\n",
        "    def fly(self):\n",
        "        print(\"Generic bird flying.\")\n",
        "\n",
        "class Sparrow(Bird):\n",
        "    def fly(self):\n",
        "        print(\"Sparrow is fluttering its wings and flying.\")\n",
        "\n",
        "class Penguin(Bird):\n",
        "    def fly(self):\n",
        "        print(\"Penguins can't fly, but they can swim gracefully.\")\n",
        "\n",
        "# Function that demonstrates polymorphism\n",
        "def bird_action(bird):\n",
        "    bird.fly()\n",
        "\n",
        "# Creating instances of the derived classes\n",
        "generic_bird = Bird()\n",
        "sparrow = Sparrow()\n",
        "penguin = Penguin()\n",
        "\n",
        "# Demonstrating polymorphism\n",
        "print(\"Action with a generic bird:\")\n",
        "bird_action(generic_bird)\n",
        "\n",
        "print(\"\\nAction with a sparrow:\")\n",
        "bird_action(sparrow)\n",
        "\n",
        "print(\"\\nAction with a penguin:\")\n",
        "bird_action(penguin)\n",
        "\n",
        "# Another way to demonstrate polymorphism using a list\n",
        "birds = [Sparrow(), Penguin()]\n",
        "print(\"\\nActions with a list of birds:\")\n",
        "for bird in birds:\n",
        "    bird.fly()"
      ],
      "metadata": {
        "colab": {
          "base_uri": "https://localhost:8080/"
        },
        "id": "K8KG7kjPvhHy",
        "outputId": "1d38bfcb-96d7-44b8-90b2-2fa6da24062e"
      },
      "execution_count": 4,
      "outputs": [
        {
          "output_type": "stream",
          "name": "stdout",
          "text": [
            "Action with a generic bird:\n",
            "Generic bird flying.\n",
            "\n",
            "Action with a sparrow:\n",
            "Sparrow is fluttering its wings and flying.\n",
            "\n",
            "Action with a penguin:\n",
            "Penguins can't fly, but they can swim gracefully.\n",
            "\n",
            "Actions with a list of birds:\n",
            "Sparrow is fluttering its wings and flying.\n",
            "Penguins can't fly, but they can swim gracefully.\n"
          ]
        }
      ]
    },
    {
      "cell_type": "markdown",
      "source": [
        "5. Write a program to demonstrate encapsulation by creating a class BankAccount with private attributes\n",
        "balance and methods to deposit, withdraw, and check balance."
      ],
      "metadata": {
        "id": "B0p7BYEVvn06"
      }
    },
    {
      "cell_type": "code",
      "source": [
        "class BankAccount:\n",
        "    def __init__(self, account_number, initial_balance=0):\n",
        "        self.__account_number = account_number  # Private attribute (name mangling)\n",
        "        self.__balance = initial_balance       # Private attribute (name mangling)\n",
        "\n",
        "    def deposit(self, amount):\n",
        "        if amount > 0:\n",
        "            self.__balance += amount\n",
        "            print(f\"Deposited ${amount}. New balance: ${self.__balance}\")\n",
        "        else:\n",
        "            print(\"Deposit amount must be positive.\")\n",
        "\n",
        "    def withdraw(self, amount):\n",
        "        if amount > 0:\n",
        "            if amount <= self.__balance:\n",
        "                self.__balance -= amount\n",
        "                print(f\"Withdrew ${amount}. New balance: ${self.__balance}\")\n",
        "            else:\n",
        "                print(\"Insufficient balance.\")\n",
        "        else:\n",
        "            print(\"Withdrawal amount must be positive.\")\n",
        "\n",
        "    def check_balance(self):\n",
        "        return self.__balance\n",
        "\n",
        "    def get_account_number(self): # Providing a controlled way to access account number\n",
        "        return self.__account_number\n",
        "\n",
        "# Example Usage:\n",
        "account1 = BankAccount(\"123456\", 1000)\n",
        "\n",
        "# Trying to access private attributes directly (will result in an AttributeError)\n",
        "# print(account1.__balance)\n",
        "# account1.__balance = 500  # This won't actually change the intended private attribute\n",
        "\n",
        "# Accessing attributes and methods through the defined interface\n",
        "print(f\"Account Number: {account1.get_account_number()}\")\n",
        "print(f\"Initial Balance: ${account1.check_balance()}\")\n",
        "\n",
        "account1.deposit(500)\n",
        "account1.withdraw(200)\n",
        "account1.withdraw(1500)\n",
        "\n",
        "print(f\"Current Balance: ${account1.check_balance()}\")"
      ],
      "metadata": {
        "colab": {
          "base_uri": "https://localhost:8080/"
        },
        "id": "ufbHDfnyvujo",
        "outputId": "d439a220-85dd-4ea5-cd17-484c32bf9e88"
      },
      "execution_count": 5,
      "outputs": [
        {
          "output_type": "stream",
          "name": "stdout",
          "text": [
            "Account Number: 123456\n",
            "Initial Balance: $1000\n",
            "Deposited $500. New balance: $1500\n",
            "Withdrew $200. New balance: $1300\n",
            "Insufficient balance.\n",
            "Current Balance: $1300\n"
          ]
        }
      ]
    },
    {
      "cell_type": "markdown",
      "source": [
        "6. Demonstrate runtime polymorphism using a method play() in a base class Instrument. Derive classes Guitar\n",
        "and Piano that implement their own version of play()"
      ],
      "metadata": {
        "id": "efJDtJ7nv26C"
      }
    },
    {
      "cell_type": "code",
      "source": [
        "class Instrument:\n",
        "    def play(self):\n",
        "        print(\"Generic instrument sound.\")\n",
        "\n",
        "class Guitar(Instrument):\n",
        "    def play(self):\n",
        "        print(\"Strumming the guitar strings.\")\n",
        "\n",
        "class Piano(Instrument):\n",
        "    def play(self):\n",
        "        print(\"Playing the piano keys.\")\n",
        "\n",
        "# Function that demonstrates runtime polymorphism\n",
        "def perform(instrument):\n",
        "    instrument.play()\n",
        "\n",
        "# Creating instances of the derived classes\n",
        "instrument = Instrument()\n",
        "guitar = Guitar()\n",
        "piano = Piano()\n",
        "\n",
        "# Demonstrating runtime polymorphism\n",
        "print(\"Performing with a generic instrument:\")\n",
        "perform(instrument)\n",
        "\n",
        "print(\"\\nPerforming with a guitar:\")\n",
        "perform(guitar)\n",
        "\n",
        "print(\"\\nPerforming with a piano:\")\n",
        "perform(piano)\n",
        "\n",
        "# Another way to demonstrate runtime polymorphism using a list\n",
        "orchestra = [Guitar(), Piano(), Instrument()]\n",
        "print(\"\\nOrchestra performance:\")\n",
        "for musical_instrument in orchestra:\n",
        "    musical_instrument.play()"
      ],
      "metadata": {
        "colab": {
          "base_uri": "https://localhost:8080/"
        },
        "id": "DWDPU196v95u",
        "outputId": "36e72cc4-ed54-4e72-b1a5-0a5a9f06203d"
      },
      "execution_count": 6,
      "outputs": [
        {
          "output_type": "stream",
          "name": "stdout",
          "text": [
            "Performing with a generic instrument:\n",
            "Generic instrument sound.\n",
            "\n",
            "Performing with a guitar:\n",
            "Strumming the guitar strings.\n",
            "\n",
            "Performing with a piano:\n",
            "Playing the piano keys.\n",
            "\n",
            "Orchestra performance:\n",
            "Strumming the guitar strings.\n",
            "Playing the piano keys.\n",
            "Generic instrument sound.\n"
          ]
        }
      ]
    },
    {
      "cell_type": "markdown",
      "source": [
        "7. Create a class MathOperations with a class method add_numbers() to add two numbers and a static\n",
        "method subtract_numbers() to subtract two numbers.\n",
        "\n",
        "\n"
      ],
      "metadata": {
        "id": "_EI4uv-QwTGo"
      }
    },
    {
      "cell_type": "code",
      "source": [
        "class MathOperations:\n",
        "    @classmethod\n",
        "    def add_numbers(cls, num1, num2):\n",
        "        \"\"\"Class method to add two numbers.\"\"\"\n",
        "        return num1 + num2\n",
        "\n",
        "    @staticmethod\n",
        "    def subtract_numbers(num1, num2):\n",
        "        \"\"\"Static method to subtract two numbers.\"\"\"\n",
        "        return num1 - num2\n",
        "\n",
        "# Example Usage:\n",
        "\n",
        "# Calling the class method\n",
        "sum_result = MathOperations.add_numbers(5, 3)\n",
        "print(f\"Sum: {sum_result}\")\n",
        "\n",
        "# Calling the static method\n",
        "difference_result = MathOperations.subtract_numbers(10, 4)\n",
        "print(f\"Difference: {difference_result}\")\n",
        "\n",
        "# You can also call them through an instance of the class (though it's less common for static methods)\n",
        "math_ops = MathOperations()\n",
        "sum_result_instance = math_ops.add_numbers(2, 7)\n",
        "difference_result_instance = math_ops.subtract_numbers(15, 6)\n",
        "\n",
        "print(f\"Sum (via instance): {sum_result_instance}\")\n",
        "print(f\"Difference (via instance): {difference_result_instance}\")"
      ],
      "metadata": {
        "colab": {
          "base_uri": "https://localhost:8080/"
        },
        "id": "mkSXmkm5wUwQ",
        "outputId": "b0bfb0f5-8e99-415f-e098-bd26119ea514"
      },
      "execution_count": 7,
      "outputs": [
        {
          "output_type": "stream",
          "name": "stdout",
          "text": [
            "Sum: 8\n",
            "Difference: 6\n",
            "Sum (via instance): 9\n",
            "Difference (via instance): 9\n"
          ]
        }
      ]
    },
    {
      "cell_type": "markdown",
      "source": [
        "8. Implement a class Person with a class method to count the total number of persons created."
      ],
      "metadata": {
        "id": "dPP3ZXEbwipu"
      }
    },
    {
      "cell_type": "code",
      "source": [
        "class Person:\n",
        "    count = 0  # Class variable to keep track of the number of persons\n",
        "\n",
        "    def __init__(self, name):\n",
        "        self.name = name\n",
        "        Person.increment_count()  # Increment the count when a new person is created\n",
        "\n",
        "    @classmethod\n",
        "    def increment_count(cls):\n",
        "        \"\"\"Class method to increment the count of persons.\"\"\"\n",
        "        cls.count += 1\n",
        "\n",
        "    @classmethod\n",
        "    def get_person_count(cls):\n",
        "        \"\"\"Class method to get the total number of persons created.\"\"\"\n",
        "        return cls.count\n",
        "\n",
        "# Example Usage:\n",
        "print(f\"Initial person count: {Person.get_person_count()}\")\n",
        "\n",
        "person1 = Person(\"Alice\")\n",
        "print(f\"Person count after creating Alice: {Person.get_person_count()}\")\n",
        "\n",
        "person2 = Person(\"Bob\")\n",
        "person3 = Person(\"Charlie\")\n",
        "print(f\"Person count after creating Bob and Charlie: {Person.get_person_count()}\")"
      ],
      "metadata": {
        "colab": {
          "base_uri": "https://localhost:8080/"
        },
        "id": "i3EhxGJkwtg-",
        "outputId": "210944ec-f96e-4bec-848e-04c3be743d41"
      },
      "execution_count": 8,
      "outputs": [
        {
          "output_type": "stream",
          "name": "stdout",
          "text": [
            "Initial person count: 0\n",
            "Person count after creating Alice: 1\n",
            "Person count after creating Bob and Charlie: 3\n"
          ]
        }
      ]
    },
    {
      "cell_type": "markdown",
      "source": [
        "9. Write a class Fraction with attributes numerator and denominator. Override the str method to display the\n",
        "fraction as \"numerator/denominator\"."
      ],
      "metadata": {
        "id": "c-vcxv90wyy-"
      }
    },
    {
      "cell_type": "code",
      "source": [
        "class Fraction:\n",
        "    def __init__(self, numerator, denominator):\n",
        "        if denominator == 0:\n",
        "            raise ValueError(\"Denominator cannot be zero.\")\n",
        "        self.numerator = numerator\n",
        "        self.denominator = denominator\n",
        "\n",
        "    def __str__(self):\n",
        "        \"\"\"Overrides the str() method to display the fraction in the format 'numerator/denominator'.\"\"\"\n",
        "        return f\"{self.numerator}/{self.denominator}\"\n",
        "\n",
        "# Example Usage:\n",
        "fraction1 = Fraction(3, 4)\n",
        "print(fraction1)  # Output: 3/4\n",
        "\n",
        "fraction2 = Fraction(1, 2)\n",
        "print(fraction2)  # Output: 1/2\n",
        "\n",
        "# You can also use the str() function explicitly\n",
        "print(str(fraction1))  # Output: 3/4\n",
        "\n",
        "# Trying to create a fraction with a zero denominator will raise a ValueError\n",
        "# fraction_error = Fraction(5, 0)"
      ],
      "metadata": {
        "colab": {
          "base_uri": "https://localhost:8080/"
        },
        "id": "Jh3n8FwnxLUR",
        "outputId": "991d8bab-94e7-4aca-a603-3b4168e40a9d"
      },
      "execution_count": 9,
      "outputs": [
        {
          "output_type": "stream",
          "name": "stdout",
          "text": [
            "3/4\n",
            "1/2\n",
            "3/4\n"
          ]
        }
      ]
    },
    {
      "cell_type": "markdown",
      "source": [
        "10. Demonstrate operator overloading by creating a class Vector and overriding the add method to add two vectors."
      ],
      "metadata": {
        "id": "ZVtQKmkOxUDu"
      }
    },
    {
      "cell_type": "code",
      "source": [
        "class Vector:\n",
        "    def __init__(self, x, y):\n",
        "        self.x = x\n",
        "        self.y = y\n",
        "\n",
        "    def __str__(self):\n",
        "        return f\"Vector({self.x}, {self.y})\"\n",
        "\n",
        "    def __add__(self, other):\n",
        "        \"\"\"Overrides the addition operator (+) for Vector objects.\"\"\"\n",
        "        if isinstance(other, Vector):\n",
        "            return Vector(self.x + other.x, self.y + other.y)\n",
        "        else:\n",
        "            raise TypeError(\"Can only add another Vector object.\")\n",
        "\n",
        "# Example Usage:\n",
        "v1 = Vector(1, 2)\n",
        "v2 = Vector(3, 4)\n",
        "\n",
        "print(f\"Vector 1: {v1}\")\n",
        "print(f\"Vector 2: {v2}\")\n",
        "\n",
        "# Using the overloaded addition operator (+)\n",
        "v3 = v1 + v2\n",
        "print(f\"Vector 1 + Vector 2: {v3}\")\n",
        "\n",
        "# Trying to add a Vector with a non-Vector object will raise a TypeError\n"
      ],
      "metadata": {
        "colab": {
          "base_uri": "https://localhost:8080/"
        },
        "id": "P6bTUphKxgd-",
        "outputId": "ab9383b8-0e7c-4bc2-9175-771df5eb292f"
      },
      "execution_count": 10,
      "outputs": [
        {
          "output_type": "stream",
          "name": "stdout",
          "text": [
            "Vector 1: Vector(1, 2)\n",
            "Vector 2: Vector(3, 4)\n",
            "Vector 1 + Vector 2: Vector(4, 6)\n"
          ]
        }
      ]
    },
    {
      "cell_type": "markdown",
      "source": [
        "11. Create a class Person with attributes name and age. Add a method greet() that prints \"Hello, my name is {name} and I am {age} years old.\""
      ],
      "metadata": {
        "id": "95rALisrxoun"
      }
    },
    {
      "cell_type": "code",
      "source": [
        "class Person:\n",
        "    def __init__(self, name, age):\n",
        "        self.name = name\n",
        "        self.age = age\n",
        "\n",
        "    def greet(self):\n",
        "        \"\"\"Prints a greeting message with the person's name and age.\"\"\"\n",
        "        print(f\"Hello, my name is {self.name} and I am {self.age} years old.\")\n",
        "\n",
        "# Example Usage:\n",
        "person1 = Person(\"Alice\", 30)\n",
        "person1.greet()\n",
        "\n",
        "person2 = Person(\"Bob\", 25)\n",
        "person2.greet()"
      ],
      "metadata": {
        "colab": {
          "base_uri": "https://localhost:8080/"
        },
        "id": "YtpQAz0lx2wP",
        "outputId": "54b062b6-97f1-463c-a623-3fadf85196d7"
      },
      "execution_count": 11,
      "outputs": [
        {
          "output_type": "stream",
          "name": "stdout",
          "text": [
            "Hello, my name is Alice and I am 30 years old.\n",
            "Hello, my name is Bob and I am 25 years old.\n"
          ]
        }
      ]
    },
    {
      "cell_type": "markdown",
      "source": [
        "12. Implement a class Student with attributes name and grades. Create a method average_grade() to compute\n",
        "the average of the grades."
      ],
      "metadata": {
        "id": "XoiKL771yUcg"
      }
    },
    {
      "cell_type": "code",
      "source": [
        "class Student:\n",
        "    def __init__(self, name, grades):\n",
        "        \"\"\"\n",
        "        Initializes a Student object.\n",
        "\n",
        "        Args:\n",
        "            name (str): The name of the student.\n",
        "            grades (list): A list of numerical grades for the student.\n",
        "        \"\"\"\n",
        "        self.name = name\n",
        "        self.grades = grades\n",
        "\n",
        "    def average_grade(self):\n",
        "        \"\"\"\n",
        "        Computes the average of the student's grades.\n",
        "\n",
        "        Returns:\n",
        "            float: The average grade, or 0 if the grades list is empty.\n",
        "        \"\"\"\n",
        "        if not self.grades:\n",
        "            return 0\n",
        "        return sum(self.grades) / len(self.grades)\n",
        "\n",
        "# Example Usage:\n",
        "student1 = Student(\"Alice\", [85, 90, 78, 92])\n",
        "average1 = student1.average_grade()\n",
        "print(f\"{student1.name}'s average grade: {average1}\")\n",
        "\n",
        "student2 = Student(\"Bob\", [76, 88, 80])\n",
        "average2 = student2.average_grade()\n",
        "print(f\"{student2.name}'s average grade: {average2}\")\n",
        "\n",
        "student3 = Student(\"Charlie\", [])\n",
        "average3 = student3.average_grade()\n",
        "print(f\"{student3.name}'s average grade: {average3}\")"
      ],
      "metadata": {
        "colab": {
          "base_uri": "https://localhost:8080/"
        },
        "id": "vWzHlLb0yZY_",
        "outputId": "b5a66b99-fe94-4900-9b0f-bb72118b6010"
      },
      "execution_count": 12,
      "outputs": [
        {
          "output_type": "stream",
          "name": "stdout",
          "text": [
            "Alice's average grade: 86.25\n",
            "Bob's average grade: 81.33333333333333\n",
            "Charlie's average grade: 0\n"
          ]
        }
      ]
    },
    {
      "cell_type": "markdown",
      "source": [
        "13. Create a class Rectangle with methods set_dimensions() to set the dimensions and area() to calculate the\n",
        "area"
      ],
      "metadata": {
        "id": "saRwGe-_ynNm"
      }
    },
    {
      "cell_type": "code",
      "source": [
        "class Rectangle:\n",
        "    def __init__(self):\n",
        "        \"\"\"\n",
        "        Initializes a Rectangle object with default dimensions of 0.\n",
        "        \"\"\"\n",
        "        self.length = 0\n",
        "        self.width = 0\n",
        "\n",
        "    def set_dimensions(self, length, width):\n",
        "        \"\"\"\n",
        "        Sets the dimensions (length and width) of the rectangle.\n",
        "\n",
        "        Args:\n",
        "            length (float): The length of the rectangle.\n",
        "            width (float): The width of the rectangle.\n",
        "        \"\"\"\n",
        "        if length < 0 or width < 0:\n",
        "            raise ValueError(\"Dimensions must be non-negative.\")\n",
        "        self.length = length\n",
        "        self.width = width\n",
        "\n",
        "    def area(self):\n",
        "        \"\"\"\n",
        "        Calculates the area of the rectangle.\n",
        "\n",
        "        Returns:\n",
        "            float: The area of the rectangle (length * width).\n",
        "        \"\"\"\n",
        "        return self.length * self.width\n",
        "\n",
        "# Example Usage:\n",
        "rectangle1 = Rectangle()  # Create an instance with default dimensions\n",
        "rectangle1.set_dimensions(5, 10)  # Set the dimensions\n",
        "area1 = rectangle1.area()  # Calculate the area\n",
        "print(f\"Area of rectangle1: {area1}\")  # Print the area\n",
        "\n",
        "rectangle2 = Rectangle()\n",
        "rectangle2.set_dimensions(7, 3)\n",
        "area2 = rectangle2.area()\n",
        "print(f\"Area of rectangle2: {area2}\")\n",
        "\n",
        "# Example of error handling:\n",
        "rectangle3 = Rectangle()\n",
        "try:\n",
        "    rectangle3.set_dimensions(-2, 4)  # Try to set invalid dimensions\n",
        "except ValueError as e:\n",
        "    print(f\"Error: {e}\")  # Print the error message\n"
      ],
      "metadata": {
        "colab": {
          "base_uri": "https://localhost:8080/"
        },
        "id": "lubVq5d3ypw3",
        "outputId": "30d52e91-8b7e-4be9-e553-068f43272d46"
      },
      "execution_count": 13,
      "outputs": [
        {
          "output_type": "stream",
          "name": "stdout",
          "text": [
            "Area of rectangle1: 50\n",
            "Area of rectangle2: 21\n",
            "Error: Dimensions must be non-negative.\n"
          ]
        }
      ]
    },
    {
      "cell_type": "markdown",
      "source": [
        "14. Create a class Employee with a method calculate_salary() that computes the salary based on hours worked\n",
        "and hourly rate. Create a derived class Manager that adds a bonus to the salary."
      ],
      "metadata": {
        "id": "GkQji6Qoy7vX"
      }
    },
    {
      "cell_type": "code",
      "source": [
        "class Employee:\n",
        "    def __init__(self, name, hourly_rate, hours_worked):\n",
        "        \"\"\"\n",
        "        Initializes an Employee object.\n",
        "\n",
        "        Args:\n",
        "            name (str): The name of the employee.\n",
        "            hourly_rate (float): The hourly rate of pay.\n",
        "            hours_worked (float): The number of hours worked.\n",
        "        \"\"\"\n",
        "        self.name = name\n",
        "        self.hourly_rate = hourly_rate\n",
        "        self.hours_worked = hours_worked\n",
        "\n",
        "    def calculate_salary(self):\n",
        "        \"\"\"\n",
        "        Calculates the salary of the employee.\n",
        "\n",
        "        Returns:\n",
        "            float: The salary (hourly_rate * hours_worked).\n",
        "        \"\"\"\n",
        "        return self.hourly_rate * self.hours_worked\n",
        "\n",
        "class Manager(Employee):\n",
        "    def __init__(self, name, hourly_rate, hours_worked, bonus):\n",
        "        \"\"\"\n",
        "        Initializes a Manager object, inheriting from Employee.\n",
        "\n",
        "        Args:\n",
        "            name (str): The name of the manager.\n",
        "            hourly_rate (float): The hourly rate of pay.\n",
        "            hours_worked (float): The number of hours worked.\n",
        "            bonus (float): The bonus to add to the salary.\n",
        "        \"\"\"\n",
        "        super().__init__(name, hourly_rate, hours_worked)\n",
        "        self.bonus = bonus\n",
        "\n",
        "    def calculate_salary(self):\n",
        "        \"\"\"\n",
        "        Calculates the salary of the manager, including the bonus.\n",
        "        This method overrides the calculate_salary() method of the Employee class.\n",
        "\n",
        "        Returns:\n",
        "            float: The salary (hourly_rate * hours_worked + bonus).\n",
        "        \"\"\"\n",
        "        return super().calculate_salary() + self.bonus\n",
        "\n",
        "# Example Usage:\n",
        "employee1 = Employee(\"Alice\", 20, 40)\n",
        "salary1 = employee1.calculate_salary()\n",
        "print(f\"{employee1.name}'s salary: ${salary1}\")\n",
        "\n",
        "manager1 = Manager(\"Bob\", 30, 40, 500)\n",
        "salary2 = manager1.calculate_salary()\n",
        "print(f\"{manager1.name}'s salary: ${salary2}\")\n"
      ],
      "metadata": {
        "colab": {
          "base_uri": "https://localhost:8080/"
        },
        "id": "_4dG6jmMy8te",
        "outputId": "0a193db3-7fba-4015-e15c-57c1d055eecf"
      },
      "execution_count": 14,
      "outputs": [
        {
          "output_type": "stream",
          "name": "stdout",
          "text": [
            "Alice's salary: $800\n",
            "Bob's salary: $1700\n"
          ]
        }
      ]
    },
    {
      "cell_type": "markdown",
      "source": [
        "15. Create a class Product with attributes name, price, and quantity. Implement a method total_price() that\n",
        "calculates the total price of the product."
      ],
      "metadata": {
        "id": "8cgCodlQzIzP"
      }
    },
    {
      "cell_type": "code",
      "source": [
        "class Product:\n",
        "    def __init__(self, name, price, quantity):\n",
        "        \"\"\"\n",
        "        Initializes a Product object.\n",
        "\n",
        "        Args:\n",
        "            name (str): The name of the product.\n",
        "            price (float): The price of the product.\n",
        "            quantity (int): The quantity of the product.\n",
        "        \"\"\"\n",
        "        self.name = name\n",
        "        self.price = price\n",
        "        self.quantity = quantity\n",
        "\n",
        "    def total_price(self):\n",
        "        \"\"\"\n",
        "        Calculates the total price of the product.\n",
        "\n",
        "        Returns:\n",
        "            float: The total price (price * quantity).\n",
        "        \"\"\"\n",
        "        return self.price * self.quantity\n",
        "\n",
        "# Example Usage:\n",
        "product1 = Product(\"Laptop\", 1200, 5)\n",
        "total_price1 = product1.total_price()\n",
        "print(f\"Total price of {product1.name}: ${total_price1}\")\n",
        "\n",
        "product2 = Product(\"Mouse\", 25, 20)\n",
        "total_price2 = product2.total_price()\n",
        "print(f\"Total price of {product2.name}: ${total_price2}\")\n"
      ],
      "metadata": {
        "colab": {
          "base_uri": "https://localhost:8080/"
        },
        "id": "Q42yDAj1zJ_u",
        "outputId": "d52ad1a0-34cd-4888-ad26-d4a362c2b135"
      },
      "execution_count": 15,
      "outputs": [
        {
          "output_type": "stream",
          "name": "stdout",
          "text": [
            "Total price of Laptop: $6000\n",
            "Total price of Mouse: $500\n"
          ]
        }
      ]
    },
    {
      "cell_type": "markdown",
      "source": [
        "16. Create a class Animal with an abstract method sound(). Create two derived classes Cow and Sheep that\n",
        "implement the sound() method.\n",
        "\n"
      ],
      "metadata": {
        "id": "9ygOve_czdF2"
      }
    },
    {
      "cell_type": "code",
      "source": [
        "from abc import ABC, abstractmethod\n",
        "\n",
        "class Animal(ABC):\n",
        "    \"\"\"\n",
        "    An abstract base class for animals.\n",
        "    \"\"\"\n",
        "    @abstractmethod\n",
        "    def sound(self):\n",
        "        \"\"\"\n",
        "        Abstract method to define the sound made by the animal.\n",
        "        This method must be implemented by any class that inherits from Animal.\n",
        "        \"\"\"\n",
        "        pass\n",
        "\n",
        "class Cow(Animal):\n",
        "    \"\"\"\n",
        "    A class representing a cow, derived from Animal.\n",
        "    \"\"\"\n",
        "    def sound(self):\n",
        "        \"\"\"\n",
        "        Implements the sound() method for Cow.\n",
        "        \"\"\"\n",
        "        return \"Moo!\"\n",
        "\n",
        "class Sheep(Animal):\n",
        "    \"\"\"\n",
        "    A class representing a sheep, derived from Animal.\n",
        "    \"\"\"\n",
        "    def sound(self):\n",
        "        \"\"\"\n",
        "        Implements the sound() method for Sheep.\n",
        "        \"\"\"\n",
        "        return \"Baa!\"\n",
        "\n",
        "# Example Usage:\n",
        "cow = Cow()\n",
        "sheep = Sheep()\n",
        "\n",
        "print(f\"Cow says: {cow.sound()}\")\n",
        "print(f\"Sheep says: {sheep.sound()}\")\n",
        "\n",
        "# Note: You cannot directly instantiate the abstract class Animal:\n",
        "# animal = Animal()  # This will raise a TypeError\n"
      ],
      "metadata": {
        "colab": {
          "base_uri": "https://localhost:8080/"
        },
        "id": "F6iZp9UGziSH",
        "outputId": "ec8928ef-c433-47dd-d214-6ac7f002fa52"
      },
      "execution_count": 16,
      "outputs": [
        {
          "output_type": "stream",
          "name": "stdout",
          "text": [
            "Cow says: Moo!\n",
            "Sheep says: Baa!\n"
          ]
        }
      ]
    },
    {
      "cell_type": "markdown",
      "source": [
        "17. Create a class Book with attributes title, author, and year_published. Add a method get_book_info() that\n",
        "returns a formatted string with the book's details."
      ],
      "metadata": {
        "id": "VDA2MmAVzqHw"
      }
    },
    {
      "cell_type": "code",
      "source": [
        "class Book:\n",
        "    \"\"\"\n",
        "    A class representing a book.\n",
        "    \"\"\"\n",
        "    def __init__(self, title, author, year_published):\n",
        "        \"\"\"\n",
        "        Initializes a Book object.\n",
        "\n",
        "        Args:\n",
        "            title (str): The title of the book.\n",
        "            author (str): The author of the book.\n",
        "            year_published (int): The year the book was published.\n",
        "        \"\"\"\n",
        "        self.title = title\n",
        "        self.author = author\n",
        "        self.year_published = year_published\n",
        "\n",
        "    def get_book_info(self):\n",
        "        \"\"\"\n",
        "        Returns a formatted string with the book's details.\n",
        "\n",
        "        Returns:\n",
        "            str: A string containing the title, author, and year of publication.\n",
        "        \"\"\"\n",
        "        return f\"Title: {self.title}, Author: {self.author}, Year Published: {self.year_published}\"\n",
        "\n",
        "# Example Usage:\n",
        "book1 = Book(\"The Lord of the Rings\", \"J.R.R. Tolkien\", 1954)\n",
        "book2 = Book(\"Pride and Prejudice\", \"Jane Austen\", 1813)\n",
        "\n",
        "print(book1.get_book_info())\n",
        "print(book2.get_book_info())\n"
      ],
      "metadata": {
        "colab": {
          "base_uri": "https://localhost:8080/"
        },
        "id": "1aB-tpZTztNW",
        "outputId": "a5ba7f24-73dc-4d5c-840b-1c49dafbaeb6"
      },
      "execution_count": 17,
      "outputs": [
        {
          "output_type": "stream",
          "name": "stdout",
          "text": [
            "Title: The Lord of the Rings, Author: J.R.R. Tolkien, Year Published: 1954\n",
            "Title: Pride and Prejudice, Author: Jane Austen, Year Published: 1813\n"
          ]
        }
      ]
    },
    {
      "cell_type": "markdown",
      "source": [
        "18. Create a class House with attributes address and price. Create a derived class Mansion that adds an\n",
        "attribute number_of_rooms."
      ],
      "metadata": {
        "id": "B7xNXACI0K1a"
      }
    },
    {
      "cell_type": "code",
      "source": [
        "class House:\n",
        "    \"\"\"\n",
        "    A class representing a house.\n",
        "    \"\"\"\n",
        "    def __init__(self, address, price):\n",
        "        \"\"\"\n",
        "        Initializes a House object.\n",
        "\n",
        "        Args:\n",
        "            address (str): The address of the house.\n",
        "            price (float): The price of the house.\n",
        "        \"\"\"\n",
        "        self.address = address\n",
        "        self.price = price\n",
        "\n",
        "    def get_house_info(self):\n",
        "        \"\"\"\n",
        "        Returns a formatted string with the house's details.\n",
        "\n",
        "        Returns:\n",
        "            str: A string containing the address and price.\n",
        "        \"\"\"\n",
        "        return f\"Address: {self.address}, Price: ${self.price}\"\n",
        "\n",
        "\n",
        "class Mansion(House):\n",
        "    \"\"\"\n",
        "    A class representing a mansion, derived from House.\n",
        "    \"\"\"\n",
        "    def __init__(self, address, price, number_of_rooms):\n",
        "        \"\"\"\n",
        "        Initializes a Mansion object.\n",
        "\n",
        "        Args:\n",
        "            address (str): The address of the mansion.\n",
        "            price (float): The price of the mansion.\n",
        "            number_of_rooms (int): The number of rooms in the mansion.\n",
        "        \"\"\"\n",
        "        super().__init__(address, price)  # Call the parent class's constructor\n",
        "        self.number_of_rooms = number_of_rooms\n",
        "\n",
        "    def get_mansion_info(self):\n",
        "        \"\"\"\n",
        "        Returns a formatted string with the mansion's details, including the number of rooms.\n",
        "\n",
        "        Returns:\n",
        "            str: A string containing the address, price, and number of rooms.\n",
        "        \"\"\"\n",
        "        house_info = super().get_house_info() # Get info from parent class\n",
        "        return f\"{house_info}, Number of Rooms: {self.number_of_rooms}\"\n",
        "\n",
        "\n",
        "# Example Usage:\n",
        "house1 = House(\"123 Main St\", 250000)\n",
        "print(house1.get_house_info())\n",
        "\n",
        "mansion1 = Mansion(\"456 Luxury Ave\", 1000000, 15)\n",
        "print(mansion1.get_mansion_info())\n"
      ],
      "metadata": {
        "colab": {
          "base_uri": "https://localhost:8080/"
        },
        "id": "hL0ge0y60MdO",
        "outputId": "bd0bcd3b-3f46-43a3-9f7c-c49f2966a937"
      },
      "execution_count": 18,
      "outputs": [
        {
          "output_type": "stream",
          "name": "stdout",
          "text": [
            "Address: 123 Main St, Price: $250000\n",
            "Address: 456 Luxury Ave, Price: $1000000, Number of Rooms: 15\n"
          ]
        }
      ]
    }
  ]
}